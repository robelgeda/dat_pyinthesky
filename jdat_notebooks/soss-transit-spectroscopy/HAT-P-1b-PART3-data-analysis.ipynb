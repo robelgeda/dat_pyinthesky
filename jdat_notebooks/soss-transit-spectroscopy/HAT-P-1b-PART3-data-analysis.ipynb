{
 "cells": [
  {
   "cell_type": "markdown",
   "metadata": {},
   "source": [
    "# Analyzing the JWST Pipeline products of HAT-P-1b observations with NIRISS/SOSS\n",
    "--------------------------------------------------------------\n",
    "**Author**: Néstor Espinoza (nespinoza@stsci.edu) | **Latest update**: August 23, 2020.\n",
    "\n",
    "## Table of contents\n",
    "1. [Introduction](#intro)\n",
    "2. [Spectral extraction](#extraction)\n",
    "   1. [Tracing the orders](#tracing)\n",
    "   2. [Extracting the spectra](#extracting)\n",
    "   3. [Time-stamps and wavelength solution](#timenwavelength)\n",
    "3. [Fitting & analyzing white-light lightcurves](#white-light)\n",
    "   1. [Studying the residuals](#wl-residuals)\n",
    "4. [Fitting & analyzing the wavelength-dependent lightcurves](#wavelength)\n",
    "5. [Studying the transit spectrum of HAT-P-1b](#transit-spectra)\n",
    "\n",
    "1.<font color='white'>-</font>Introduction <a class=\"anchor\" id=\"intro\"></a>\n",
    "------------------\n",
    "\n",
    "This notebook is part of a series of notebooks that are being prepared by STScI in order to showcase how to simulate, process and analyze JWST observations for a wide range of science cases. Here, we touch on the transiting exoplanet observations science case and, in particular, on spectrophotometric observations of the *primary transit of an exoplanet*. During primary transit, the observed flux decrease due to the planet blocking light from the stellar host is proportional to $\\delta = (R_p/R_*)^2$ --- a quantity known as the *transit depth*, where $R_p$ is the planetary radius and $R_*$ is the stellar radius. Interestingly, the transit depth is wavelength dependent; i.e., $\\delta \\equiv \\delta (\\lambda)$. This is because opacity sources on the planetary atmosphere absorb different amounts of light at different wavelengths and, therefore, the observed planetary radius $R_p$ --- and thus occulted area during transit, $\\delta$ --- is wavelength-dependent (see, e.g., [Kreidberg 2018](https://ui.adsabs.harvard.edu/abs/2018haex.bookE.100K/abstract) for a review). This technique, referred to as *transmission spectroscopy* in what follows, aims at obtaining those transit depths as a function of wavelength in JWST observations through the study of ultra-precise transit lightcurves at different wavelengths.\n",
    "\n",
    "Simulated data for NIRISS/SOSS observations targeting a transit of HAT-P-1b have been generated with the help of the [`awesimsoss` simulator](https://github.com/spacetelescope/awesimsoss/) by the NIRISS team. These simulations, in turn, have been calibrated using the [JWST pipeline](https://jwst-pipeline.readthedocs.io/). HAT-P-1b is a Guaranteed Time Observations (GTO) target of the [NIRISS Exploration of the Atmospheric diversity of Transiting exoplanets (NEAT) program](https://jwst-docs.stsci.edu/jwst-opportunities-and-policies/jwst-cycle-1-guaranteed-time-observations-call-for-proposals/jwst-gto-observation-specifications/jwst-gto-niriss-observations-table), which will be observed using the [NIRISS/SOSS](https://jwst-docs.stsci.edu/near-infrared-imager-and-slitless-spectrograph/niriss-observing-modes/niriss-single-object-slitless-spectroscopy) instrument onboard JWST. This target is also used as an [example science program used in the JWST documentation](https://jwst-docs.stsci.edu/near-infrared-imager-and-slitless-spectrograph/niriss-example-science-programs/niriss-soss-time-series-observations-of-hat-p-1). If you are not familiar with transiting exoplanet observations and/or with how JWST will observe planetary transits, we encourage you to read through that example science program in order to familiarize yourself with the terminology.\n",
    "\n",
    "In this notebook, we analyze the 2D spectral products of the JWST pipeline in order to analyze the transmission spectrum of this exoplanet. In particular, the data we take a look at here has been processed by the JWST pipeline up to the `assign_wcs` step of the pipeline's [Stage 2 processing](https://jwst-pipeline.readthedocs.io/en/latest/jwst/pipeline/calwebb_spec2.html#calwebb-spec2). The simulations didn't include flat-fielding, so we don't apply the flat-field step of the pipeline to them. Although the JWST Pipeline will eventually be able to produce white-light lightcurves, as well as extracted 1D spectra, as of the day of writing of this notebook, the JWST calibration pipeline does not have a spectral extraction algorithm that can deal with the complicated structure of NIRISS/SOSS data. In particular, the `SUBSTRIP256` subarray has data from at least two NIRISS/SOSS orders, which overlap at the reddest wavelengths. An algorithm to properly extract this data is in-the-making, but in this notebook we will be performing our own tracing and extraction of the spectra in order to showcase how to analyze the JWST pipeline products. After extracting the spectrum, we will generate the white-light lightcurves of each order, fit them and compare the extracted parameters to the ones in the literature. Then, we will repeat the procedures for the wavelength-dependent lightcurves, with which we will get the transmission spectrum of the exoplanet. \n",
    "\n",
    "Before we begin, let's import some libraries:"
   ]
  },
  {
   "cell_type": "code",
   "execution_count": null,
   "metadata": {},
   "outputs": [],
   "source": [
    "# General internal libraries:\n",
    "import os\n",
    "import numpy as np\n",
    "import pickle\n",
    "import matplotlib.pyplot as plt\n",
    "from numpy.polynomial import chebyshev\n",
    "from scipy.ndimage import gaussian_filter1d\n",
    "from mpl_toolkits.axes_grid1.inset_locator import mark_inset\n",
    "from scipy.interpolate import interp1d\n",
    "\n",
    "# Libraries for plotting, reading data:\n",
    "import seaborn as sns \n",
    "sns.set_style(\"ticks\") # Set seaborn \"ticks\" style for better styled plots\n",
    "from astropy.io import fits\n",
    "from astropy.utils.data import download_file\n",
    "# Library for some power-spectral density analysis:\n",
    "from astropy.timeseries import LombScargle\n",
    "\n",
    "# Useful library to obtain wavelength map solution from the JWST pipeline:\n",
    "from jwst import datamodels\n",
    "\n",
    "# Corner (for posterior distribution plotting):\n",
    "import corner\n",
    "# Juliet (for transit fitting & model evaluation:)\n",
    "import juliet"
   ]
  },
  {
   "cell_type": "markdown",
   "metadata": {},
   "source": [
    "2.<font color='white'>-</font>Spectral extraction <a class=\"anchor\" id=\"extraction\"></a>\n",
    "--------------------------------------------------------------------\n",
    "### A.<font color='white'>-</font>Tracing the orders<a class=\"anchor\" id=\"tracing\"></a>\n",
    "Before we can go ahead and perform spectral extraction of the orders, we need to trace them in order to guide the spectral extraction algorithm on where the spectrum is. Let's first do some data exploration to understand how we might do this with the complicated spectral profile of NIRISS/SOSS. \n",
    "\n",
    "The products with which we will be working with are the so-called \"rates\". These combine the information of all the groups in a given integration into one number, which is the slope of the up-the-ramp samples in a given integration (so they have units of counts per second). These calibrated data have been already corrected by various inhomogeneities present in the raw JWST data, such as bias and dark current. Let's download them (or load them if they are already on the same folder as this notebook), along with some supplementary data we will be using for this notebook --- if downloading, be patient, as this might take a while (the calibrated data are 12 GB worth of data!): "
   ]
  },
  {
   "cell_type": "code",
   "execution_count": null,
   "metadata": {},
   "outputs": [],
   "source": [
    "base_data_url = 'https://data.science.stsci.edu/redirect/JWST/jwst-data_analysis_tools/soss-transit-spectroscopy'\n",
    "transit_model_path = 'hp1_model.txt'\n",
    "transit_fits_results_path = 'transit_spectra_results.pkl'\n",
    "\n",
    "if not os.path.exists('calibrated_data_hatp1_transit.fits'):\n",
    "    file_path = download_file(base_data_url + '/data/calibrated_data_hatp1_transit.fits')\n",
    "    os.rename(file_path, 'calibrated_data_hatp1_transit.fits')\n",
    "    \n",
    "if not os.path.exists(transit_model_path):\n",
    "    file_path = download_file(base_data_url + '/data/hp1_tspec.dat')\n",
    "    os.rename(file_path, transit_model_path)\n",
    "    \n",
    "if not os.path.exists(transit_fits_results_path):\n",
    "    file_path = download_file(base_data_url + '/data/transit_spectra_results.pkl')\n",
    "    os.rename(file_path, transit_fits_results_path)"
   ]
  },
  {
   "cell_type": "markdown",
   "metadata": {},
   "source": [
    "Let's open the calibrated data, and explore its format and content:"
   ]
  },
  {
   "cell_type": "code",
   "execution_count": null,
   "metadata": {},
   "outputs": [],
   "source": [
    "hdul = fits.open('calibrated_data_hatp1_transit.fits')\n",
    "hdul.info()"
   ]
  },
  {
   "cell_type": "markdown",
   "metadata": {},
   "source": [
    "The data we will be mostly interested in working with is mainly on the `SCI` and `ERR` keys --- the former has the science data (the \"rates\") and the latter their errors. There is a lot of extra information in these pipeline products (e.g., the wavelength solution is here, as well as the time-stamps of the observations), but we will get to that in time. As can be seen, the `SCI` and `ERR` keys have three dimensions: the 2048 and 256 dimensions are the spatial ones (i.e., the 2D spectral dimensions). 1198, on the other hand, is the number of integrations of this particular simulated observation. This latter dimension is specific to time-series observations data/analysis, as here we are interested in using the rates for each integration separately.\n",
    "\n",
    "Let's extract the science data (`SCI`) and errors (`ERR`) then:"
   ]
  },
  {
   "cell_type": "code",
   "execution_count": null,
   "metadata": {},
   "outputs": [],
   "source": [
    "data = hdul['SCI'].data\n",
    "errors = hdul['ERR'].data"
   ]
  },
  {
   "cell_type": "markdown",
   "metadata": {},
   "source": [
    "There are several ways moving forward to trace the spectrum. In theory, when JWST is on the sky, precise shapes and positions will be available for them, and we could use those. Here, however, we will trace each integration individually, in order to check for possible movements/shape changes of the trace during the observations. Before doing this, however, let's generate a \"median\" image by collapsing all the products in time, so as to have a view of the \"average\" shape of the traces along the entire exposure:"
   ]
  },
  {
   "cell_type": "code",
   "execution_count": null,
   "metadata": {},
   "outputs": [],
   "source": [
    "median_image = np.median(data, axis=0)"
   ]
  },
  {
   "cell_type": "markdown",
   "metadata": {},
   "source": [
    "Let's plot it:"
   ]
  },
  {
   "cell_type": "code",
   "execution_count": null,
   "metadata": {},
   "outputs": [],
   "source": [
    "plt.figure(figsize=(20, 2))\n",
    "im = plt.imshow(median_image)\n",
    "im.set_clim(-5, 20)\n",
    "cb = plt.colorbar()\n",
    "cb.ax.set_ylabel('Rates (Counts/s)')"
   ]
  },
  {
   "cell_type": "markdown",
   "metadata": {},
   "source": [
    "This plot tells us a lot about how to move forward with the data analysis in general of this dataset. For example, note that although the pipeline has done a good job at removing structure in the data, there is still some structure which appears as vertical strips. This is a well known pattern due to the readout of IR detectors which is typically referred to as \"1/f noise\". By eye it seems some simple column-by-column background substraction should take care of that. On top of this, this image tells us a little bit of the care we have to have with tracing. For example, spectra of order 1 and 2 start to overlap around pixel ~750. In addition, we can see how the right side of both traces are the ones that have the most signal, which decreases to the left-hand side (redder wavelengths) --- so if we do any kind of iterative tracing, we should perhaps start in those sides of the trace. With tracing we also have to be careful with the sides of the image: both sides have 4 reference pixels each (i.e, pixels 0 to 3 and 2044 to 2048) which are not sensitive to light, so we have to be careful to leave those out of our analyses. Finally, it is important to note that the order in the bottom of this image (order 2) ends rather abruptly at around column 1750; this is actually a problem of the simulations, and not a real feature of the NIRISS/SOSS traces. \n",
    "\n",
    "Let's use all of the above to our advantage to trace the spectra of each integration. First, let's write a small script to get the centroids of each column for each order on each integration. Here we'll use a very simple algorithm in which we convolve each column with a gaussian filter (in order to smooth the profile, which is rather complex), and then take the centroiding of that filtered image. We repeat this procedure in each of the columns of the image in order to obtain the centroids of the traces, and then we fit them with a polynomial:"
   ]
  },
  {
   "cell_type": "code",
   "execution_count": null,
   "metadata": {},
   "outputs": [],
   "source": [
    "def trace_spectrum(image, xstart, ystart, profile_radius=30, gauss_filter_width=10, xend=None):\n",
    "    \"\"\"\n",
    "    Function that non-parametrically traces NIRISS/SOSS spectra. First, to get the centroid at xstart and \n",
    "    ystart, it convolves the spatial profile with a gaussian filter, finding its peak through usual flux-weighted \n",
    "    centroiding. Next, this centroid is using to find the one left to it through the same algorithm. \n",
    "    \n",
    "    Parameters\n",
    "    ----------\n",
    "    image: ndarray\n",
    "        The image that wants to be traced.\n",
    "    xstart: float\n",
    "        The x-position (column) on which the tracing algorithm will be started\n",
    "    ystart: float\n",
    "        The estimated y-position (row) of the center of the trace. An estimate within 10-20 pixels is enough.\n",
    "    profile_radius: float\n",
    "        Expected radius of the profile measured from its center. Only this region will be used to estimate \n",
    "        the centroids of the spectrum.\n",
    "    gauss_filter_width: float\n",
    "        Width of the gaussian filter used to perform the centroiding of the first column\n",
    "    xend: int\n",
    "        x-position at which tracing ends. If none, trace all the columns left to xstart.\n",
    "    \"\"\"\n",
    "    \n",
    "    # Define x-axis:\n",
    "    if xend is not None:\n",
    "        x = np.arange(xend, xstart)\n",
    "    else:\n",
    "        x = np.arange(0, xstart)\n",
    "        \n",
    "    # Define y-axis:\n",
    "    y = np.arange(image.shape[0])\n",
    "    \n",
    "    # Define array that will save centroids at each x:\n",
    "    ycentroids = np.zeros(len(x))\n",
    "    \n",
    "    for i in range(len(x))[::-1]:\n",
    "        xcurrent = x[i]\n",
    "        \n",
    "        # Convolve column with a gaussian filter; remove median before convolving:\n",
    "        filtered_column = gaussian_filter1d(image[:,xcurrent] - np.median(image[:,xcurrent]), gauss_filter_width)\n",
    "        \n",
    "        # Find centroid within profile_radius pixels of the initial guess:\n",
    "        idx = np.where(np.abs(y-ystart)<profile_radius)[0]\n",
    "        ycentroids[i] = np.sum(y[idx]*filtered_column[idx])/np.sum(filtered_column[idx])\n",
    "        ystart = ycentroids[i]\n",
    "        \n",
    "    return x, ycentroids"
   ]
  },
  {
   "cell_type": "markdown",
   "metadata": {},
   "source": [
    "Let's try our algorithm first for order 1 (the one on the top). Let's start it on column 2043 (as columns larger than that have reference pixels, so no signal) which, by eye, has the center of the profile around pixel 70 in the median image. Let's do it for all integrations, and plot all of them on top of the median image to visually see our results:"
   ]
  },
  {
   "cell_type": "code",
   "execution_count": null,
   "metadata": {},
   "outputs": [],
   "source": [
    "# Define variables for the tracing algorithm:\n",
    "nintegrations = data.shape[0]\n",
    "# Choose the algorithm to start and end so we don't include reference pixels:\n",
    "xstart = 2043\n",
    "xend = 4\n",
    "ystart = 70\n",
    "\n",
    "# Prepare arrays that will save our results:\n",
    "X1 = np.zeros([nintegrations, xstart-xend])\n",
    "Y1 = np.zeros([nintegrations, xstart-xend])\n",
    "\n",
    "# Prepare median image plot, on top of which we'll show the traces:\n",
    "plt.figure(figsize=(17, 12))\n",
    "im = plt.imshow(median_image)\n",
    "im.set_clim(-5, 20)\n",
    "\n",
    "# Iterate tracing through all integrations:\n",
    "for i in range(nintegrations):\n",
    "    X1[i,:], Y1[i,:] = trace_spectrum(data[i,:,:], xstart, ystart, xend = 4)\n",
    "    plt.plot(X1[i,:], Y1[i,:], color='cornflowerblue', lw=3, alpha=0.1)"
   ]
  },
  {
   "cell_type": "markdown",
   "metadata": {},
   "source": [
    "Woah, pretty good for such a simple approach! There are evidently some parts of the traces that go a bit off-board. In particular, the trace goes off at values below around 30. Let's fit a Chebyshev polynomial for each of them so we can smooth the shape a little bit, being careful not to use these pixels that throw the trace off in the fit. We could do some iterative fitting but, as we will see below, this is not terribly important. To select the best order for this polynomial, let's write a small function that does model selection using the [Bayesian Information Criterion](https://projecteuclid.org/euclid.aos/1176344136) (BIC) for each trace, and then select the best order via \"majority vote\":"
   ]
  },
  {
   "cell_type": "code",
   "execution_count": null,
   "metadata": {},
   "outputs": [],
   "source": [
    "def select_cheby_order(x, y, min_order, max_order):\n",
    "    \"\"\"\n",
    "    This function selects (and returns) the optimal order of a Chebyshev polynomial using the BIC.\n",
    "    \n",
    "    Parameters\n",
    "    ----------\n",
    "    x: ndarray\n",
    "        Array with the regressors\n",
    "    y: ndarray\n",
    "        Array with the data\n",
    "    min_order: int\n",
    "        Minimum order to try\n",
    "    max_order: int\n",
    "        Maximum order to try\n",
    "    \"\"\"\n",
    "    orders = np.arange(min_order, max_order)\n",
    "    bics = np.zeros(len(orders))\n",
    "    \n",
    "    # Fit only non-nans:\n",
    "    idx = np.where(~np.isnan(y))[0]\n",
    "    n = len(idx)\n",
    "    \n",
    "    for i in range(len(orders)):\n",
    "        order = orders[i]\n",
    "        coeffs = chebyshev.chebfit(x[idx], y[idx], deg=order)\n",
    "        RSS = np.sum((y - chebyshev.chebval(x[idx], coeffs))**2)\n",
    "        bics[i] = n * np.log(RSS / n) + (order + 1) * np.log(n)\n",
    "    idx = np.where(np.min(bics) == bics)[0]\n",
    "    return orders[idx][0]\n",
    "\n",
    "# Try orders from 1 to 30 in the polynomial for all the traces:\n",
    "orders = np.zeros(nintegrations)\n",
    "for i in range(nintegrations):\n",
    "    orders[i] = select_cheby_order(X1[i,30:], Y1[i,30:], 1, 30)\n",
    "    \n",
    "# Select best order:\n",
    "order = int(np.median(orders))\n",
    "print('Best order was: ', order)\n",
    "\n",
    "# Use the best-one as deemed by the BIC to fit all the traces; plot them with median image on top:\n",
    "plt.figure(figsize=(17, 12))\n",
    "im = plt.imshow(median_image)\n",
    "im.set_clim(-5, 20)\n",
    "coeffs1 = np.zeros([nintegrations, order+1])\n",
    "for i in range(nintegrations):\n",
    "    # Fit only non-nans:\n",
    "    idx = np.where(~np.isnan(Y1[i,30:]))\n",
    "    coeffs1[i,:] = chebyshev.chebfit(X1[i,30:][idx], Y1[i,30:][idx], deg=order)\n",
    "    plt.plot(X1[i,30:], chebyshev.chebval(X1[i,30:], coeffs1[i,:]), lw=3)"
   ]
  },
  {
   "cell_type": "markdown",
   "metadata": {},
   "source": [
    "That's pretty good!\n",
    "\n",
    "Now, we can see how the same procedure is deemed to fail for order 2 (the lower trace) for columns below around 1000. This is because this order quickly starts to overlap with order 1 below this. We will help our algorithm a little bit then by masking the upper trace, and only fitting the trace for values above column 1000. To this end, we will use the same algorithm for obtaining the centroids of the trace but will pass a masked image, containing only the lower trace. To do this, we will multiply all the values below row 80 (i.e., the upper pixels in the plot above) by zero.\n",
    "\n",
    "We'll start our algorithm in column 1839 (the edge of the trace here), which has its centroid, by eye, around row 225. We also make sure to stop tracing for pixels smaller than 1000. Let's see how we do:"
   ]
  },
  {
   "cell_type": "code",
   "execution_count": null,
   "metadata": {},
   "outputs": [],
   "source": [
    "mask = np.zeros(median_image.shape)\n",
    "mask[80:,:] = np.ones(mask[80:,:].shape)\n",
    "xstart = 1839\n",
    "ystart = 225\n",
    "xend = 1000\n",
    "\n",
    "# Prepare arrays that will save our results for order 2:\n",
    "X2 = np.zeros([nintegrations, xstart-xend])\n",
    "Y2 = np.zeros([nintegrations, xstart-xend])\n",
    "\n",
    "# Prepare median image plot, on top of which we'll show the traces:\n",
    "plt.figure(figsize=(17, 12))\n",
    "im = plt.imshow(median_image)\n",
    "im.set_clim(-5, 20)\n",
    "\n",
    "# Iterate tracing through all integrations:\n",
    "for i in range(nintegrations):\n",
    "    X2[i,:], Y2[i,:] = trace_spectrum(data[i,:,:]*mask, xstart, ystart, xend=xend)\n",
    "    plt.plot(X2[i,:], Y2[i,:], color='cornflowerblue', lw=3, alpha=0.1)"
   ]
  },
  {
   "cell_type": "markdown",
   "metadata": {},
   "source": [
    "Pretty good! Let's smooth the trace, as done for Order 1, with a Chebyshev polynomial. Let's repeat the same procedure:"
   ]
  },
  {
   "cell_type": "code",
   "execution_count": null,
   "metadata": {},
   "outputs": [],
   "source": [
    "# Try orders from 1 to 30 in the polynomial for all the traces:\n",
    "orders = np.zeros(nintegrations)\n",
    "for i in range(nintegrations):\n",
    "    orders[i] = select_cheby_order(X2[i,:], Y2[i,:], 1, 30)\n",
    "\n",
    "# Select best order:\n",
    "order = int(np.median(orders))\n",
    "print('Best order was: ', order)\n",
    "\n",
    "# Use the best-one as deemed by the BIC to fit all the traces; plot them with median image on top:\n",
    "plt.figure(figsize=(17, 12))\n",
    "im = plt.imshow(median_image)\n",
    "im.set_clim(-5, 20)\n",
    "coeffs2 = np.zeros([nintegrations, order+1])\n",
    "for i in range(nintegrations):\n",
    "    # Fit only non-nans:\n",
    "    idx = np.where(~np.isnan(Y2[i,:]))\n",
    "    coeffs2[i,:] = chebyshev.chebfit(X2[i,:][idx], Y2[i,:][idx], deg=order)\n",
    "    plt.plot(X2[i,:], chebyshev.chebval(X2[i,:], coeffs2[i,:]), lw=3)"
   ]
  },
  {
   "cell_type": "markdown",
   "metadata": {},
   "source": [
    "This looks great! Let's do a final plot showing the traces corresponding to the first integration on the median image:"
   ]
  },
  {
   "cell_type": "code",
   "execution_count": null,
   "metadata": {},
   "outputs": [],
   "source": [
    "plt.figure(figsize=(17, 12))\n",
    "im = plt.imshow(median_image)\n",
    "im.set_clim(-5, 20)\n",
    "plt.plot(X1[0,:], chebyshev.chebval(X1[i,:], coeffs1[0,:]), lw=3, label='Order 1 trace', color = 'orangered')\n",
    "plt.plot(X2[0,:], chebyshev.chebval(X2[i,:], coeffs2[0,:]), lw=3, label='Order 2 trace', color = 'cornflowerblue')\n",
    "plt.legend()"
   ]
  },
  {
   "cell_type": "markdown",
   "metadata": {},
   "source": [
    "That's pretty good for such a simple procedure!\n",
    "\n",
    "How does the trace position change as a function of each integration? Was our integration-by-integration tracing really worthwile? Let's map this out using the location of the center of the trace as a proxy of the trace shift for each order; let's use the same (uncontaminated) column for both orders:"
   ]
  },
  {
   "cell_type": "code",
   "execution_count": null,
   "metadata": {},
   "outputs": [],
   "source": [
    "# Column 1500 seems pretty uncontaminated\n",
    "x1_median, y1_shift = 1500, np.zeros(nintegrations)\n",
    "x2_median, y2_shift = 1500, np.zeros(nintegrations)\n",
    "for i in range(nintegrations):\n",
    "    y1_shift[i] = chebyshev.chebval(x1_median, coeffs1[i,:])\n",
    "    y2_shift[i] = chebyshev.chebval(x2_median, coeffs2[i,:])\n",
    "    \n",
    "plt.figure(figsize=(14, 3))\n",
    "shift1 = y1_shift-np.median(y1_shift)\n",
    "shift2 = y2_shift-np.median(y2_shift)\n",
    "sigma_y1 = np.sqrt(np.var(shift1))\n",
    "sigma_y2 = np.sqrt(np.var(shift2))\n",
    "\n",
    "plt.plot(np.arange(nintegrations)+1, shift1, color='orangered', \n",
    "         label=f'Order 1 shifts (RMS={round(sigma_y1, 3)} px)')\n",
    "\n",
    "plt.plot(np.arange(nintegrations)+1, shift2, color='cornflowerblue', \n",
    "         label=f'Order 2 shifts (RMS={round(sigma_y2, 3)} px)')\n",
    "\n",
    "plt.legend()\n",
    "plt.xlabel('Integration number')\n",
    "plt.ylabel('Trace shift (pixel)')\n",
    "plt.xlim([1, nintegrations])"
   ]
  },
  {
   "cell_type": "markdown",
   "metadata": {},
   "source": [
    "It appears that the impact of the tracing in the case of the simulations is, indeed, very small. The pixel shifts of the traces are about 1/500 - 1/1000 of a pixel. Consequently, at least in the simulations outlined here, we pressume these will not have a big impact on the retrieved lightcurves and transmission spectrum."
   ]
  },
  {
   "cell_type": "markdown",
   "metadata": {},
   "source": [
    "### B.<font color='white'>-</font>Extracting the spectra<a class=\"anchor\" id=\"extracting\"></a>\n",
    "\n",
    "With our traces at hand, in theory we can now perform simple extraction of the spectra on each integration. Before doing that, however, let's correct our images for the 1/f-noise patters on a column-by-column basis using the fact that we now know where the spectra is located, so we can mask the traces out of this procedure.\n",
    "\n",
    "To this end, for each image we will mask all the pixels in a 30-pixel radius around the traces (more or less the radius of the actual portion of the trace that contains flux from the target), and use the remaining pixels to track the column-to-column variations. Let's apply these corrections to the data:"
   ]
  },
  {
   "cell_type": "code",
   "execution_count": null,
   "metadata": {},
   "outputs": [],
   "source": [
    "# We will save the corrected data in a new array, as to keep track of the original dataset:\n",
    "corrected_data = np.copy(data)\n",
    "radius = 30\n",
    "for i in range(nintegrations):\n",
    "    for j in range(data.shape[2]):\n",
    "        \n",
    "        # Create mask that will turn to zero values not to be used for background estimation:\n",
    "        mask = np.ones(data.shape[1])\n",
    "        \n",
    "        if j in X1[i,:]:\n",
    "            y1 = int(chebyshev.chebval(j, coeffs1[i,:]))\n",
    "            mask[y1 - radius : y1 + radius] = 0.\n",
    "            \n",
    "        if j in X2[i,:]:\n",
    "            y2 = int(chebyshev.chebval(j, coeffs2[i,:]))\n",
    "            mask[y2 - radius : y2 + radius] = 0.\n",
    "            \n",
    "        # Use only pixels that are not zero to calculate background through median:\n",
    "        idx = np.where(mask != 0)[0]\n",
    "        corrected_data[i,:,j] = corrected_data[i,:,j] - np.median(corrected_data[i,idx,j])"
   ]
  },
  {
   "cell_type": "markdown",
   "metadata": {},
   "source": [
    "All right, let's now see how we did --- to this end, let's check the corrections made on the first integration:"
   ]
  },
  {
   "cell_type": "code",
   "execution_count": null,
   "metadata": {},
   "outputs": [],
   "source": [
    "plt.figure(figsize=(17, 12))\n",
    "plt.title('Non-corrected image')\n",
    "im = plt.imshow(data[0,:,:])\n",
    "im.set_clim(-5, 10)\n",
    "plt.figure(figsize=(17, 12))\n",
    "plt.title('Corrected image')\n",
    "im = plt.imshow(corrected_data[0,:,:])\n",
    "im.set_clim(-5, 10)"
   ]
  },
  {
   "cell_type": "markdown",
   "metadata": {},
   "source": [
    "Much better! The strips observed in the original image have been corrected quite successfully thanks to our procedure.\n",
    "\n",
    "Let's now move forward and write a small script that is able to do simple aperture extraction given a set of x and y coordinates that follow the trace, and loop that through all of our integrations. In theory before doing this we would take care of bad pixels/cosmic rays, but we don't worry about this on this notebook because (a) cosmic rays have not been included in the simulations made to create this dataset and (b) bad pixels are the same on each image, so they don't impact any time-varying signal.\n",
    "\n",
    "First, the aperture extraction function:"
   ]
  },
  {
   "cell_type": "code",
   "execution_count": null,
   "metadata": {},
   "outputs": [],
   "source": [
    "def aperture_extraction(image, x, y, aperture_radius, background_radius=50, error_image=None, correct_bkg=True):\n",
    "    \"\"\"\n",
    "    This function takes as inputs two arrays (x,y) that follow the trace, \n",
    "    and returns the added flux over the defined aperture radius (and its error, if an error image \n",
    "    is given as well), substracting in the way any background between the aperture radius and the \n",
    "    background radius. The background is calculated by taking the median of the points between the \n",
    "    aperture_radius and the background_radius.\n",
    "    \n",
    "    Parameters\n",
    "    ----------\n",
    "    image: ndarray\n",
    "        Image from which the spectrum wants to be extracted\n",
    "    x: ndarray\n",
    "        Array with the x-axis of the trace (i.e., the columns, wavelength direction)\n",
    "    y: ndarray\n",
    "        Array with the y-axis of the trace (i.e., rows, spatial direction)\n",
    "    aperture_radius: float\n",
    "        Distance from the center of the trace at which you want to add fluxes.\n",
    "    background_radius: float\n",
    "        Distance from the center of the trace from which you want to calculate the background. The \n",
    "        background region will be between this radius and the aperture_radius.\n",
    "    error_image: ndarray\n",
    "        Image with the errors of each pixel value on the image ndarray above\n",
    "    correct_bkg: boolean\n",
    "        If True, apply background correction. If false, ommit this.\n",
    "    \"\"\"\n",
    "    \n",
    "    # Create array that will save our fluxes:\n",
    "    flux = np.zeros(len(x))\n",
    "    \n",
    "    if error_image is not None:\n",
    "        flux_error = np.zeros(len(x))\n",
    "        \n",
    "    max_column = image.shape[0]\n",
    "    for i in range(len(x)):\n",
    "        \n",
    "        # Cut the column with which we'll be working with:\n",
    "        column = image[:,int(x[i])]\n",
    "        if error_image is not None:\n",
    "            variance_column = error_image[:,int(x[i])]**2\n",
    "            \n",
    "        # Define limits given by the aperture_radius and background_radius variables:\n",
    "        if correct_bkg:\n",
    "            left_side_bkg = np.max([y[i] - background_radius, 0])\n",
    "            right_side_bkg = np.min([max_column, y[i] + background_radius])\n",
    "        left_side_ap = np.max([y[i] - aperture_radius, 0])\n",
    "        right_side_ap = np.min([max_column, y[i] + aperture_radius])\n",
    "        \n",
    "        # Extract background, being careful with edges:\n",
    "        if correct_bkg:\n",
    "            bkg_left = column[np.max([0, int(left_side_bkg)]) : np.max([0, int(left_side_ap)])]\n",
    "            bkg_right = column[np.min([int(right_side_ap), max_column]) : np.max([int(right_side_bkg), max_column])]\n",
    "            bkg = np.median(np.append(bkg_left, bkg_right))\n",
    "        else:\n",
    "            bkg = 0.\n",
    "            \n",
    "        # Substract it from the column:\n",
    "        column -= bkg\n",
    "        \n",
    "        # Perform aperture extraction of the background-substracted column, being careful with pixelization \n",
    "        # at the edges. First, deal with left side:\n",
    "        l_decimal, l_integer = np.modf(left_side_ap)\n",
    "        l_integer = int(l_integer)\n",
    "        if l_decimal < 0.5:\n",
    "            l_fraction = (0.5 - l_decimal) * column[l_integer]\n",
    "            l_limit = l_integer + 1\n",
    "            if error_image is not None:\n",
    "                l_fraction_variance = ((0.5 - l_decimal)**2) * variance_column[l_integer]\n",
    "        else:\n",
    "            l_fraction = (1. - (l_decimal - 0.5)) * column[l_integer + 1]\n",
    "            l_limit = l_integer + 2\n",
    "            if error_image is not None:\n",
    "                l_fraction_variance = ((1. - (l_decimal - 0.5))**2) * variance_column[l_integer + 1]\n",
    "                \n",
    "        # Now right side:\n",
    "        r_decimal, r_integer = np.modf(right_side_ap)\n",
    "        r_integer = int(r_integer)\n",
    "        if r_decimal < 0.5:\n",
    "            r_fraction = (1. - (0.5 - r_decimal)) * column[r_integer]\n",
    "            r_limit = r_integer\n",
    "            if error_image is not None:\n",
    "                r_fraction_variance = ((1. - (0.5 - r_decimal))**2) * variance_column[r_integer]\n",
    "        else:\n",
    "            r_fraction = (r_decimal - 0.5) * column[r_integer + 1]\n",
    "            r_limit = r_integer + 1\n",
    "            if error_image is not None:\n",
    "                r_fraction_variance = ((r_decimal - 0.5)**2) * variance_column[r_integer + 1]\n",
    "                \n",
    "        # Save total flux in current column:\n",
    "        flux[i] = l_fraction + r_fraction + np.sum(column[l_limit:r_limit])\n",
    "        \n",
    "        if error_image is not None:\n",
    "            # For the flux error, ommit edge values (contribution to total variance is small nonetheless):\n",
    "            flux_error[i] = np.sqrt(np.sum(variance_column[l_limit:r_limit]) + l_fraction_variance + \\\n",
    "                                    r_fraction_variance)\n",
    "            \n",
    "    if error_image is not None:\n",
    "        return flux, flux_error\n",
    "    else:\n",
    "        return flux"
   ]
  },
  {
   "cell_type": "markdown",
   "metadata": {},
   "source": [
    "Let us now extract the spectra. To this end, we have to define an aperture radius for the extraction --- we decide to use a 30-pixel aperture extraction, and a 50-pixel background radius. As shown in the following plot, these regions cover both the spectra and also a big chunk of the background region(s):"
   ]
  },
  {
   "cell_type": "code",
   "execution_count": null,
   "metadata": {},
   "outputs": [],
   "source": [
    "plt.figure(figsize=(17, 12))\n",
    "im = plt.imshow(median_image)\n",
    "im.set_clim(-5, 20)\n",
    "plt.plot(X1[0,:], chebyshev.chebval(X1[0,:], coeffs1[0,:]), lw=3, label='Order 1 trace', color='orangered')\n",
    "plt.plot(X2[0,:], chebyshev.chebval(X2[0,:], coeffs2[0,:]), lw=3, label='Order 2 trace', color='cornflowerblue')\n",
    "\n",
    "plt.fill_between(X1[0,:], chebyshev.chebval(X1[0,:], coeffs1[0,:]) + 30, chebyshev.chebval(X1[0,:], coeffs1[0,:]) - 30,\n",
    "                 color='cornflowerblue', alpha=0.9)\n",
    "plt.fill_between(X2[0,:], chebyshev.chebval(X2[0,:], coeffs2[0,:]) + 30, chebyshev.chebval(X2[0,:], coeffs2[0,:]) - 30,\n",
    "                 color='orangered', alpha=0.9)\n",
    "plt.ylim(data.shape[1], 0)\n",
    "plt.legend()"
   ]
  },
  {
   "cell_type": "markdown",
   "metadata": {},
   "source": [
    "Now let's loop over all the integrations, extract the spectra of both orders, and save that to some dictionaries. We note that this will take a while (around 10 minutes). We will save both the spectra and the columns, so we can later relate the latter to wavelength-space:"
   ]
  },
  {
   "cell_type": "code",
   "execution_count": null,
   "metadata": {},
   "outputs": [],
   "source": [
    "# Extraction parameters:\n",
    "extraction_aperture = 30\n",
    "background_aperture = 50\n",
    "\n",
    "# Create dictionary:\n",
    "spectra = {}\n",
    "# Generate sub-dictionaries for each order:\n",
    "spectra['order1'], spectra['order2'] = {}, {}\n",
    "# Save the X positions for both orders. X positions are the same for all integrations, so \n",
    "# we save the ones corresponding to the first integration:\n",
    "spectra['order1']['x'], spectra['order2']['x'] = X1[0,:], X2[0,:]\n",
    "# Create sub-dictionaries that will save the fluxes and the errors on those fluxes:\n",
    "spectra['order1']['flux'], spectra['order2']['flux'] = np.zeros([data.shape[0], len(X1[0,:])]),\\\n",
    "                                                       np.zeros([data.shape[0], len(X2[0,:])])\n",
    "\n",
    "spectra['order1']['flux_errors'], spectra['order2']['flux_errors'] = np.zeros([data.shape[0], len(X1[0,:])]),\\\n",
    "                                                                     np.zeros([data.shape[0], len(X2[0,:])])\n",
    "\n",
    "# Now iterate through all integrations:\n",
    "for i in range(nintegrations):\n",
    "    # Trace order 1:\n",
    "    y1 = chebyshev.chebval(X1[0,:], coeffs1[i,:])\n",
    "    # Extract order 1:\n",
    "    spectra['order1']['flux'][i,:], spectra['order1']['flux_errors'][i,:] = \\\n",
    "                                                         aperture_extraction(corrected_data[i,:,:], X1[0,:], y1, \n",
    "                                                                             extraction_aperture, \n",
    "                                                                             error_image=errors[i,:,:], \n",
    "                                                                             correct_bkg=False)\n",
    "    # Same for Order 2:\n",
    "    y2 = chebyshev.chebval(X2[0,:],coeffs2[i,:])\n",
    "    spectra['order2']['flux'][i,:], spectra['order2']['flux_errors'][i,:] = \\\n",
    "                                                         aperture_extraction(corrected_data[i,:,:], X2[0,:], y2, \n",
    "                                                                             extraction_aperture, \n",
    "                                                                             error_image=errors[i,:,:], \n",
    "                                                                             correct_bkg=False)"
   ]
  },
  {
   "cell_type": "markdown",
   "metadata": {},
   "source": [
    "Finally, let's plot the spectra of the first integration along with the errorbars:"
   ]
  },
  {
   "cell_type": "code",
   "execution_count": null,
   "metadata": {},
   "outputs": [],
   "source": [
    "i = 0\n",
    "fig, ax = plt.subplots(figsize=(15, 5))\n",
    "ax.set_title('Order 1 spectrum for the first integration')\n",
    "ax.errorbar(spectra['order1']['x'], spectra['order1']['flux'][i,:], \\\n",
    "             yerr=spectra['order1']['flux_errors'][i,:], color='cornflowerblue')\n",
    "\n",
    "ax.set_xlim(np.min(spectra['order1']['x']), np.max(spectra['order1']['x']))\n",
    "\n",
    "ax.set_xlabel('Pixel column')\n",
    "ax.set_ylabel('Counts/s')\n",
    "\n",
    "plt.figure(figsize=(15, 5))\n",
    "plt.title('Order 2 spectrum for the first integration')\n",
    "plt.errorbar(spectra['order2']['x'], spectra['order2']['flux'][i,:], \\\n",
    "             yerr=spectra['order2']['flux_errors'][i,:], color='orangered')\n",
    "plt.xlabel('Pixel column')\n",
    "plt.ylabel('Counts/s')"
   ]
  },
  {
   "cell_type": "markdown",
   "metadata": {},
   "source": [
    "This is pretty good! It is interesting to see how we can actually identify where the contamination from the second order kicks in in the Order 1 spectra (blue) around pixel ~750. This is actually evident from the images above, and something to keep in mind when performing analyses with this data.\n",
    "\n",
    "Note: the flattening of the spectra for pixels above ~1700 in order 2 is a bug from the simulator."
   ]
  },
  {
   "cell_type": "markdown",
   "metadata": {},
   "source": [
    "### C. Time-stamps and wavelength solution\n",
    "\n",
    "Before continuing to the next step, we need to extract two extra data products that will become useful in our analyses in this notebook: (a) the time-stamps of each integration and (b) the wavelength solution corresponding to each pixel in the frame for Order 1 and Order 2.\n",
    "\n",
    "The first is the easiest to extract --- these will be typically stored in the very same data products of the pipeline we are using here. In particular, recall that each integration is composed of various groups which sample up-the-ramp. These have been, in turn, combined in the rates that we see here. Perhaps the most useful timing measure for those ramps, thus, is the middle of an integration --- these can be extracted from the products as follows:"
   ]
  },
  {
   "cell_type": "code",
   "execution_count": null,
   "metadata": {},
   "outputs": [],
   "source": [
    "spectra['times'] = hdul['INT_TIMES'].data['int_mid_BJD_TDB']"
   ]
  },
  {
   "cell_type": "markdown",
   "metadata": {},
   "source": [
    "As for the wavelength solution, there is a particular step in the JWST calibration pipeline that \"attaches\" this data to the products --- these have been attached to our dataset as well. To extract them, one has to re-open the pipeline products with a so-called `datamodel` from the JWST pipeline, that lets you gain access to this information:"
   ]
  },
  {
   "cell_type": "code",
   "execution_count": null,
   "metadata": {},
   "outputs": [],
   "source": [
    "exposure = datamodels.SpecModel('calibrated_data_hatp1_transit.fits')\n",
    "\n",
    "# Get number of rows and columns on the first integration:\n",
    "rows,columns = data[0,:,:].shape\n",
    "\n",
    "# Prepare map that will save the wavelength corresponding to each pixel in the frame:\n",
    "wmap = np.zeros([2, rows, columns])\n",
    "\n",
    "# Save it:\n",
    "for order in [1,2]:\n",
    "    for row in range(rows):\n",
    "        for column in range(columns):\n",
    "            wmap[order - 1, row, column] = exposure.meta.wcs(column, row, order)[-1]"
   ]
  },
  {
   "cell_type": "markdown",
   "metadata": {},
   "source": [
    "Let's visualize this 2D wavelength solution for Order 1 and 2:"
   ]
  },
  {
   "cell_type": "code",
   "execution_count": null,
   "metadata": {},
   "outputs": [],
   "source": [
    "plt.figure(figsize=(20, 2))\n",
    "plt.title('Order 1 wavelength map')\n",
    "im1 = plt.imshow(wmap[0,:,:])\n",
    "im1.set_clim(0.6, 3.0)\n",
    "im1.set_cmap('Reds')\n",
    "cb1 = plt.colorbar()\n",
    "\n",
    "plt.figure(figsize=(20, 2))\n",
    "plt.title('Order 2 wavelength map')\n",
    "im2 = plt.imshow(wmap[1,:,:])\n",
    "im2.set_clim(0.6, 1.5)\n",
    "im2.set_cmap('Blues')\n",
    "cb2 = plt.colorbar()"
   ]
  },
  {
   "cell_type": "markdown",
   "metadata": {},
   "source": [
    "One important caveat to have in mind is that the wavelength maps are not strictly vertical, i.e., wavelengths do not align perfectly with the columns of the image for NIRISS/SOSS observations. An easy way to see this is to have an image showing \"iso-wavelength\" bands --- identify pixels that have the same wavelengths and \"paint\" them in a plot. Let's do this for Order 1:"
   ]
  },
  {
   "cell_type": "code",
   "execution_count": null,
   "metadata": {},
   "outputs": [],
   "source": [
    "plt.figure(figsize=(20, 25))\n",
    "Z = np.zeros(wmap[0,:,:].shape)\n",
    "for w in np.linspace(0.5, 3., 100):\n",
    "    wmin,wmax = w,w+0.005\n",
    "    idx = (wmap[0,:,:] > wmin) & (wmap[0,:,:] < wmax)\n",
    "    Z[idx] = 1.\n",
    "plt.imshow(Z, interpolation=None)"
   ]
  },
  {
   "cell_type": "markdown",
   "metadata": {},
   "source": [
    "As can be seen from these maps, this is not extremely critical for NIRISS/SOSS (iso-wavelength bands span ~3 pixels), but it might be important for precise, higher-resolution work to take this into account in the extraction. For our application here, however, we simply take the average wavelength value per column to associate wavelengths with pixels for each order, and we save that to our dictionary:"
   ]
  },
  {
   "cell_type": "code",
   "execution_count": null,
   "metadata": {},
   "outputs": [],
   "source": [
    "avg_waves = np.mean(wmap, axis=1)\n",
    "spectra['order1']['w'], spectra['order2']['w'] = avg_waves[0,spectra['order1']['x'].astype('int')],\\\n",
    "                                                 avg_waves[1,spectra['order2']['x'].astype('int')]"
   ]
  },
  {
   "cell_type": "markdown",
   "metadata": {},
   "source": [
    "Let's have a final look at the extracted spectra of the first 100 integrations, but now with these wavelengths as x-axis instead of the pixel columns:"
   ]
  },
  {
   "cell_type": "code",
   "execution_count": null,
   "metadata": {},
   "outputs": [],
   "source": [
    "plt.figure(figsize=(15, 5))\n",
    "for i in range(100):\n",
    "    plt.plot(spectra['order1']['w'], spectra['order1']['flux'][i,:], color='cornflowerblue', alpha=0.5)\n",
    "    plt.plot(spectra['order2']['w'], spectra['order2']['flux'][i,:], color='orangered', alpha=0.5)\n",
    "plt.xlabel('Wavelength (um)')\n",
    "plt.xlim([0.65, 2.83])\n",
    "plt.ylabel('Counts/s')"
   ]
  },
  {
   "cell_type": "markdown",
   "metadata": {},
   "source": [
    "That looks pretty good! Let's deep dive into analyzing the lightcurves that can be extracted from these spectra in the next sections."
   ]
  },
  {
   "cell_type": "markdown",
   "metadata": {},
   "source": [
    "### 3. Fitting & analyzing white-light lightcurves"
   ]
  },
  {
   "cell_type": "markdown",
   "metadata": {},
   "source": [
    "Having extracted our spectra, we are ready to jump into the \"fun\" part of this notebook: the analyses of actual simulated NIRISS/SOSS transit lightcurves. Let's first create the white-light lightcurves of both Order 1 and Order 2 by summing the spectra extracted in the previous section, but on regions on which we know there will be no contamination from overlapping orders. This step is important because the white-light lightcurves help determine the most precise transit parameters for the wavelength-dependent lightcurves, and thus we want to have estimates that are as unbiased as possible.\n",
    "\n",
    "From the figures above, it seems that for Order 1 pixels below around 300 and above 1300 have virtually no contamination from Order 2. For Order 2, fluxes from pixels above around 1300 also have virtually no contamination from Order 1. Let's generate the corresponding lightcurves taking that into account:"
   ]
  },
  {
   "cell_type": "code",
   "execution_count": null,
   "metadata": {},
   "outputs": [],
   "source": [
    "# Extract order 1 length, create array that will save white-light lightcurve (and errors): \n",
    "NT1 = spectra['order1']['flux'].shape[0]\n",
    "lc_order1 = np.zeros(NT1)\n",
    "lc_errors_order1 = np.zeros(NT1)\n",
    "\n",
    "# Same for order 2:\n",
    "NT2 = spectra['order2']['flux'].shape[0]\n",
    "lc_order2 = np.zeros(NT2)\n",
    "lc_errors_order2 = np.zeros(NT2)\n",
    "\n",
    "# Indexes of uncontaminated spectra for Order 1 and 2:\n",
    "idx_uncontaminated1 = np.where((spectra['order1']['x'] < 300)|(spectra['order1']['x'] > 1300))[0]\n",
    "idx_uncontaminated2 = np.where(spectra['order2']['x']  > 1300)[0]\n",
    "\n",
    "# Sum the fluxes and errors for each order. First, order 1:\n",
    "for i in range(NT1):\n",
    "    lc_order1[i] = np.sum(spectra['order1']['flux'][i, idx_uncontaminated1])\n",
    "    lc_errors_order1[i] = np.sqrt(np.sum(spectra['order1']['flux_errors'][i, idx_uncontaminated1]**2))\n",
    "    \n",
    "# Now order 2:\n",
    "for i in range(NT2):\n",
    "    lc_order2[i] = np.sum(spectra['order2']['flux'][i, idx_uncontaminated2])\n",
    "    lc_errors_order2[i] = np.sqrt(np.sum(spectra['order2']['flux_errors'][i, idx_uncontaminated2]**2))\n",
    "\n",
    "# Save median-normalized lightcurves and errors:\n",
    "median_lc1, median_lc2 = np.median(lc_order1), np.median(lc_order2)\n",
    "spectra['order1']['white-light'] = lc_order1 / median_lc1\n",
    "spectra['order1']['white-light_errors'] = lc_errors_order1 / median_lc1\n",
    "spectra['order2']['white-light'] = lc_order2 / median_lc2\n",
    "spectra['order2']['white-light_errors'] = lc_errors_order2 / median_lc2\n",
    "# Write median errors in ppm:\n",
    "med_err_order1 = np.median(spectra['order1']['white-light_errors'])*1e6\n",
    "med_err_order2 = np.median(spectra['order2']['white-light_errors'])*1e6\n",
    "\n",
    "# Save variable with times in units of hours since beggining of observation:\n",
    "thours = (spectra['times'] - spectra['times'][0]) * 24\n",
    "\n",
    "# Plot lightcurve\n",
    "fig, ax = plt.subplots(figsize=(15, 5))\n",
    "ax.set_title('White-light lightcurve of HAT-P-1b NIRISS/SOSS observations')\n",
    "\n",
    "ax.errorbar(thours, spectra['order1']['white-light'], \n",
    "            yerr=spectra['order1']['white-light_errors'], \n",
    "            color='orangered', \n",
    "            fmt='.', \n",
    "            label=f'Order 1 ($\\sigma={round(med_err_order1, 1)}$ ppm)')\n",
    "\n",
    "ax.errorbar(thours, spectra['order2']['white-light'], \n",
    "            yerr=spectra['order2']['white-light_errors'], \n",
    "            color='cornflowerblue', \n",
    "            fmt='.', \n",
    "            label=f'Order 2 ($\\sigma={round(med_err_order2, 1)}$ ppm)')\n",
    "\n",
    "# Define legend, limits, labels:\n",
    "ax.legend()\n",
    "ax.set_xlim(np.min(thours), np.max(thours))\n",
    "ax.set_xlabel('Time since start of observations (hours)')\n",
    "ax.set_ylabel('Relative flux')\n",
    "\n",
    "# Plot inset to see errorbars:\n",
    "axins = ax.inset_axes([0.04, 0.5, 0.25, 0.3])\n",
    "x1, x2, y1, y2 = 1.5, 2.0, 0.9998, 1.0004\n",
    "axins.set_xlim(x1, x2)\n",
    "axins.set_ylim(y1, y2)\n",
    "axins.set_xticklabels('')\n",
    "axins.set_yticklabels('')\n",
    "\n",
    "axins.errorbar(thours,spectra['order1']['white-light'], \n",
    "               yerr=spectra['order1']['white-light_errors'],\n",
    "               color='orangered',\n",
    "               fmt='.')\n",
    "\n",
    "axins.errorbar(thours,spectra['order2']['white-light'],\n",
    "               yerr=spectra['order2']['white-light_errors'],\n",
    "               color='cornflowerblue',\n",
    "               fmt='.')\n",
    "\n",
    "mark_inset(ax, axins, loc1=1, loc2=2, linewidth=0.7, fc=\"None\", ec='k', alpha=0.4, clip_on=True, zorder=3)"
   ]
  },
  {
   "cell_type": "markdown",
   "metadata": {},
   "source": [
    "Wow! Those look pretty good. There is a notable difference in the overall lightcurve shape here. Part of it can be attributed to limb-darkening (being Order 1 the order covering the reddest wavelengths, limb-darkening produces a more \"box-shaped\" lightcurve than for Order 2) --- but a portion of it could also be explained by the transit depths themselves.\n",
    "\n",
    "Let's now fit those transit lightcurves. We will fit them separately to see what we obtain from each order, compare and discuss the results. To perform the transit fitting, users can of course use any tool they want. In this notebook, we will use `juliet` (http://juliet.readthedocs.io/), which is a tool that allows to perform lightcurve fitting through Nested Sampling algorithms, so we can thoroughly explore the parameter space.\n",
    "\n",
    "We first import `juliet` and write the priors for the parameters of our fit. We will leave the period, $P$ (`P_p1`) of the orbit fixed. The parameters we will be fitting for are the time-of-transit center $t_0$ (`t0_p1`), two parameters that parametrize the planet-to-star radius ratio $R_p/R_*$ and the impact parameter of the orbit $b = (a/R_*)\\cos i$ in a unitary uniform plane, $r_1$ (`r1_p1`) and $r_2$ (`r2_p1` --- see Espinoza (2018) for details), two parameters that parametrize the limb-darkening through a square-root limb-darkening law, $q_1$ (`q1_SOSS`) and $q_2$ (`q2_SOSS` --- see Kipping (2013), the stellar density $\\rho_*$ (`rho`), a scaling normalization factor for the out-of-transit flux (`mflux_SOSS`) and an unknown standard deviation added in quadrature to the errorbars of our data, `sigma_w_SOSS`. On top of this, we fix some parameters in our fit as well: we don't fit for the eccentricity $e$ (`ecc_p1`) or argument of periastron passage $\\omega$ (`omega_p1`), as a single transit does not hold much information on these parameters. Similarly, we fix any possible dilution of the transit lightcurve by background sources (`mdilution_SOSS`) to 1, so we assume no dilution is in place. We take very wide priors for all the parameters that are left as free parameters in our fit except for the period, which we assume is well-known:"
   ]
  },
  {
   "cell_type": "code",
   "execution_count": null,
   "metadata": {},
   "outputs": [],
   "source": [
    "# Name of the parameters to be fit:\n",
    "params = ['P_p1', 't0_p1', 'r1_p1', 'r2_p1', 'q1_SOSS', 'q2_SOSS', 'ecc_p1', 'omega_p1',\n",
    "          'rho', 'mdilution_SOSS', 'mflux_SOSS', 'sigma_w_SOSS']\n",
    "\n",
    "# Distributions:\n",
    "dists = ['fixed', 'normal', 'uniform', 'uniform', 'uniform', 'uniform', 'fixed', 'fixed',\n",
    "         'loguniform', 'fixed', 'normal', 'loguniform']\n",
    "\n",
    "# Hyperparameters\n",
    "hyperps = [4.4652998, [2459775.89,0.1], [0.,1], [0.,1.], [0., 1.], [0., 1.], 0.0, 90., \n",
    "           [100., 10000.], 1.0, [0.,0.1], [0.1, 1000.]]\n",
    "\n",
    "priors = juliet.generate_priors(params, dists, hyperps)"
   ]
  },
  {
   "cell_type": "markdown",
   "metadata": {},
   "source": [
    "Having defined the parameters, priors and the hyperparameters of those priors, we now fit both datasets. For this, we pass the data in a juliet-friendly format, and fit each transit individually:"
   ]
  },
  {
   "cell_type": "code",
   "execution_count": null,
   "metadata": {},
   "outputs": [],
   "source": [
    "for order in ['order1', 'order2']:\n",
    "    # Define times, fluxes and errors in a juliet-friendly format:\n",
    "    times, fluxes, fluxes_error, norm_times = {}, {}, {}, {}\n",
    "    times['SOSS'], fluxes['SOSS'], fluxes_error['SOSS'] = [spectra['times'],\n",
    "                                                           spectra[order]['white-light'],\n",
    "                                                           spectra[order]['white-light_errors']]\n",
    "    \n",
    "    # Load and fit dataset with juliet (save them to order*_juliet_results):\n",
    "    spectra[order]['dataset'] = juliet.load(priors=priors, t_lc=times, y_lc=fluxes,\n",
    "                                            yerr_lc=fluxes_error, ld_laws='squareroot',\n",
    "                                            out_folder=order+'_juliet_results')\n",
    "\n",
    "    spectra[order]['results'] = spectra[order]['dataset'].fit(use_dynesty=True, dynamic=True, dynesty_nthreads=4)"
   ]
  },
  {
   "cell_type": "markdown",
   "metadata": {},
   "source": [
    "Let's see what the fits look like:"
   ]
  },
  {
   "cell_type": "code",
   "execution_count": null,
   "metadata": {},
   "outputs": [],
   "source": [
    "plt.figure(figsize=(15, 5)) \n",
    "\n",
    "for i in [1,2]:\n",
    "    plt.subplot('22'+str(i))\n",
    "    plt.title('Order ' + str(i) + ' (white) lightcurve')\n",
    "    order = 'order' + str(i)\n",
    "    \n",
    "    # First, extract estimated additional errorbars form our fits:\n",
    "    sigma_w = np.median(spectra[order]['results'].posteriors['posterior_samples']['sigma_w_SOSS'])\n",
    "    spectra[order]['sigma_w'] = sigma_w\n",
    "    \n",
    "    # Extract estimated time-of-transit center:\n",
    "    t0 = np.median(spectra[order]['results'].posteriors['posterior_samples']['t0_p1'])\n",
    "    \n",
    "    # Normalize times to plot by this:\n",
    "    tnorm = (spectra['times'] - t0) * 24\n",
    "    plt.errorbar(tnorm, spectra[order]['white-light'], \n",
    "                 yerr=np.sqrt(spectra[order]['white-light_errors']**2 + (sigma_w*1e-6)**2),\n",
    "                 label='Data')\n",
    "    \n",
    "    # Plot best-fit model on top:\n",
    "    spectra[order]['model'] = spectra[order]['results'].lc.evaluate('SOSS')\n",
    "    plt.plot(tnorm, spectra[order]['model'], color='black', label='Model')\n",
    "    plt.xlim(np.min(tnorm), np.max(tnorm))\n",
    "    plt.ylabel('Relative flux')\n",
    "    \n",
    "    # Residuals:\n",
    "    plt.subplot('22' + str(i + 2))\n",
    "    spectra[order]['residuals'] = spectra[order]['white-light'] - spectra[order]['model']\n",
    "    \n",
    "    plt.errorbar(tnorm, spectra[order]['residuals']*1e6,\n",
    "                 yerr=np.sqrt(spectra[order]['white-light_errors']**2 + (sigma_w*1e-6)**2)*1e6,\n",
    "                 fmt='o', alpha=0.3)\n",
    "    \n",
    "    plt.xlim(np.min(tnorm), np.max(tnorm))\n",
    "    plt.ylim(-350, 350)\n",
    "    average_total_errorbar = np.median(np.sqrt(spectra[order]['white-light_errors']**2 + (sigma_w * 1e-6)**2) * 1e6)\n",
    "    plt.text(1, 220, r'$\\sigma_w = {0:.1f}$ ppm'.format(average_total_errorbar), fontsize=13)\n",
    "    plt.ylabel('Residuals (ppm)')\n",
    "    plt.xlabel('Time from mid-transit (hours)')"
   ]
  },
  {
   "cell_type": "markdown",
   "metadata": {},
   "source": [
    "Those look pretty good! The precisions more or less match what is expected from NIRISS/SOSS white-light lightcurves. What about the posterior distribution of the parameters?"
   ]
  },
  {
   "cell_type": "code",
   "execution_count": null,
   "metadata": {},
   "outputs": [],
   "source": [
    "# Names of the parameters to show in the corner plot:\n",
    "names = [r'$t_0 - Med[t_0]$ (s)','$R_p/R_s$', '$b = a \\cos i$', r'$\\rho_*$', r'$u_1$', r'$u_2$']\n",
    "\n",
    "# Retrieve posterior distributions of parameters for Order 1:\n",
    "Theta1 = np.zeros([len(spectra['order1']['results'].posteriors['posterior_samples']['t0_p1']), 6])\n",
    "Theta1[:,0] = spectra['order1']['results'].posteriors['posterior_samples']['t0_p1']\n",
    "\n",
    "# Convert r1 and r2 sampling scheme to rp/rs and b:\n",
    "b_1, rprs_1 = juliet.utils.reverse_bp(spectra['order1']['results'].posteriors['posterior_samples']['r1_p1'],\n",
    "                                      spectra['order1']['results'].posteriors['posterior_samples']['r2_p1'], 0., 1)\n",
    "\n",
    "Theta1[:,1], Theta1[:,2] = rprs_1, b_1\n",
    "\n",
    "# Extract stellar density:\n",
    "Theta1[:,3] = spectra['order1']['results'].posteriors['posterior_samples']['rho']\n",
    "\n",
    "# Convert q1 and q2 sampling to u1 and u2:\n",
    "u1_1, u2_1 = juliet.utils.reverse_ld_coeffs('squareroot',\n",
    "                                            spectra['order1']['results'].posteriors['posterior_samples']['q1_SOSS'],\n",
    "                                            spectra['order1']['results'].posteriors['posterior_samples']['q2_SOSS'])\n",
    "\n",
    "Theta1[:,4], Theta1[:,5] = u1_1, u2_1\n",
    "\n",
    "# Do the same for Order 2:\n",
    "Theta2 = np.zeros([len(spectra['order2']['results'].posteriors['posterior_samples']['t0_p1']), 6])\n",
    "Theta2[:,0] = spectra['order2']['results'].posteriors['posterior_samples']['t0_p1']\n",
    "\n",
    "# Convert r1 and r2 sampling scheme to rp/rs and b:\n",
    "b_2, rprs_2 = juliet.utils.reverse_bp(spectra['order2']['results'].posteriors['posterior_samples']['r1_p1'],\n",
    "                                      spectra['order2']['results'].posteriors['posterior_samples']['r2_p1'], 0., 1)\n",
    "\n",
    "Theta2[:,1], Theta2[:,2] = rprs_2, b_2\n",
    "\n",
    "# Extract stellar density:\n",
    "Theta2[:,3] = spectra['order2']['results'].posteriors['posterior_samples']['rho']\n",
    "\n",
    "# Convert q1 and q2 sampling to u1 and u2:\n",
    "u1_2, u2_2 = juliet.utils.reverse_ld_coeffs('squareroot',\n",
    "                                            spectra['order2']['results'].posteriors['posterior_samples']['q1_SOSS'],\n",
    "                                            spectra['order2']['results'].posteriors['posterior_samples']['q2_SOSS'])\n",
    "\n",
    "Theta2[:,4], Theta2[:,5] = u1_2, u2_2\n",
    "\n",
    "# Plot t0 minus combined median t0 for better plotting:\n",
    "median_t0 = np.median(np.append(Theta1[:,0], Theta2[:,0]))\n",
    "Theta1[:,0] = (Theta1[:,0] - median_t0) * 24 * 3600\n",
    "Theta2[:,0] = (Theta2[:,0] - median_t0) * 24 * 3600\n",
    "\n",
    "# Corner plot for redder order (Order 1)\n",
    "figure = corner.corner(Theta1, labels=names, color='orangered')\n",
    "\n",
    "# Same for order 2:\n",
    "corner.corner(Theta2, fig=figure, color='cornflowerblue')\n",
    "plt.show()"
   ]
  },
  {
   "cell_type": "markdown",
   "metadata": {},
   "source": [
    "All right! It seems as if all the posteriors are more or less consistent with each other. However, there is a clear separation in the limb-darkening coefficients plane (despite the average values of the coefficients being consistent) --- this is expected; the profiles are expected to be different for both orders given the different wavelength ranges they encompass.\n",
    "\n",
    "### A. Studying the residuals\n",
    "\n",
    "One might wonder if there is any structure in the residuals. This structure can give rise to signals that, if not accounted for, might led us to believe we have a precision that is much better that what the dataset actually has to offer. A classic approach to performing a quick check on the residuals is to see if, as you bin more datapoints, their rms decreases with the square-root of the number of datapoints. If the data is distributed as gaussian random noise, then one should see a $1/\\sqrt{N}$ decline in this plot, where $N$ is the number of datapoints in a given bin. This is an easy check to make in this case:"
   ]
  },
  {
   "cell_type": "code",
   "execution_count": null,
   "metadata": {},
   "outputs": [],
   "source": [
    "plt.figure(figsize=(15, 5))\n",
    "\n",
    "bin_sizes = np.arange(10, 1000, 10)\n",
    "for i in [1, 2]:\n",
    "    order = 'order' + str(i)\n",
    "    plt.subplot('12' + str(i))\n",
    "    plt.title('Order ' + str(i) + ' residuals as a function of bin-size')\n",
    "    \n",
    "    rms = np.zeros(len(bin_sizes))\n",
    "    for j in range(len(bin_sizes)):\n",
    "        bin_size = bin_sizes[j]\n",
    "        binned_times, binned_residuals, binned_errors = juliet.utils.bin_data(spectra['times'],\n",
    "                                                                              spectra[order]['residuals'],\n",
    "                                                                              bin_size)\n",
    "        rms[j] = np.sqrt(np.var(binned_residuals)) * 1e6\n",
    "        \n",
    "    plt.plot(bin_sizes, rms, label='White-light lightcurve')\n",
    "    plt.plot(bin_sizes, (np.sqrt(bin_sizes[0]) * rms[0]) / np.sqrt(bin_sizes), label='Expected ($1/\\sqrt{N}$)')\n",
    "    plt.xscale('log')\n",
    "    plt.ylabel('RMS (ppm)')\n",
    "    plt.xlabel('Bin size')\n",
    "    \n",
    "plt.legend()"
   ]
  },
  {
   "cell_type": "markdown",
   "metadata": {},
   "source": [
    "The plots look very promising, but it is hard to see if there is any particular frequency at which we should be paying attention to. What about the power spectrum of the residuals? This basically transforms the time-series to Fourier space where we can actually see if there is any evidence for residual signals at different time-scales/frequencies:"
   ]
  },
  {
   "cell_type": "code",
   "execution_count": null,
   "metadata": {},
   "outputs": [],
   "source": [
    "plt.figure(figsize=(15, 5)) \n",
    "\n",
    "# Define frequencies in hours. From more or less the duration of the observation (~1 over 10 hours) to the \n",
    "# time-sampling (~1 over 1 minute, so over 1/60 hours)\n",
    "frequency = np.linspace(1. / 10., 1. / (1. / 60.), 1000)\n",
    "for i in [1, 2]:\n",
    "    order = 'order' + str(i)\n",
    "    plt.subplot('12' + str(i))\n",
    "    plt.title('Order ' + str(i) + ' Residuals Power Spectral Density (PSD)')\n",
    "    \n",
    "    ls = LombScargle((spectra['times'] - spectra['times'][0]) * 24, spectra[order]['residuals'])\n",
    "    psd = ls.power(frequency)\n",
    "    max_power = np.max(psd)\n",
    "    max_freq = frequency[np.where(max_power == psd)[0]][0]\n",
    "    fap = ls.false_alarm_probability(max_power) \n",
    "    print('Maximum power: {0:.4f}, frequency: {1:.2f}, FAP: {2:.2f}%'.format(max_power, max_freq, fap * 100))\n",
    "    \n",
    "    plt.plot(frequency,psd)\n",
    "    plt.ylabel('Power Spectral Density')\n",
    "    plt.xlabel('Frequency (1/hr)')\n",
    "    plt.xlim([1. / 10.,60.])"
   ]
  },
  {
   "cell_type": "markdown",
   "metadata": {},
   "source": [
    "This looks fairly good! There is apparently no clear peak in these power spectral densities, with peaks evenly distributed across all frequencies --- i.e., the noise pattern appears to be fairly \"white\". We thus move ahead with that hypothesis, and assume there is no residual signal and/or correlated noise in our fits left to mode.\n",
    "\n",
    "## 4. Fitting & analyzing the wavelength-dependent lightcurves\n",
    "\n",
    "One of the main products that ought to be analyzed when observing transits with JWST are the wavelength-dependent lightcurves. Fitting those lets us obtain the final product of our observations: its transmission spectrum. To retrieve this, let us fit the wavelength dependent lightcurves for each order. Unlike as with HST and ground-based low resolution lightcurves, JWST's precision is so impressive in cases like this that we won't need to bin the lightcurves --- we can work at the (extracted) \"pixel\"-level!\n",
    "\n",
    "First, let's extract those lightcurves, and lets plot them in a slightly different way than above: let's create a matrix, where the rows are the wavelengths, and the columns are the time-stamps. The values of this matrix will be the relative fluxes:"
   ]
  },
  {
   "cell_type": "code",
   "execution_count": null,
   "metadata": {},
   "outputs": [],
   "source": [
    "# Let's iterate then to get all the lightcurves:\n",
    "matrices = {}\n",
    "ntimes = len(spectra['times'])\n",
    "for order in ['order1', 'order2']:\n",
    "    \n",
    "    # Create the matrix for each order\n",
    "    nwavs = len(spectra[order]['w'])\n",
    "    matrices[order] = np.zeros([nwavs, ntimes])\n",
    "    for i in range(nwavs):\n",
    "        spectra[order]['wbin'+str(i)] = {}\n",
    "        \n",
    "        # Get central wavelength and limits:\n",
    "        spectra[order]['wbin' + str(i)]['w'] = spectra[order]['w'][i]\n",
    "        if i == 0:\n",
    "            dwav_min = np.abs((spectra[order]['w'][i+1] - spectra[order]['w'][i]) / 2.)\n",
    "            dwav_max = dwav_min\n",
    "        elif i == nwavs-1:\n",
    "            dwav_min = np.abs((spectra[order]['w'][i] - spectra[order]['w'][i-1]) / 2.)\n",
    "            dwav_max = dwav_min\n",
    "        else:\n",
    "            dwav_min = np.abs(spectra[order]['w'][i] - spectra[order]['w'][i-1]) / 2.\n",
    "            dwav_max = np.abs(spectra[order]['w'][i+1] - spectra[order]['w'][i]) / 2.\n",
    "            \n",
    "        # Extract lightcurve and errors:\n",
    "        spectra[order]['wbin' + str(i)]['lc'] = spectra[order]['flux'][:,i]\n",
    "        spectra[order]['wbin' + str(i)]['lc_errors'] = spectra[order]['flux_errors'][:,i]\n",
    "        \n",
    "        # Median normalize the extracted fluxes:\n",
    "        median_flux = np.median(spectra[order]['wbin' + str(i)]['lc'][:100])\n",
    "        spectra[order]['wbin' + str(i)]['lc'] = spectra[order]['wbin' + str(i)]['lc'] / median_flux\n",
    "        spectra[order]['wbin' + str(i)]['lc_errors'] = spectra[order]['wbin' + str(i)]['lc_errors'] / median_flux\n",
    "        matrices[order][i,:] = spectra[order]['wbin' + str(i)]['lc']\n",
    "\n",
    "times_hours = (spectra['times'] - spectra['times'][0]) * 24\n",
    "\n",
    "# Let's plot them:\n",
    "fig, (ax1, ax2) = plt.subplots(1, 2, figsize=(15, 10))\n",
    "\n",
    "# First, order 1:\n",
    "plt.title('Order 1 lightcurves')\n",
    "plt.xlabel('Time since start of observation')\n",
    "plt.ylabel('Wavelength')\n",
    "im1 = ax1.imshow(matrices['order1'], interpolation='none')\n",
    "im1.set_clim(0.985, 1.01)\n",
    "\n",
    "# Y axis:\n",
    "ticks = np.arange(0, len(spectra['order1']['w']), 250) \n",
    "ticklabels = [\"{:0.2f}\".format(spectra['order1']['w'][i]) for i in ticks]\n",
    "ax1.set_yticks(ticks)\n",
    "ax1.set_yticklabels(ticklabels)\n",
    "ax1.set_ylabel(r'Wavelength ($\\mu$m)')\n",
    "\n",
    "# X axis:\n",
    "ticks = np.arange(0, ntimes, 100) \n",
    "ticklabels = [\"{:0.2f}\".format(times_hours[i]) for i in ticks]\n",
    "ax1.set_xticks(ticks)\n",
    "ax1.set_xticklabels(ticklabels)\n",
    "ax1.set_xlabel('Hours since start of observations')\n",
    "\n",
    "# Repeat for order 2:\n",
    "plt.title('Order 2 lightcurves')\n",
    "plt.xlabel('Time since start of observation')\n",
    "plt.ylabel('Wavelength')\n",
    "im2 = ax2.imshow(matrices['order2'],interpolation='none')\n",
    "im2.set_clim(0.985, 1.01)\n",
    "\n",
    "# Y axis:\n",
    "ticks = np.arange(0, len(spectra['order2']['w']), 250) \n",
    "ticklabels = [\"{:0.2f}\".format(spectra['order2']['w'][i]) for i in ticks]\n",
    "ax2.set_yticks(ticks)\n",
    "ax2.set_yticklabels(ticklabels)\n",
    "ax2.set_ylabel(r'Wavelength ($\\mu$m)')\n",
    "\n",
    "# X axis:\n",
    "ticks = np.arange(0, ntimes, 100) \n",
    "ticklabels = [\"{:0.2f}\".format(times_hours[i]) for i in ticks]\n",
    "ax2.set_xticks(ticks)\n",
    "ax2.set_xticklabels(ticklabels)\n",
    "ax2.set_xlabel('Hours since start of observations')\n",
    "fig.colorbar(im1, shrink=0.4, label='Relative flux')"
   ]
  },
  {
   "cell_type": "markdown",
   "metadata": {},
   "source": [
    "Nice! As can be seen, this plot comes very handy. First of all, note how the transit is marked in the dark regions at all wavelengths where it is expected (i.e., where we saw them in the white-light lightcurves --- time of transit around 3.5 hours since start of observations). One can actually see how the lightcurves get noisier for longer wavelengths, which makes sense with the image plots (the traces fade to the left of all of our image/trace plots). On top of this, we can see that some lightcurves seem to be a bit noisier/corrupted than usual for Order 1 at the shorter wavelengths. We won't worry too much about those here, but this is a very important application of this kind of plots, which allow us to visually see outlier lightcurves in one simple image.\n",
    "\n",
    "Let's now fit those lightcurves. To this end, we once again use `juliet` --- however, we fix the ephemerides and orbital parameters ($P$, $t_0$, $a/R_*$ and $b$) to those found in the white-light analysis, as they should be wavelength-independent. To this end, we combine the posterior parameters from Orders 1 and 2. In our fits, thus, we only leave the transit depth, the out-of-transit flux and the \"jitter\" as free parameters. \n",
    "\n",
    "Let's first combine the orbital parameters using the posterior distributions of our white-light fits:"
   ]
  },
  {
   "cell_type": "code",
   "execution_count": null,
   "metadata": {},
   "outputs": [],
   "source": [
    "t0_median = np.median(np.append(spectra['order1']['results'].posteriors['posterior_samples']['t0_p1'],\n",
    "                                spectra['order2']['results'].posteriors['posterior_samples']['t0_p1']))\n",
    "\n",
    "b_median = np.median(np.append(b_1, b_2))\n",
    "rho_median = np.median(np.append(spectra['order1']['results'].posteriors['posterior_samples']['rho'],\n",
    "                                 spectra['order2']['results'].posteriors['posterior_samples']['rho']))\n",
    "\n",
    "print(t0_median, b_median, rho_median)"
   ]
  },
  {
   "cell_type": "markdown",
   "metadata": {},
   "source": [
    "And define the priors of our fit using those:"
   ]
  },
  {
   "cell_type": "code",
   "execution_count": null,
   "metadata": {},
   "outputs": [],
   "source": [
    "# Name of the parameters to be fit:\n",
    "params = ['P_p1', 't0_p1', 'rho', 'b_p1', 'q1_SOSS', 'q2_SOSS', 'ecc_p1', 'omega_p1',\n",
    "          'p_p1', 'mdilution_SOSS', 'mflux_SOSS', 'sigma_w_SOSS']\n",
    "\n",
    "# Distributions:\n",
    "dists = ['fixed', 'fixed', 'fixed', 'fixed', 'uniform', 'uniform', 'fixed', 'fixed',\n",
    "         'uniform', 'fixed', 'normal', 'loguniform']\n",
    "\n",
    "# Hyperparameters:\n",
    "hyperps = [4.4652997979, t0_median, rho_median, b_median, [0, 1], [0, 1], 0.0, 90.,\n",
    "           [0., 0.2], 1.0, [0., 0.1], [0.1, 1000.]]\n",
    "\n",
    "priors = juliet.generate_priors(params, dists, hyperps)"
   ]
  },
  {
   "cell_type": "markdown",
   "metadata": {},
   "source": [
    "And now we ingest those values into our priors, and fit the wavelength-dependent lightcurves. Note that **performing the fitting below with NIRISS/SOSS' native resolution can take _days_** (we need to run almost 3,000 `juliet` runs). Therefore, it is important to consider parallelizing these runs/fits in a real application. \n",
    "\n",
    "For simplicity (and speed) in rendering this notebook, we have pickled and uploaded the results of these fits --- these were downloaded in the second cell of this notebook above. By default, thus, this notebook will read these downloaded results directly. If you wish to run the fits on your own, however, you can set the `use_downloaded_results` variable below to `False`:"
   ]
  },
  {
   "cell_type": "code",
   "execution_count": null,
   "metadata": {},
   "outputs": [],
   "source": [
    "use_downloaded_results = True"
   ]
  },
  {
   "cell_type": "markdown",
   "metadata": {},
   "source": [
    "If the fits are ran, we create a matrix similar to the above, but now for the residuals of the wavelength-dependent light curves. If results were downloaded, these have been already generated, so we just extract them from these products:"
   ]
  },
  {
   "cell_type": "code",
   "execution_count": null,
   "metadata": {},
   "outputs": [],
   "source": [
    "# If use_downloaded_results is True, read results from downloaded file. If False, run fits and save results.\n",
    "residual_matrices = {}\n",
    "if use_downloaded_results:\n",
    "    transpec_results = pickle.load(open(transit_fits_results_path, 'rb'))\n",
    "    for order in ['order1', 'order2']:\n",
    "        residual_matrices[order] = transpec_results[order]['transmission_spectrum']['residual_matrix']\n",
    "        spectra[order]['transmission_spectrum'] = {}\n",
    "        spectra[order]['transmission_spectrum']['wavelengths'] = transpec_results[order]['transmission_spectrum']['wavelengths']\n",
    "        spectra[order]['transmission_spectrum']['depths'] = transpec_results[order]['transmission_spectrum']['depths']\n",
    "        spectra[order]['transmission_spectrum']['errors'] = transpec_results[order]['transmission_spectrum']['errors']\n",
    "        \n",
    "else:\n",
    "    for order in ['order1', 'order2']:    \n",
    "        spectra[order]['transmission_spectrum'] = {}\n",
    "        spectra[order]['transmission_spectrum']['wavelengths'] = np.array([])\n",
    "        spectra[order]['transmission_spectrum']['depths'] = np.array([])\n",
    "        spectra[order]['transmission_spectrum']['errors']= np.array([])\n",
    "    \n",
    "        nwavs = len(spectra[order]['w'])\n",
    "        residual_matrices[order] = np.zeros([nwavs, ntimes])\n",
    "        for i in range(nwavs):\n",
    "        \n",
    "            # Save dataset in juliet format:\n",
    "            times, fluxes, fluxes_error, norm_times = {},{},{}, {}\n",
    "            times['SOSS'], fluxes['SOSS'], fluxes_error['SOSS'] = spectra['times'],\\\n",
    "                                                              spectra[order]['wbin' + str(i)]['lc'],\\\n",
    "                                                              spectra[order]['wbin' + str(i)]['lc_errors']\n",
    "    \n",
    "            # Load and fit dataset with juliet (save them to order*_juliet_results):\n",
    "            spectra[order]['dataset'] = juliet.load(priors=priors, t_lc=times, y_lc=fluxes,\n",
    "                                                    yerr_lc=fluxes_error, ld_laws='squareroot',\n",
    "                                                    out_folder=order + '_wbin_' + str(i) + '_juliet_results')\n",
    "\n",
    "            spectra[order]['results'] = spectra[order]['dataset'].fit()\n",
    "\n",
    "            # Save transmission spectrum for plotting later:\n",
    "            spectra[order]['transmission_spectrum']['wavelengths'] = np.append(spectra[order]['transmission_spectrum']['wavelengths'],\n",
    "                                                                               spectra[order]['wbin'+str(i)]['w'])\n",
    "        \n",
    "            depths = ((spectra[order]['results'].posteriors['posterior_samples']['p_p1'])**2) * 1e6\n",
    "        \n",
    "            spectra[order]['transmission_spectrum']['depths'] = np.append(spectra[order]['transmission_spectrum']['depths'],\n",
    "                                                                          np.median(depths))\n",
    "            spectra[order]['transmission_spectrum']['errors'] = np.append(spectra[order]['transmission_spectrum']['errors'],\n",
    "                                                                          np.sqrt(np.var(depths)))\n",
    "        \n",
    "            # Save residuals:\n",
    "            residual_matrices[order][i,:] = (spectra[order]['wbin'+str(i)]['lc'] - \\\n",
    "                                             spectra[order]['results'].lc.evaluate('SOSS')) * 1e6\n",
    "        \n",
    "# Plot fits:\n",
    "fig,(ax1,ax2) = plt.subplots(1, 2, figsize=(15, 10))\n",
    "\n",
    "# First, order 1:\n",
    "plt.title('Order 1 lightcurve residuals')\n",
    "plt.xlabel('Time since start of observation')\n",
    "plt.ylabel('Wavelength')\n",
    "im1 = ax1.imshow(residual_matrices['order1'], interpolation='none')\n",
    "im1.set_clim(-1000, 1000)\n",
    "\n",
    "# Y axis:\n",
    "ticks = np.arange(0, len(spectra['order1']['w']), 250) \n",
    "ticklabels = [\"{:0.2f}\".format(spectra['order1']['w'][i]) for i in ticks]\n",
    "ax1.set_yticks(ticks)\n",
    "ax1.set_yticklabels(ticklabels)\n",
    "ax1.set_ylabel(r'Wavelength ($\\mu$m)')\n",
    "\n",
    "# X axis:\n",
    "ticks = np.arange(0, ntimes, 100) \n",
    "ticklabels = [\"{:0.2f}\".format(times_hours[i]) for i in ticks]\n",
    "ax1.set_xticks(ticks)\n",
    "ax1.set_xticklabels(ticklabels)\n",
    "ax1.set_xlabel('Hours since start of observations')\n",
    "\n",
    "# Repeat for order 2:\n",
    "plt.title('Order 2 lightcurve residuals')\n",
    "plt.xlabel('Time since start of observation')\n",
    "plt.ylabel('Wavelength')\n",
    "im2 = ax2.imshow(residual_matrices['order2'], interpolation='none')\n",
    "im2.set_clim(-1000, 1000)\n",
    "\n",
    "# Y axis:\n",
    "ticks = np.arange(0, len(spectra['order2']['w']), 250) \n",
    "ticklabels = [\"{:0.2f}\".format(spectra['order2']['w'][i]) for i in ticks]\n",
    "ax2.set_yticks(ticks)\n",
    "ax2.set_yticklabels(ticklabels)\n",
    "ax2.set_ylabel(r'Wavelength ($\\mu$m)')\n",
    "\n",
    "# X axis:\n",
    "ticks = np.arange(0, ntimes, 100) \n",
    "ticklabels = [\"{:0.2f}\".format(times_hours[i]) for i in ticks]\n",
    "ax2.set_xticks(ticks)\n",
    "ax2.set_xticklabels(ticklabels)\n",
    "ax2.set_xlabel('Hours since start of observations')\n",
    "fig.colorbar(im1, shrink=0.4, label='Residuals (ppm)')"
   ]
  },
  {
   "cell_type": "markdown",
   "metadata": {},
   "source": [
    "All right! That looks _great_. The residual image seems to be just random noise from the looks of it!\n",
    "\n",
    "Let's now see how our transmission spectrum looks. The model transmission spectrum we are using is taken from the ExoCTK website (https://exoctk.stsci.edu/generic), with properties that match that of HAT-P-1b. We'll plot the original, non-binned spectrum and also plot the binned spectrum on top:"
   ]
  },
  {
   "cell_type": "code",
   "execution_count": null,
   "metadata": {},
   "outputs": [],
   "source": [
    "plt.figure(figsize=(15, 5)) \n",
    "\n",
    "nbin = 21\n",
    "\n",
    "# Plot order 1 transit spectra:\n",
    "plt.errorbar(spectra['order1']['transmission_spectrum']['wavelengths'],\n",
    "             spectra['order1']['transmission_spectrum']['depths'],\n",
    "             spectra['order1']['transmission_spectrum']['errors'],\n",
    "             fmt='.', mfc='orangered', mec='orangered', ecolor='orangered',\n",
    "             ms=8, elinewidth=1, alpha=0.05, label=None)\n",
    "# Bin:\n",
    "wb1, db1, db1_err = juliet.utils.bin_data(spectra['order1']['transmission_spectrum']['wavelengths'],\n",
    "                                          spectra['order1']['transmission_spectrum']['depths'],\n",
    "                                          nbin)\n",
    "plt.errorbar(wb1, db1, db1_err,\n",
    "             fmt='o', mfc='white', \n",
    "             mec='orangered', ecolor='orangered',\n",
    "             ms=8, elinewidth=1, label='NIRISS/SOSS Order 1')\n",
    "\n",
    "# Same, order 2:\n",
    "plt.errorbar(spectra['order2']['transmission_spectrum']['wavelengths'],\n",
    "             spectra['order2']['transmission_spectrum']['depths'],\n",
    "             spectra['order2']['transmission_spectrum']['errors'],\n",
    "             fmt='.', mfc='cornflowerblue', mec='cornflowerblue',\n",
    "             ecolor='cornflowerblue', ms=8, elinewidth=1, alpha=0.05, label = None)\n",
    "\n",
    "wb2, db2, db2_err = juliet.utils.bin_data(spectra['order2']['transmission_spectrum']['wavelengths'],\n",
    "                                          spectra['order2']['transmission_spectrum']['depths'],\n",
    "                                          nbin)\n",
    "plt.errorbar(wb2, db2, db2_err,\n",
    "             fmt='o', mfc='white', \n",
    "             mec='cornflowerblue', ecolor='cornflowerblue',\n",
    "             ms=8, elinewidth=1, label='NIRISS/SOSS Order 2')\n",
    "\n",
    "# Plot the transit spectrum model:\n",
    "wavelength_model, transit_depth_model = np.loadtxt(transit_model_path, unpack=True)\n",
    "plt.plot(wavelength_model, transit_depth_model*1e6, color='black', lw=1, label='Model spectrum')\n",
    "\n",
    "# Mark some features in the plot:\n",
    "plt.text(0.6, 14800, 'Na', fontsize=13)\n",
    "plt.text(0.78, 14600, 'K', fontsize=13)\n",
    "plt.text(1.15, 14300, 'H$_2$O', fontsize=13)\n",
    "plt.text(1.4, 14500, 'H$_2$O', fontsize=13)\n",
    "plt.text(1.85, 14550, 'H$_2$O', fontsize=13)\n",
    "plt.text(2.5, 14700, 'H$_2$O', fontsize=13)\n",
    "\n",
    "# Define plot limits:\n",
    "plt.xlim(0.54, 2.85)\n",
    "plt.ylim(14000, 15000)\n",
    "plt.ylabel('Transit depth (ppm)')\n",
    "plt.xlabel('Wavelength ($\\mu$m)')\n",
    "plt.legend()"
   ]
  },
  {
   "cell_type": "markdown",
   "metadata": {},
   "source": [
    "Interesting! There are clear hints of the Na and K features in the blue-optical bandpass of Order 2. The Order 1 transmission spectrum, on the other hand, shows a very clear detection of several water bands in the entire NIRISS/SOSS range. There seems to be some problems at around ~1.75-2 microns where the contamination overlap between order 1 and 2 is largest, which is expected given our simple extraction routine used above.\n",
    "\n",
    "Overall, these results showcase the power of NIRISS/SOSS observations for targeting both optical and near-infrared features in the transit spectrum of HAT-P-1b."
   ]
  }
 ],
 "metadata": {
  "kernelspec": {
   "display_name": "Python 3",
   "language": "python",
   "name": "python3"
  },
  "language_info": {
   "codemirror_mode": {
    "name": "ipython",
    "version": 3
   },
   "file_extension": ".py",
   "mimetype": "text/x-python",
   "name": "python",
   "nbconvert_exporter": "python",
   "pygments_lexer": "ipython3",
   "version": "3.7.8"
  }
 },
 "nbformat": 4,
 "nbformat_minor": 4
}
