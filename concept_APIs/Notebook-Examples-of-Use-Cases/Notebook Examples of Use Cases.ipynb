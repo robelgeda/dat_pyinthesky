{
 "cells": [
  {
   "cell_type": "markdown",
   "metadata": {},
   "source": [
    "Notebook-compatible:💚"
   ]
  },
  {
   "cell_type": "markdown",
   "metadata": {},
   "source": [
    "Notebook-compatible:🔶"
   ]
  },
  {
   "cell_type": "markdown",
   "metadata": {},
   "source": [
    "Notebook-compatible:🔴"
   ]
  },
  {
   "cell_type": "markdown",
   "metadata": {},
   "source": [
    "## JWST Data Analysis Tools Use Case: Applying Glue to Wide-Field Slitless Spectroscopy "
   ]
  },
  {
   "cell_type": "markdown",
   "metadata": {},
   "source": [
    "https://outerspace.stsci.edu/display/JWSTDATF/JWST+Data+Analysis+Tools+Use+Case%3A+Applying+Glue+to+Wide-Field+Slitless+Spectroscopy"
   ]
  },
  {
   "cell_type": "markdown",
   "metadata": {},
   "source": [
    "Notebook-compatible:💚"
   ]
  },
  {
   "cell_type": "markdown",
   "metadata": {},
   "source": [
    "Requires lab w/ nb specviz, 2d-spec viewer, nb image viewer, glupyter"
   ]
  },
  {
   "cell_type": "code",
   "execution_count": null,
   "metadata": {},
   "outputs": [],
   "source": []
  },
  {
   "cell_type": "markdown",
   "metadata": {},
   "source": [
    "## JWST Data Analysis Tool Use Case for crowded field imaging"
   ]
  },
  {
   "cell_type": "markdown",
   "metadata": {},
   "source": [
    "https://outerspace.stsci.edu/display/JWSTDATF/JWST+Data+Analysis+Tool+Use+Case+for+crowded+field+imaging"
   ]
  },
  {
   "cell_type": "markdown",
   "metadata": {},
   "source": [
    "Notebook-compatible:💚\n",
    "\n",
    "Most of the workflow is python-standard data analysis w/ diagnostic plots, but potentially with some \"check this star\" image viewer workflows, particularly when the PSF needs to be empirically created."
   ]
  },
  {
   "cell_type": "markdown",
   "metadata": {},
   "source": [
    "Requires nb image viewer w/ \"click selection\", photutils.psf development + webbPSF\n",
    "\n",
    "Possibly out-of-scope: artificial star tools\n",
    "\n",
    "Probably out-of-scope: isochrone library download tools"
   ]
  },
  {
   "cell_type": "code",
   "execution_count": null,
   "metadata": {},
   "outputs": [],
   "source": []
  },
  {
   "cell_type": "markdown",
   "metadata": {},
   "source": [
    "## Use Case: NIRSpec IFU spectroscopy of high redshift galaxies"
   ]
  },
  {
   "cell_type": "markdown",
   "metadata": {},
   "source": [
    "https://outerspace.stsci.edu/display/JWSTDATF/Use+Case%3A+NIRSpec+IFU+spectroscopy+of+high+redshift+galaxies"
   ]
  },
  {
   "cell_type": "markdown",
   "metadata": {},
   "source": [
    "Notebook-compatible:💚\n",
    "\n",
    "Requires inspection of raw data *and* datacubes, possibly including ramps. \n",
    "\n",
    "May not need lab? Workflow is fairly linear\n",
    "\n",
    "Also requires \"pipeline helpers\" meaning re-building tubes from sub-sets of the raw data.\n",
    "\n",
    "Possibly out-of-scope: Voronoi binning/etc kinematics, psf matching/multi-wl combining\n",
    "\n",
    "Probably out-of-scope: stellar kinematics templates"
   ]
  },
  {
   "cell_type": "code",
   "execution_count": null,
   "metadata": {},
   "outputs": [],
   "source": []
  },
  {
   "cell_type": "markdown",
   "metadata": {},
   "source": [
    "## JWST Data Analysis Tools Use Case: Crowded Field Astrometry"
   ]
  },
  {
   "cell_type": "markdown",
   "metadata": {},
   "source": [
    "https://outerspace.stsci.edu/display/JWSTDATF/JWST+Data+Analysis+Tools+Use+Case%3A+Crowded+Field+Astrometry"
   ]
  },
  {
   "cell_type": "markdown",
   "metadata": {},
   "source": [
    "Notebook-compatible:💚\n",
    "\n",
    "Fairly linear workflow, requires image viewing, *possibly* lab for image sidecar.\n",
    "\n",
    "Needs careful geometric distortion measurements.  WebbPSF might be a starting point but definitely not ending point.  Needs spatially-variable (e?)PSF."
   ]
  },
  {
   "cell_type": "code",
   "execution_count": null,
   "metadata": {},
   "outputs": [],
   "source": []
  },
  {
   "cell_type": "markdown",
   "metadata": {},
   "source": [
    "## JWST Data-Analysis Tools Use-Case - NIRISS AMI"
   ]
  },
  {
   "cell_type": "markdown",
   "metadata": {},
   "source": [
    "https://outerspace.stsci.edu/display/JWSTDATF/JWST+Data-Analysis+Tools+Use-Case+-+NIRISS+AMI"
   ]
  },
  {
   "cell_type": "markdown",
   "metadata": {},
   "source": [
    "Notebook-compatible:💚\n",
    "\n",
    "Highly linear workflow\n",
    "\n",
    "Sometimes needs ramp viewer. Probably needs pipeline helpers? But unclear if the pipeline is used beyond the ramp. Current imreg probably sufficient (as long as BPMs can be manually adjusted).\n",
    "\n",
    "Probably out-of-scope: all the image reconstruction tools.  But should provide a way for them to conveniently visualize in the image viewer!"
   ]
  },
  {
   "cell_type": "code",
   "execution_count": null,
   "metadata": {},
   "outputs": [],
   "source": []
  },
  {
   "cell_type": "markdown",
   "metadata": {},
   "source": [
    "## JWST DATUC - Robberto"
   ]
  },
  {
   "cell_type": "markdown",
   "metadata": {},
   "source": [
    "https://outerspace.stsci.edu/display/JWSTDATF/JWST+DATUC+-+Robberto"
   ]
  },
  {
   "cell_type": "markdown",
   "metadata": {},
   "source": [
    "Definitely needs image viewer.  May need ramp viewer, although unclear.  High data volume requirements, possibly needs leaflet image viewer?\n",
    "\n",
    "Notebook-compatible:🔶 Workflow linear, but needs a lot of repetition.  May be better done as a script followed by nb for detailed science.  Might need nb-level testing for that turns into a script?\n",
    "\n",
    "Really wants something resembling pipeline runners\n",
    "\n",
    "imreg important but probably all good already"
   ]
  },
  {
   "cell_type": "code",
   "execution_count": null,
   "metadata": {},
   "outputs": [],
   "source": []
  },
  {
   "cell_type": "markdown",
   "metadata": {},
   "source": [
    "## JWST Data Analysis Tool Use Case: PSF Matching"
   ]
  },
  {
   "cell_type": "markdown",
   "metadata": {},
   "source": [
    "https://outerspace.stsci.edu/display/JWSTDATF/JWST+Data+Analysis+Tool+Use+Case%3A+PSF+Matching"
   ]
  },
  {
   "cell_type": "markdown",
   "metadata": {},
   "source": [
    "Notebook-compatible:💚\n",
    "\n",
    "A lot of this already there.  Mostly needs nb image-viewer and bonus would be more convolution/matching viz tools"
   ]
  },
  {
   "cell_type": "code",
   "execution_count": null,
   "metadata": {},
   "outputs": [],
   "source": []
  },
  {
   "cell_type": "markdown",
   "metadata": {},
   "source": [
    "## JWST Data Analysis Tool Use Case: Crowded Field Multi-Object Stellar Spectroscopy"
   ]
  },
  {
   "cell_type": "markdown",
   "metadata": {},
   "source": [
    "https://outerspace.stsci.edu/display/JWSTDATF/JWST+Data+Analysis+Tool+Use+Case%3A+Crowded+Field+Multi-Object+Stellar+Spectroscopy"
   ]
  },
  {
   "cell_type": "markdown",
   "metadata": {},
   "source": [
    "Notebook-compatible:💚\n",
    "\n",
    "Fairly linear, but a lot of the \"hard part\" is out-of-scope (the alignment), but to enable this, need all the viz tools except cube. A great \"does it all fit together\" workflow because all the image/2d/1d spec parts need to be used simultaneously.\n",
    "\n",
    "Probably requires pipeline runners."
   ]
  },
  {
   "cell_type": "code",
   "execution_count": null,
   "metadata": {},
   "outputs": [],
   "source": []
  },
  {
   "cell_type": "markdown",
   "metadata": {},
   "source": [
    "## Discovery and Follow-up of Transients with JWST"
   ]
  },
  {
   "cell_type": "markdown",
   "metadata": {},
   "source": [
    "https://outerspace.stsci.edu/display/JWSTDATF/Discovery+and+Follow-up+of+Transients+with+JWST"
   ]
  },
  {
   "cell_type": "markdown",
   "metadata": {},
   "source": [
    "Notebook-compatible:🔶 <-really want a dashboard\n",
    "\n",
    "Fairly standard photometry, but time-sensitive, so want something that quickly executed.  Could be an nb or lab that you can \"jump into\" a la the pipeline runners?\n",
    "\n",
    "Possibly out-of-scope: difference imaging, time series of past observations"
   ]
  },
  {
   "cell_type": "code",
   "execution_count": null,
   "metadata": {},
   "outputs": [],
   "source": []
  },
  {
   "cell_type": "markdown",
   "metadata": {},
   "source": [
    "## JWST Data Analysis Tools Use Case: Aligning and Resampling Spectra"
   ]
  },
  {
   "cell_type": "markdown",
   "metadata": {},
   "source": [
    "https://outerspace.stsci.edu/display/JWSTDATF/JWST+Data+Analysis+Tools+Use+Case%3A+Aligning+and+Resampling+Spectra"
   ]
  },
  {
   "cell_type": "markdown",
   "metadata": {},
   "source": [
    "Notebook-compatible:💚 Linear workflows\n",
    "\n",
    "Definitely requires pipeline runners and spec viz tools.\n",
    "\n",
    "Possibly out-of-scope: more customization of pipelines to combine multiple modes/etc.  May be specreduce realm?"
   ]
  },
  {
   "cell_type": "code",
   "execution_count": null,
   "metadata": {},
   "outputs": [],
   "source": []
  },
  {
   "cell_type": "markdown",
   "metadata": {},
   "source": [
    "## JWST Data Analysis Use Case: MOS Spectroscopy of Typical Extragalactic Fields"
   ]
  },
  {
   "cell_type": "markdown",
   "metadata": {},
   "source": [
    "https://outerspace.stsci.edu/display/JWSTDATF/JWST+Data+Analysis+Use+Case%3A+MOS+Spectroscopy+of+Typical+Extragalactic+Fields"
   ]
  },
  {
   "cell_type": "markdown",
   "metadata": {},
   "source": [
    "Notebook-compatible:💚 very linear workflow\n",
    "\n",
    "Much of workflow already possible in specutils.  Visualization requires all of the vizes except cube. May require leaflet-style image viewer for large survey fields?\n",
    "\n",
    "Possibly not-in-scope: spectral xcorr (but may need \"hooks\" in specviz?)\n",
    "\n",
    "Probably not-in-scope: multiwavelength photometry helpers"
   ]
  },
  {
   "cell_type": "code",
   "execution_count": null,
   "metadata": {},
   "outputs": [],
   "source": []
  },
  {
   "cell_type": "markdown",
   "metadata": {},
   "source": [
    "## JWST Data Analysis Tool Use Case: JWST and ALMA Datacubes"
   ]
  },
  {
   "cell_type": "markdown",
   "metadata": {},
   "source": [
    "https://outerspace.stsci.edu/display/JWSTDATF/JWST+Data+Analysis+Tool+Use+Case%3A++JWST+and+ALMA+Datacubes"
   ]
  },
  {
   "cell_type": "markdown",
   "metadata": {},
   "source": [
    "Notebook-compatible:💚 fairly linear workflow, although realistically some \"talking back\" likely where looking at ALMA makes one realize they have to adjust the JWST work.\n",
    "\n",
    "Needs all the vizes including cube.\n",
    "\n",
    "A bit unclear if the \"remove PSF substructure\" step actually is pipeline or not (which this case says is already done).  For these purposes, will consider it a case-by-case step that needs cubeviz + spectral-cube.\n",
    "\n",
    "Possibly not-in-scope: registering of the spectral cube to other datasets"
   ]
  },
  {
   "cell_type": "code",
   "execution_count": null,
   "metadata": {},
   "outputs": [],
   "source": []
  },
  {
   "cell_type": "markdown",
   "metadata": {},
   "source": [
    "## JWST Data Analysis Tool Use Case - NIRISS AMI Exoplanet Followup"
   ]
  },
  {
   "cell_type": "markdown",
   "metadata": {},
   "source": [
    "https://outerspace.stsci.edu/display/JWSTDATF/JWST+Data+Analysis+Tool+Use+Case+-+NIRISS+AMI+Exoplanet+Followup"
   ]
  },
  {
   "cell_type": "markdown",
   "metadata": {},
   "source": [
    "Notebook-compatible:💚\n",
    "\n",
    "Linear workflow.  Currently could be done with ds9/static plotting, but awkwardly.\n",
    "\n",
    "Requires possibly-manual bad pixel cleaning. An optional branch requires ramp viewer.  Also optional might be pipeline re-runners?\n",
    "\n",
    "Possibly out-of-scope: the visualization steps that actually show the result of the regularization, etc.  Might be a great \"build your own nb GUI\" example, though?\n",
    "\n",
    "Probably out-of-scope: the actual regularization code"
   ]
  },
  {
   "cell_type": "code",
   "execution_count": null,
   "metadata": {},
   "outputs": [],
   "source": []
  },
  {
   "cell_type": "markdown",
   "metadata": {},
   "source": [
    "## JWST Data-Analysis Tools Use-Case: Molecular abundance retrieval"
   ]
  },
  {
   "cell_type": "markdown",
   "metadata": {},
   "source": [
    "https://outerspace.stsci.edu/display/JWSTDATF/JWST+Data-Analysis+Tools+Use-Case%3A+Molecular+abundance+retrieval"
   ]
  },
  {
   "cell_type": "markdown",
   "metadata": {},
   "source": [
    "Notebook-compatible:💚 Linear workflow. Quite possible now but specifically stated as \"painful\" b/c the 1d/2d viewers are not well-suited to the complex line-fitting needs\n",
    "\n",
    "A bit unclear is how much the cube vs 2d spectra workflows are critical.  Assuming v. useful but not strictly necessary.\n",
    "\n",
    "Probably out-of-scope: The actual line-modeling codes. Need to be pluggable into specutils etc., though."
   ]
  },
  {
   "cell_type": "code",
   "execution_count": null,
   "metadata": {},
   "outputs": [],
   "source": []
  },
  {
   "cell_type": "markdown",
   "metadata": {},
   "source": [
    "## Slitless spectroscopy of typical extragalactic fields"
   ]
  },
  {
   "cell_type": "markdown",
   "metadata": {},
   "source": [
    "https://outerspace.stsci.edu/display/JWSTDATF/Slitless+spectroscopy+of+typical+extragalactic+fields"
   ]
  },
  {
   "cell_type": "markdown",
   "metadata": {},
   "source": [
    "Already nominally doable in nb if we ignore the out-of-scope parts. Notebook-compatible:💚\n",
    "\n",
    "Requires really only an image viewer, but with back-and-forth from grism simulations.  May require leaflet-style viewer for large survey fields?\n",
    "\n",
    "Probably out-of-scope: the actual grism reduction/simulation machinery"
   ]
  },
  {
   "cell_type": "code",
   "execution_count": null,
   "metadata": {},
   "outputs": [],
   "source": []
  },
  {
   "cell_type": "markdown",
   "metadata": {},
   "source": [
    "## JWST Data Analysis Tool Use Case For Two-Dimensional Modeling Of Galaxies"
   ]
  },
  {
   "cell_type": "markdown",
   "metadata": {},
   "source": [
    "https://outerspace.stsci.edu/display/JWSTDATF/JWST+Data+Analysis+Tool+Use+Case+For+Two-Dimensional+Modeling+Of+Galaxies"
   ]
  },
  {
   "cell_type": "markdown",
   "metadata": {},
   "source": [
    "Notebook-compatible:💚 Linear workflow. \n",
    "\n",
    "Mostly straightforward visualization, but may need leaflet-scale features. Also possibly important to have glue-like linked visualization?\n",
    "\n",
    "Probably out-of-scope: the actual galaxy morphology modeling codes (although possibly in-scope for photutils as the \"engine\")"
   ]
  },
  {
   "cell_type": "code",
   "execution_count": null,
   "metadata": {},
   "outputs": [],
   "source": []
  },
  {
   "cell_type": "markdown",
   "metadata": {},
   "source": [
    "## Sky Fitting and Subtraction"
   ]
  },
  {
   "cell_type": "markdown",
   "metadata": {},
   "source": [
    "https://outerspace.stsci.edu/display/JWSTDATF/Sky+Fitting+and+Subtraction"
   ]
  },
  {
   "cell_type": "markdown",
   "metadata": {},
   "source": [
    "Notebook-compatible:💚 Fully-linear workflow. \n",
    "\n",
    "Mostly straightforward visualization, but may need leaflet-scale features, although this is less apparent than some of the others since background are generally more local?"
   ]
  },
  {
   "cell_type": "code",
   "execution_count": null,
   "metadata": {},
   "outputs": [],
   "source": []
  },
  {
   "cell_type": "markdown",
   "metadata": {},
   "source": [
    "## NIRSpec long-slit spectroscopy"
   ]
  },
  {
   "cell_type": "markdown",
   "metadata": {},
   "source": [
    "https://outerspace.stsci.edu/display/JWSTDATF/NIRSpec+long-slit+spectroscopy"
   ]
  },
  {
   "cell_type": "markdown",
   "metadata": {},
   "source": [
    "Notebook-compatible:💚 Linear workflow (although *exact* workflow a bit ambiguous).\n",
    "\n",
    "Mostly requires spectral visualizations.  Needs lots of easy connections between the spec/img vizes (lab?).  Possibly pipeline runner helpful to tweak choice on a per-shutter basis.\n",
    "\n",
    "Possibly out-of-scope: the distortion tool requested, as it seems rather use-case specific."
   ]
  },
  {
   "cell_type": "code",
   "execution_count": null,
   "metadata": {},
   "outputs": [],
   "source": []
  },
  {
   "cell_type": "markdown",
   "metadata": {},
   "source": [
    "## JWST Data Analysis Tool Use Case: MOS mapping of multiple objects (scanned slits)"
   ]
  },
  {
   "cell_type": "markdown",
   "metadata": {},
   "source": [
    "https://outerspace.stsci.edu/pages/viewpage.action?pageId=11666566"
   ]
  },
  {
   "cell_type": "markdown",
   "metadata": {},
   "source": [
    "Similar to above, but with an \"option on\" cube modes. Hence Notebook-compatible:💚  This adds cubeviz and spectral-cube needs and makes it impossible with current machinery.  Also requires some way to \"build\" long-slits from cubes."
   ]
  },
  {
   "cell_type": "code",
   "execution_count": null,
   "metadata": {},
   "outputs": [],
   "source": []
  },
  {
   "cell_type": "markdown",
   "metadata": {},
   "source": [
    "## JWST Data Analysis Tool Use Case: JWST Galactic IFU Science"
   ]
  },
  {
   "cell_type": "markdown",
   "metadata": {},
   "source": [
    "https://outerspace.stsci.edu/display/JWSTDATF/JWST+Data+Analysis+Tool+Use+Case%3A++JWST+Galactic+IFU+Science"
   ]
  },
  {
   "cell_type": "markdown",
   "metadata": {},
   "source": [
    "Semi-linear.  May require a lot of cube back-and-forth which leads to lab, but overall workflow linear enough for Notebook-compatible:💚\n",
    "\n",
    "Requires detailed quality-inspection of cubes (although a bit light on detail), probably one of the most stringent cubeviz driver? Pipeline-runners assumed not needed, but \"regenerate if necessary\" implies they are. Rest is a standard cube-based workflow.\n",
    "\n",
    "Actual data analysis tasks are not really detailed enough to build examples from (e.g., \"kinematic analysis\" can be a lot of things.), but probably are in most cases science-case-specific as long as line ratio and emission maps are possible both in the nb and the viz."
   ]
  },
  {
   "cell_type": "code",
   "execution_count": null,
   "metadata": {},
   "outputs": [],
   "source": []
  },
  {
   "cell_type": "markdown",
   "metadata": {},
   "source": [
    "## JWST Integral Field Unit (IFU) for MIRI: Use Case"
   ]
  },
  {
   "cell_type": "markdown",
   "metadata": {},
   "source": [
    "https://outerspace.stsci.edu/display/JWSTDATF/JWST+Integral+Field+Unit+%28IFU%29+for+MIRI%3A+Use+Case"
   ]
  },
  {
   "cell_type": "markdown",
   "metadata": {},
   "source": [
    "Highly ambiguous what actual tools are desired... But somewhat similar to the Galactic IFU case with more of an emphasis on need to fiddle with extraction parameters based on point source-vs-exetended results (i.e. pipeline runners?).  Added elements are \"cross-matching\" with ALFA, Herschel, etc. Workflow seems very intertwined, though.  Possibly moreso than others? Speculatively: Notebook-compatible:🔶\n",
    "\n",
    "Possibly out-of-scope: specutils/spectral cube support for *physical* line models"
   ]
  },
  {
   "cell_type": "code",
   "execution_count": null,
   "metadata": {},
   "outputs": [],
   "source": []
  },
  {
   "cell_type": "markdown",
   "metadata": {},
   "source": [
    "## JWST Data Analysis Tool Use Case: GLUE functionality for young stellar cluster programs"
   ]
  },
  {
   "cell_type": "markdown",
   "metadata": {},
   "source": [
    "https://outerspace.stsci.edu/display/JWSTDATF/JWST+Data+Analysis+Tool+Use+Case%3A+GLUE+functionality+for+young+stellar+cluster+programs"
   ]
  },
  {
   "cell_type": "markdown",
   "metadata": {},
   "source": [
    "Most work described is linear, although some back-and-forth with NIRSpec MPT.  But linearity of *analysis* suggests Notebook-compatible:💚\n",
    "\n",
    "Glupyter simplifies all of it, but basically possible now, just not as efficient.  Primarily glue bread-and-butter of loading catalogs, but need a specific output format with repeatable, justifying glupyter w/ saving of selections."
   ]
  },
  {
   "cell_type": "code",
   "execution_count": null,
   "metadata": {},
   "outputs": [],
   "source": []
  },
  {
   "cell_type": "markdown",
   "metadata": {},
   "source": [
    "## JWST Data Analysis Tool Use Case: GLUE functionality for multi-mission investigations of resolved stellar populations"
   ]
  },
  {
   "cell_type": "markdown",
   "metadata": {},
   "source": [
    "https://outerspace.stsci.edu/display/JWSTDATF/JWST+Data+Analysis+Tool+Use+Case%3A+GLUE+functionality+for+multi-mission+investigations+of+resolved+stellar+populations"
   ]
  },
  {
   "cell_type": "markdown",
   "metadata": {},
   "source": [
    "Two-pipe linear workflows, although one is probably actuall pipeline.  Might require two/three NBs, but still compatible in that mode esp. w/ pipeline runners -  Notebook-compatible:💚\n",
    "\n",
    "May require pipleine runners but might just use outputs.  Use case focuses on multi-dataset combinations, not even including the actual JWST reduction, and therefore might not require anything except vanilla Glupyter.\n",
    "\n",
    "Probably out-of-scope: CMD simulating tools.  Most are custom anyway and depend on bizzare isochrone choices."
   ]
  },
  {
   "cell_type": "code",
   "execution_count": null,
   "metadata": {},
   "outputs": [],
   "source": []
  },
  {
   "cell_type": "markdown",
   "metadata": {},
   "source": [
    "## JWST Data Analysis Tool Use Case - Exoplanet Transits"
   ]
  },
  {
   "cell_type": "markdown",
   "metadata": {},
   "source": [
    "https://outerspace.stsci.edu/display/JWSTDATF/JWST+Data+Analysis+Tool+Use+Case+-+Exoplanet+Transits"
   ]
  },
  {
   "cell_type": "markdown",
   "metadata": {},
   "source": [
    "Workflow linear, but probably many distinct notebooks? Each still seems to be Notebook-compatible:💚, although some of the time-series analysis *might* end up Notebook-compatible:🔶 depending on whether the spectral time series/specviz is powerful enough?\n",
    "\n",
    "Not clear of pipeline runner a requirement or just noting desired outputs.\n",
    "\n",
    "Needs access to engineering data + time series of observations.\n",
    "\n",
    "Possibly out-of-scope: a *spectral* time series tool?"
   ]
  },
  {
   "cell_type": "code",
   "execution_count": null,
   "metadata": {},
   "outputs": [],
   "source": []
  },
  {
   "cell_type": "markdown",
   "metadata": {},
   "source": [
    "## JWST Data Analysis Tools Use Case: Alignment and Resampling of Images"
   ]
  },
  {
   "cell_type": "markdown",
   "metadata": {},
   "source": [
    "https://outerspace.stsci.edu/display/JWSTDATF/JWST+Data+Analysis+Tools+Use+Case%3A+Alignment+and+Resampling+of+Images"
   ]
  },
  {
   "cell_type": "markdown",
   "metadata": {},
   "source": [
    "Workflows all linear:  Notebook-compatible:💚\n",
    "\n",
    "Much already notebook-compatible.  Might be improved by some helpers + photutils work recognizing sky coords.  Mostly already there."
   ]
  },
  {
   "cell_type": "code",
   "execution_count": null,
   "metadata": {},
   "outputs": [],
   "source": []
  },
  {
   "cell_type": "markdown",
   "metadata": {},
   "source": [
    "## JWST Data Analysis Tool Use Case: Spectral Extraction"
   ]
  },
  {
   "cell_type": "markdown",
   "metadata": {},
   "source": [
    "https://outerspace.stsci.edu/display/JWSTDATF/JWST+Data+Analysis+Tool+Use+Case%3A+Spectral+Extraction"
   ]
  },
  {
   "cell_type": "markdown",
   "metadata": {},
   "source": [
    "Essentially the pipeline runners raison d'etre, but as a post-tool. Needs custom control over the PSF used to extract the spectrum though.  Calls for specviz and 2d version, probably also image viewer and photutils. Particularly needs PSF from photutils to be castable to what's used in pipeline.  Possible or no right now?\n",
    "\n",
    "Workflow a bit vague, but seems only few-step in general (check pipeline output, improve PSF model, re-run), so Notebook-compatible:💚"
   ]
  },
  {
   "cell_type": "code",
   "execution_count": null,
   "metadata": {},
   "outputs": [],
   "source": []
  },
  {
   "cell_type": "markdown",
   "metadata": {},
   "source": [
    "## IFU spectroscopy of Uranus"
   ]
  },
  {
   "cell_type": "markdown",
   "metadata": {},
   "source": [
    "https://outerspace.stsci.edu/display/JWSTDATF/IFU+spectroscopy+of+Uranus"
   ]
  },
  {
   "cell_type": "markdown",
   "metadata": {},
   "source": [
    "Rather stringent absolute astrometry/alignment of IFU-to-image requirements.  Just need to \"verify\" pipeline outputs, so runners probably not necessary? Workflows all seem about as linear as other cube things (some back-and-forth, but with most parts fairly linear: Notebook-compatible:💚 at least w/ recording of cube GUI state)\n",
    "\n",
    "Need to do standard IFU/cube things, but *reprojected* into uranus lat/lon.  These include line fitting, emission maps, cube-to-other-cube comparisons, line kinematic maps.\n",
    "\n",
    "Possibly out-of-scope: spectrophotometric matching baked into the IFU\n",
    "\n",
    "Probably out-of-scope: suffiencetly high quality astrometry of planets (but maybe Astropy is good for this anyway w/ JPL ephemerides?)"
   ]
  },
  {
   "cell_type": "code",
   "execution_count": null,
   "metadata": {},
   "outputs": [],
   "source": []
  },
  {
   "cell_type": "markdown",
   "metadata": {},
   "source": [
    "## JWST Data Analysis Tools Use Case: Background subtraction using a master background spectrum (NIRSpec spectroscopy)"
   ]
  },
  {
   "cell_type": "markdown",
   "metadata": {},
   "source": [
    "https://outerspace.stsci.edu/pages/viewpage.action?pageId=11666586"
   ]
  },
  {
   "cell_type": "markdown",
   "metadata": {},
   "source": [
    "Limited workflow description, but seems pretty clearly linear so Notebook-compatible:💚\n",
    "\n",
    "Most already implemented assuming pipeline outputs are accurate. DAT would simply be inspecting spec and cube to ensure the master bkgs are good.\n",
    "\n",
    "Possibly out-of-scope: 1D -> 2D expansion not implemented yet, but might be in INS?"
   ]
  },
  {
   "cell_type": "code",
   "execution_count": null,
   "metadata": {},
   "outputs": [],
   "source": []
  }
 ],
 "metadata": {
  "kernelspec": {
   "display_name": "Python 3",
   "language": "python",
   "name": "python3"
  },
  "language_info": {
   "codemirror_mode": {
    "name": "ipython",
    "version": 3
   },
   "file_extension": ".py",
   "mimetype": "text/x-python",
   "name": "python",
   "nbconvert_exporter": "python",
   "pygments_lexer": "ipython3",
   "version": "3.6.7"
  }
 },
 "nbformat": 4,
 "nbformat_minor": 2
}
