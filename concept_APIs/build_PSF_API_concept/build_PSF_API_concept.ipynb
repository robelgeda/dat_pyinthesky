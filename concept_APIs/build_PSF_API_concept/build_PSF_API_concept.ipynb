{
 "cells": [
  {
   "cell_type": "markdown",
   "metadata": {},
   "source": [
    "This notebook is from March 2017 (*before* the PSF workshop at STScI) "
   ]
  },
  {
   "cell_type": "code",
   "execution_count": null,
   "metadata": {
    "collapsed": true
   },
   "outputs": [],
   "source": [
    "... imports ...\n",
    "\n",
    "from photutils.psf import build_psf"
   ]
  },
  {
   "cell_type": "code",
   "execution_count": null,
   "metadata": {
    "collapsed": true
   },
   "outputs": [],
   "source": [
    "# do whatever data loading is required. \n",
    "...\n",
    "list_of_ndd_obj = load_data(...)  \n",
    "# The end result should be a list of NDData objects containing all the \n",
    "# dithers in one filter for that observation"
   ]
  },
  {
   "cell_type": "markdown",
   "metadata": {},
   "source": [
    "# Baseline object"
   ]
  },
  {
   "cell_type": "markdown",
   "metadata": {},
   "source": [
    "To follow the rest of the PSF machinery, the structure here is to create a class where all the parameters get set, and then run that class on the data."
   ]
  },
  {
   "cell_type": "markdown",
   "metadata": {},
   "source": [
    "## Creating the builder "
   ]
  },
  {
   "cell_type": "code",
   "execution_count": null,
   "metadata": {
    "collapsed": true
   },
   "outputs": [],
   "source": [
    "psf_builder = PSFBuilder(model=Gaussian2D())  \n",
    "# while most parameters should have defaults, it may be that the `model` is special and should have to be specified explicitly"
   ]
  },
  {
   "cell_type": "markdown",
   "metadata": {},
   "source": [
    "You use the keywords to specify specific algorithms for sub-stages of the process. E.g., if a specific fitter is desired:"
   ]
  },
  {
   "cell_type": "code",
   "execution_count": null,
   "metadata": {
    "collapsed": true
   },
   "outputs": [],
   "source": [
    "psf_builder = PSFBuilder(model=EPSF(), fitter=EPPSFFitter(...))"
   ]
  },
  {
   "cell_type": "markdown",
   "metadata": {},
   "source": [
    "Some parameters might be intrinsic to the building process, which can just be lone keywords:"
   ]
  },
  {
   "cell_type": "code",
   "execution_count": null,
   "metadata": {
    "collapsed": true
   },
   "outputs": [],
   "source": [
    "psf_builder = PSFBuilder(model=Gaussian2D(), max_psf_iters=5)"
   ]
  },
  {
   "cell_type": "markdown",
   "metadata": {},
   "source": [
    "Whereas parameters specific to a given step can be given as arguments to those objects:"
   ]
  },
  {
   "cell_type": "code",
   "execution_count": null,
   "metadata": {
    "collapsed": true
   },
   "outputs": [],
   "source": [
    "# this would mean that in the \n",
    "psf_builder = PSFBuilder(model=Gaussian2D(), recenterer=FirstMoment(sigclip=True))"
   ]
  },
  {
   "cell_type": "markdown",
   "metadata": {},
   "source": [
    "For customizable stages, photutils should provide specific cases (like `FirstMoment` or `OFilter`), but these should be callables, so that the user can do the simple thing of just something like:"
   ]
  },
  {
   "cell_type": "code",
   "execution_count": null,
   "metadata": {
    "collapsed": true
   },
   "outputs": [],
   "source": [
    "def custom_recenterer(star_image, x0, y0):\n",
    "    # you've decided for some reason the first moment gives something that's always .1 pixels off...\n",
    "    x0, y0 = FirstMoment()(star_image, x0, y0)\n",
    "    return x0 + .1, y0 + .1\n",
    "    \n",
    "psf_builder = PSFBuilder(model=Gaussian2D(), recenterer=custom_recenterer) "
   ]
  },
  {
   "cell_type": "markdown",
   "metadata": {},
   "source": [
    "## Running the builder "
   ]
  },
  {
   "cell_type": "markdown",
   "metadata": {},
   "source": [
    "In the below, `psf_stars` is an astropy table that looks like what the star-finder outputs.  The key bits the builder will look for are either:\n",
    "* a pair of columns called `xcentroid`/`ycentroid` (which will be interpreted as x/y in the *first* image of the list - so then `wcs` is only required if there's more than one image), or \n",
    "* `world_x`/`world_y`, which will then use the `wcs` for all of the images to convert to pixel space."
   ]
  },
  {
   "cell_type": "code",
   "execution_count": null,
   "metadata": {
    "collapsed": true
   },
   "outputs": [],
   "source": [
    "psf_model, psf_stars_perdither = psf_builder(list_of_ndd_obj, psf_stars)"
   ]
  },
  {
   "cell_type": "markdown",
   "metadata": {},
   "source": [
    "The key end result is the `psf_model`, which is a 2D Astropy model that maps x,y to the PSF flux.  This is the same  current `photutils.psf` models like `FittableImageModel`. Should be normalized so that if the `flux` parameter is 1, the PSF's total flux is 1. Note that this *might* not mean the ePSF sums to 1: this allows aperture corrections to be folded into the model.\n",
    "\n",
    "The `psf_stars_perdither` is a list of `Table`s, one for each `list_of_ndd_obj` NDData's. It's the same shape as psf_stars, but would carry with it information like the exact pixel coordinates for *that* dither (computed from the wcs), how much that star in that dither was weighted in the final PSF, etc."
   ]
  },
  {
   "cell_type": "markdown",
   "metadata": {},
   "source": [
    "# Putting it together"
   ]
  },
  {
   "cell_type": "markdown",
   "metadata": {},
   "source": [
    "This demonstrates how the machinery would fit together with the whole PSF-photometry process (without any quality-checking in the loop for simplicity)"
   ]
  },
  {
   "cell_type": "code",
   "execution_count": null,
   "metadata": {
    "collapsed": true
   },
   "outputs": [],
   "source": [
    "fwhm = 3.0  # a guess that you'd need to input based on seeing, or knowledge that it's JWST data\n",
    "\n",
    "combined = reproject.drizzle(list_of_ndd_obj)  \n",
    "# drizzle functionality doesn't exist yet in `reproject`, but it is planned...\n",
    "\n",
    "mean, median, std = sigma_clipped_stats(combined, sigma=3.0, iters=5)\n",
    "\n",
    "psf_stars =  IRAFStarFinder(fwhm=fwhm, threshold=50*std)(combined)"
   ]
  },
  {
   "cell_type": "code",
   "execution_count": null,
   "metadata": {
    "collapsed": true
   },
   "outputs": [],
   "source": [
    "psf_builder = PSFBuilder(model=EPSF() fitter=EPSFFitter()) \n",
    "psf_model, psf_stars_perdither =  psf_builder(list_of_ndd_obj, psf_stars)"
   ]
  },
  {
   "cell_type": "code",
   "execution_count": null,
   "metadata": {
    "collapsed": true
   },
   "outputs": [],
   "source": [
    "photometry = DAOPhotPSFPhotometry(crit_separation=10, threshold=5*std, fwhm=fwhm, \n",
    "                                  psf_model=psf_model, \n",
    "                                  fitshape=(11, 11))\n",
    "# currently, DAOPhotPSFPhotometry only supports running on a single image\n",
    "result_tab = photometry(combined)"
   ]
  },
  {
   "cell_type": "markdown",
   "metadata": {},
   "source": [
    "Now `result_tab` contains the photometry information desired. Specifically, it contains `x_fit`, `y_fit`, and `flux_fit` columns, as well as `x_0`, `y_0`, and `flux_0` (the initial guesses)."
   ]
  },
  {
   "cell_type": "markdown",
   "metadata": {},
   "source": [
    "Later on, when we have the per-dither fitting working, it would be:"
   ]
  },
  {
   "cell_type": "code",
   "execution_count": null,
   "metadata": {
    "collapsed": true
   },
   "outputs": [],
   "source": [
    "result_tab = photometry(list_of_ndd_obj)"
   ]
  },
  {
   "cell_type": "markdown",
   "metadata": {},
   "source": [
    "And `result_tab` would *also* have  columns that provide information on specific dithers."
   ]
  },
  {
   "cell_type": "markdown",
   "metadata": {},
   "source": [
    "### Quality checks "
   ]
  },
  {
   "cell_type": "markdown",
   "metadata": {},
   "source": [
    "A standing question is how to populate the table with quality checks.  Should that be considered part of the photometry process?  If so, the `result_tab` would already have them.  Alternatively, it could be a separate step, a la:"
   ]
  },
  {
   "cell_type": "code",
   "execution_count": null,
   "metadata": {
    "collapsed": true
   },
   "outputs": [],
   "source": [
    "#DAOPhotStatistics does not exist at the time of this writing, so this is just a concept\n",
    "result_tab = DAOPhotStatistics(sigma_clip=5)(result_tab, combined, psf_model)  "
   ]
  },
  {
   "cell_type": "markdown",
   "metadata": {},
   "source": [
    "and the new `result_tab` would gain `chi` and `sharp` statistics"
   ]
  },
  {
   "cell_type": "markdown",
   "metadata": {},
   "source": [
    "# Heuristic high-level function (extreme stretch goal)"
   ]
  },
  {
   "cell_type": "markdown",
   "metadata": {},
   "source": [
    "A `build_psf` function here would have to make a lot of assumptions about the data, etc.  So the function would probably need to contain a lot of heuristic bits to guess detection thresholds,  etc.  But the idea would be that it would pull together all of the above into a one-stop-shop thing."
   ]
  },
  {
   "cell_type": "code",
   "execution_count": null,
   "metadata": {
    "collapsed": true
   },
   "outputs": [],
   "source": [
    "psf_model = build_psf(list_of_ndd_obj)"
   ]
  }
 ],
 "metadata": {
  "anaconda-cloud": {},
  "kernelspec": {
   "display_name": "Python [default]",
   "language": "python",
   "name": "python3"
  },
  "language_info": {
   "codemirror_mode": {
    "name": "ipython",
    "version": 3
   },
   "file_extension": ".py",
   "mimetype": "text/x-python",
   "name": "python",
   "nbconvert_exporter": "python",
   "pygments_lexer": "ipython3",
   "version": "3.5.2"
  }
 },
 "nbformat": 4,
 "nbformat_minor": 1
}
