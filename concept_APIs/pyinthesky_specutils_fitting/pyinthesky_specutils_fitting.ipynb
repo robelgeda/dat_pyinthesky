{
 "cells": [
  {
   "cell_type": "markdown",
   "metadata": {},
   "source": [
    "# User Experience Concept for Specutils fitting \n",
    "\n",
    "Created May 2018\n",
    "\n",
    "This is an example user workflow showing the plan for a typical line-fitting operation for a user.\n",
    "\n",
    "Note: this is *not* scoped to be \"all line fitting for everyone\".  Plenty of astronomers have strong opinions about various parts of this process and probably want to do their own thing.  The goal here is to provide pieces that users can use to produce their own workflows in that case."
   ]
  },
  {
   "cell_type": "markdown",
   "metadata": {},
   "source": [
    "##  Preliminaries\n",
    "\n",
    "This illustrates how one might get the data - the first case demonstrates a hypothetical spectrum from NIRSpec/etc from JWST.  The second is a more generic \"I'm loading my data from a file\" case."
   ]
  },
  {
   "cell_type": "code",
   "execution_count": null,
   "metadata": {
    "collapsed": true
   },
   "outputs": [],
   "source": [
    "import specutils"
   ]
  },
  {
   "cell_type": "code",
   "execution_count": null,
   "metadata": {
    "collapsed": true
   },
   "outputs": [],
   "source": [
    "# if you have jwst data\n",
    "\n",
    "import jwsttools #NEEDS IMPLEMENTING\n",
    "\n",
    "program_data = jwsttools.download_program(pid=1234)\n",
    "spectral_collection = program_data.spectra\n",
    "spectra = spectral_collection.as_list()  "
   ]
  },
  {
   "cell_type": "markdown",
   "metadata": {},
   "source": [
    "Note re: the above: `SpectralCollection` doesn't yet exit... it might be it can be treated as a list in the end. But the point is that `spectra` should act like a list of `Spectrum1D` objects in the end to match the below cell."
   ]
  },
  {
   "cell_type": "code",
   "execution_count": null,
   "metadata": {
    "collapsed": true
   },
   "outputs": [],
   "source": [
    "# if you are from some random telescope that gave you any of the formats specutils can read\n",
    "from glob import glob\n",
    "\n",
    "fns = glob('my_awesome_spectra_*.fits')\n",
    "spectra = [specutils.Spectrum1D.read(fn) for fn in fns]"
   ]
  },
  {
   "cell_type": "markdown",
   "metadata": {},
   "source": [
    "## One spectrum vs many\n",
    "\n",
    "In most cases the user will be thinking about one spectrum.  They might do on as an example, and then apply the algorithms repeatedly (that's the case considered at the end of this notebook).  Others may wish to repeat these steps individually or in part for *every* spectrum in their dataset. In principal, `SpectrumCollection` will enable at least some of these steps.  For the sake of clarity, though (and simplicity in initial implementation), here we consider the \"one spectrum\" case, on the theory that the rest is either a for-loop or many copy-and-pasted cells."
   ]
  },
  {
   "cell_type": "code",
   "execution_count": null,
   "metadata": {
    "collapsed": true
   },
   "outputs": [],
   "source": [
    "spectrum = spectra[0]  # spectrum is now a specutils.Spectrum1D object"
   ]
  },
  {
   "cell_type": "markdown",
   "metadata": {},
   "source": [
    "## Viewing the spectrum\n",
    "\n",
    "Some sort of view of the spectrum is critical. Below we consider the \"easy\" and \"fancy\" versions: the rest of the notebook will mostly assume the former, but the idea is that some/all of the steps that require interaction could be automated in the \"fancy\" version."
   ]
  },
  {
   "cell_type": "code",
   "execution_count": 10,
   "metadata": {},
   "outputs": [
    {
     "data": {
      "image/png": "[encoded data removed]",
      "text/plain": [
       "<matplotlib.figure.Figure at 0x11478e898>"
      ]
     },
     "metadata": {},
     "output_type": "display_data"
    }
   ],
   "source": [
    "import specviz\n",
    "\n",
    "\n",
    "# This *might* belong in specutils, possibly even spectrum.plot() although that requires some discussion/decision\n",
    "specviz.plot_spectrum(spectrum)  "
   ]
  },
  {
   "cell_type": "markdown",
   "metadata": {},
   "source": [
    "OR"
   ]
  },
  {
   "cell_type": "code",
   "execution_count": 1,
   "metadata": {},
   "outputs": [
    {
     "name": "stdout",
     "output_type": "stream",
     "text": [
      "A FANCY NOTEBOOK-BASED SPECVIZ GUI GOES HERE!\n"
     ]
    }
   ],
   "source": [
    "specviz.show(spectrum)"
   ]
  },
  {
   "cell_type": "markdown",
   "metadata": {},
   "source": [
    "The GUI above could include most of the Qt specviz features, but in this view would be limited to interactive viewing/rescaling, and selection of ROIs.  "
   ]
  },
  {
   "cell_type": "markdown",
   "metadata": {},
   "source": [
    "## Step \"0\": continuum fitting\n",
    "\n",
    "Some spectra come out of their reduction pipeline continuum-subtracted, or the continuum might be so low that it's effectively missing.  In those cases this step isn't necessary.  In other cases, they come out of the pipeline flux calibrated (e.g., for HST spectra). In that case, for some science cases the user has their own continuum model that they construct and subtract from the spectrum (not addressed here, but allowing this step to be skipped). In yet other cases users want their model to *include* the continuum in some manner or another, leading to skipping the second part of this step.\n",
    "\n",
    "But assuming they *do* need to deal with the continuum, the first step is to create a model.  Specutils should include a \"reasonable\" continuum fitter that \"just works\" for some fairly typical use cases (e.g. optical spectra of stars or emission line galaxies).  The trouble is that the definition of \"typical use cases\" really depends on the setting.  So we will evetnually have a class of `fit_continuum_*` functions that do something sensible. But we can start with something in that vein that seems to work for some cases, along the lines of:"
   ]
  },
  {
   "cell_type": "code",
   "execution_count": null,
   "metadata": {
    "collapsed": true
   },
   "outputs": [],
   "source": [
    "continuum_model = specutils.fit_continuum_generic(spectrum)"
   ]
  },
  {
   "cell_type": "markdown",
   "metadata": {},
   "source": [
    "These are by design going to be a bit \"magical\", though.  So the user should also be able to just choose a reasonable continuum model and a fitter.  E.g.,"
   ]
  },
  {
   "cell_type": "code",
   "execution_count": null,
   "metadata": {
    "collapsed": true
   },
   "outputs": [],
   "source": [
    "continuum_model = specutils.fit_continuum(spectrum, model=Chebyshev1D(10), fitter=LinearLSQFitter())"
   ]
  },
  {
   "cell_type": "markdown",
   "metadata": {},
   "source": [
    "This is by design a very limited function that just does the fitting, perhaps some uncertainty-related operations (in the future) and perhaps some unit-related transforms. The expectation is that the `fit_continuum_*` functions typically call `fit_continuum` as their *final* step.  \n",
    "\n",
    "But some users of `fit_continuum` will want to do \"pre-steps\" because they want to have control like what they might expect from the [IRAF continuum task](http://stsdas.stsci.edu/cgi-bin/gethelp.cgi?continuum).  As an example, users might expect also to be able to average points together as part of continuum fitting. We should tell them they can do that as a separate smoothing/decimation step if that's what they want:"
   ]
  },
  {
   "cell_type": "code",
   "execution_count": null,
   "metadata": {
    "collapsed": true
   },
   "outputs": [],
   "source": [
    "averaged_spectrum = specutils.box_smooth(spectrum, 3)[::3]\n",
    "continuum_model = specutils.fit_continuum(averaged_spectrum)"
   ]
  },
  {
   "cell_type": "markdown",
   "metadata": {},
   "source": [
    "As more `fit_continuum_*` functions appear, that may become less necessary, but it should always be possible for a user to \"take full control\" that way if they want."
   ]
  },
  {
   "cell_type": "markdown",
   "metadata": {},
   "source": [
    "Additionally, for some spectra (like the one above), there might be spectral lines that \"infect\" the continuum measurements.  Users will want to be able to specify regions of the spectrum to be either fit or excluded from the fit.\n",
    "\n",
    "The actual selection of ROI's could be done using a specviz-style GUI.  Something like:"
   ]
  },
  {
   "cell_type": "code",
   "execution_count": 12,
   "metadata": {},
   "outputs": [
    {
     "name": "stdout",
     "output_type": "stream",
     "text": [
      "A FANCY NOTEBOOK-BASED SPECVIZ GUI GOES HERE\n",
      "The user uses that GUI to select a few areas they want to exclude from the continuum fit.\n"
     ]
    }
   ],
   "source": [
    "viz = specviz.show(spectrum)"
   ]
  },
  {
   "cell_type": "code",
   "execution_count": 15,
   "metadata": {},
   "outputs": [
    {
     "data": {
      "text/plain": [
       "[<Quantity [ 4900., 5100.] Angstrom>, <Quantity [ 6400., 6600.] Angstrom>]"
      ]
     },
     "execution_count": 15,
     "metadata": {},
     "output_type": "execute_result"
    }
   ],
   "source": [
    "to_exclude = viz.get_selections()\n",
    "to_exclude"
   ]
  },
  {
   "cell_type": "markdown",
   "metadata": {},
   "source": [
    "Or absent a GUI the user can simply specify the ranges manually:"
   ]
  },
  {
   "cell_type": "code",
   "execution_count": null,
   "metadata": {
    "collapsed": true
   },
   "outputs": [],
   "source": [
    "to_exclude = [(4900, 5100)*u.angstrom, (6400, 6600)*u.angstrom]"
   ]
  },
  {
   "cell_type": "markdown",
   "metadata": {},
   "source": [
    "For other tools like the analysis tasks, it's necessary to have an understood way to describe \"regions\". We can use the same machinery to implement convenience functions that \"slice out\" parts of spectrum:"
   ]
  },
  {
   "cell_type": "code",
   "execution_count": 18,
   "metadata": {},
   "outputs": [
    {
     "data": {
      "image/png": "[encoded data removed]",
      "text/plain": [
       "<matplotlib.figure.Figure at 0x116525d68>"
      ]
     },
     "metadata": {},
     "output_type": "display_data"
    }
   ],
   "source": [
    "exclude_region = SpectrumRegion(to_exclude)\n",
    "excised_spectrum = exclude_region.excise_regions(spectrum)\n",
    "specviz.plot_spectrum(excised_spectrum)"
   ]
  },
  {
   "cell_type": "markdown",
   "metadata": {},
   "source": [
    "And the user can then just use that for their continuum fit:"
   ]
  },
  {
   "cell_type": "code",
   "execution_count": null,
   "metadata": {
    "collapsed": true
   },
   "outputs": [],
   "source": [
    "continuum_model = specutils.fit_continuum_generic(excised_spectrum)"
   ]
  },
  {
   "cell_type": "markdown",
   "metadata": {},
   "source": [
    "That then yields the users' continuum model."
   ]
  },
  {
   "cell_type": "code",
   "execution_count": 11,
   "metadata": {},
   "outputs": [
    {
     "data": {
      "image/png": "[encoded data removed]",
      "text/plain": [
       "<matplotlib.figure.Figure at 0x1163f9390>"
      ]
     },
     "metadata": {},
     "output_type": "display_data"
    }
   ],
   "source": [
    "specviz.plot_spectrum(spectrum)\n",
    "plt.plot(spectrum.spectral_axis, continuum_model(spectrumXXX))"
   ]
  },
  {
   "cell_type": "markdown",
   "metadata": {},
   "source": [
    "Now that there's a model, the user can do subtraction, normalization, or just hold onto the model for later."
   ]
  },
  {
   "cell_type": "code",
   "execution_count": null,
   "metadata": {
    "collapsed": true
   },
   "outputs": [],
   "source": [
    "# This `model_to_spectrum` function is pretty straightforward to implement -\n",
    "# - probably just a few lines, which means it's debatable if it's worth writing.\n",
    "# but it's probably worth it because it's probably needed in several places.\n",
    "continuum_spectrum = specutils.model_to_spectrum(continuum_model, spectrum.spectral_axis) \n",
    "\n",
    "# because the continuum_spectrum is Spectrum1D, it's trivial arithmetic operations\n",
    "spectrum_consub = spectrum - continuum_spectrum\n",
    "spectrum_connorm = spectrum/continuum_spectrum"
   ]
  },
  {
   "cell_type": "markdown",
   "metadata": {},
   "source": [
    "The end result is a `Spectrum1D` that has been either:\n",
    "\n",
    "1. Unaltered \n",
    "2. Continuum-subtracted\n",
    "3. Continuum-normalized\n",
    "\n",
    "The steps below should accept all these cases, although not necessarily equally well."
   ]
  },
  {
   "cell_type": "markdown",
   "metadata": {},
   "source": [
    "## Step 1: Identify Lines"
   ]
  },
  {
   "cell_type": "markdown",
   "metadata": {},
   "source": [
    "The user should be able to ask both if there's a line in a particular spot or spots:"
   ]
  },
  {
   "cell_type": "code",
   "execution_count": 5,
   "metadata": {},
   "outputs": [
    {
     "data": {
      "text/plain": [
       "True"
      ]
     },
     "execution_count": 5,
     "metadata": {},
     "output_type": "execute_result"
    }
   ],
   "source": [
    "wl0 = 656.3*u.nm\n",
    "is_there_a_line_there(spec, wl0)  #needs a better name..."
   ]
  },
  {
   "cell_type": "code",
   "execution_count": 6,
   "metadata": {},
   "outputs": [
    {
     "data": {
      "text/plain": [
       "False"
      ]
     },
     "execution_count": 6,
     "metadata": {},
     "output_type": "execute_result"
    }
   ],
   "source": [
    "is_there_a_line_there(spec, 6200*u.AA) "
   ]
  },
  {
   "cell_type": "code",
   "execution_count": 9,
   "metadata": {},
   "outputs": [
    {
     "data": {
      "text/plain": [
       "array([ True, False,  True])"
      ]
     },
     "execution_count": 9,
     "metadata": {},
     "output_type": "execute_result"
    }
   ],
   "source": [
    "is_there_a_line_there(spec, [5007, 6200, 6563]*u.AA)"
   ]
  },
  {
   "cell_type": "markdown",
   "metadata": {},
   "source": [
    "rafds"
   ]
  },
  {
   "cell_type": "markdown",
   "metadata": {},
   "source": [
    "Optional: a ``z`` parameter.  This would be for galaxies that are redshifted where you want to pass in a line list and ask how many actually match.  But would could argue that the redshift state should be on the spectrum instead, or the line list should be shiftable, or similar:"
   ]
  },
  {
   "cell_type": "code",
   "execution_count": 10,
   "metadata": {},
   "outputs": [
    {
     "data": {
      "text/plain": [
       "array([ True,  True])"
      ]
     },
     "execution_count": 10,
     "metadata": {},
     "output_type": "execute_result"
    }
   ],
   "source": [
    "# if the spectrum is of a galaxy actually at reshift 0.2 this would work:\n",
    "is_there_a_line_there(spec, [5007, 6563]*u.AA, z=0.2)"
   ]
  },
  {
   "cell_type": "markdown",
   "metadata": {},
   "source": [
    "The user should also be able to ask \"give me all the lines\":"
   ]
  },
  {
   "cell_type": "code",
   "execution_count": 4,
   "metadata": {},
   "outputs": [
    {
     "data": {
      "text/latex": [
       "$[5006.9812,~6563.1454] \\; \\mathrm{\\mathring{A}}$"
      ],
      "text/plain": [
       "<Quantity [5006.98123414, 6563.14542   ] Angstrom>"
      ]
     },
     "execution_count": 4,
     "metadata": {},
     "output_type": "execute_result"
    }
   ],
   "source": [
    "wls = find_lines(spec, threshold=3) # threshold might be S/N? Something like that, anyway\n",
    "wls"
   ]
  },
  {
   "cell_type": "code",
   "execution_count": 7,
   "metadata": {},
   "outputs": [
    {
     "data": {
      "text/plain": [
       "True"
      ]
     },
     "execution_count": 7,
     "metadata": {},
     "output_type": "execute_result"
    }
   ],
   "source": [
    "# this should *always* be true - that is the user can expect the functions give consistent answers\n",
    "all([is_there_a_line_there(spec, wl) for wl in wls])"
   ]
  },
  {
   "cell_type": "markdown",
   "metadata": {},
   "source": [
    "Alternative: have these functions return the \"guess\" models instead of booleans/wl lists.  I think the above is better because it can be done very heuristically using e.g. flux vs S/N and a threshold. Or there could even be *both* options: e.g. `find_lines` and `find_model_lines`, where the former uses the `analysis` functions and the latter users the model-guessing stuff."
   ]
  },
  {
   "cell_type": "markdown",
   "metadata": {},
   "source": [
    "## Interlude: Simple Measurements"
   ]
  },
  {
   "cell_type": "markdown",
   "metadata": {},
   "source": [
    "Some users won't need to do full spectrum fitting.  Instead they might want to do simpler statistics like equivalent width, FWHM, etc. They should be able to start from this point as long as they specify the window for measurement:"
   ]
  },
  {
   "cell_type": "code",
   "execution_count": null,
   "metadata": {},
   "outputs": [],
   "source": [
    "from specutils.anlaysis import equivalent_width, fwhm"
   ]
  },
  {
   "cell_type": "code",
   "execution_count": 17,
   "metadata": {},
   "outputs": [
    {
     "data": {
      "image/png": "[encoded data removed]",
      "text/plain": [
       "<matplotlib.figure.Figure at 0x114493c88>"
      ]
     },
     "metadata": {},
     "output_type": "display_data"
    }
   ],
   "source": [
    "specviz.plot_spectrum(spectrum, 6000*u.angstrom, 7000*u.angstrom)"
   ]
  },
  {
   "cell_type": "code",
   "execution_count": 19,
   "metadata": {},
   "outputs": [
    {
     "data": {
      "text/latex": [
       "$50 \\; \\mathrm{\\mathring{A}}$"
      ],
      "text/plain": [
       "<Quantity 50.0 Angstrom>"
      ]
     },
     "execution_count": 19,
     "metadata": {},
     "output_type": "execute_result"
    }
   ],
   "source": [
    "region1 = (6400*u.angstrom, 6600*u.angstrom)\n",
    "fwhm(spectrum_consub, region1)"
   ]
  },
  {
   "cell_type": "code",
   "execution_count": null,
   "metadata": {},
   "outputs": [],
   "source": [
    "def signal_to_noise(spec, regs):\n",
    "    x1, x2 = reg.to_pixels(spec)\n",
    "    x1, x2 = spec.to_pixels(reg)\n",
    "    return np.sum(spec.data[x1:x2] / spec.uncertainty.to_std()[x1:x2])\n",
    "\n",
    "    for reg in regs:\n",
    "        subspec = spec.get_region(reg)\n",
    "        result.append( np.sum(subspec.flux) / std ) )\n",
    "    \n",
    "    \n",
    "... inside Spectrum1D ...\n",
    "def region_to_pixels(self, reg):\n",
    "    ...\n",
    "    ...\n",
    "    return self.wcs.world_to_pix(ref[0]), self.wcs.world_to_pix(ref[0]) \n",
    "\n",
    "def excise_spectrum(self, reg):\n",
    "    x1, x2 = self.region_to_pixels(reg)\n",
    "    x1 = int(np.ceil(x1))\n",
    "    x2 = int(np.floor(x2))\n",
    "    \n",
    "    return self[x1:x2]\n",
    "\n",
    "def flux(spec, reg):\n",
    "    return np.sum(spec.excise_spectrum(reg).flux)\n",
    "    \n",
    "\n",
    "def flux(spec, reg):\n",
    "    x1, x2 = self.region_to_pixels(reg)\n",
    "    center_flux = np.sum(spec.excise_spectrum(reg).flux)\n",
    "    wl1 = self.wcs.pix_to_world(x1)\n",
    "    wl2 = self.wcs.pix_to_world(np.ceil(x1))\n",
    "    wl3 = self.wcs.pix_to_world(np.floor(x1))\n",
    "    left side = flux_in_that_one_pixel[x1] * (wl2-wl1)/(wl3-wl2)\n",
    "    right_side = ...\n",
    "    return center_flux + left_side + right_side"
   ]
  },
  {
   "cell_type": "code",
   "execution_count": 21,
   "metadata": {},
   "outputs": [
    {
     "data": {
      "text/latex": [
       "$5 \\; \\mathrm{pix}$"
      ],
      "text/plain": [
       "<Quantity 5.0 pix>"
      ]
     },
     "execution_count": 21,
     "metadata": {},
     "output_type": "execute_result"
    }
   ],
   "source": [
    "fwhm(spectrum_consub, region1, u.pixel)"
   ]
  },
  {
   "cell_type": "code",
   "execution_count": 20,
   "metadata": {},
   "outputs": [
    {
     "data": {
      "text/latex": [
       "$20 \\; \\mathrm{\\mathring{A}}$"
      ],
      "text/plain": [
       "<Quantity 20.0 Angstrom>"
      ]
     },
     "execution_count": 20,
     "metadata": {},
     "output_type": "execute_result"
    }
   ],
   "source": [
    "region2 = SpectrumRegion(310*u.pixel, 330*u.pixel)\n",
    "equivalent_width(spectrum_consub, region2)"
   ]
  },
  {
   "cell_type": "code",
   "execution_count": 22,
   "metadata": {},
   "outputs": [
    {
     "ename": "ValueError",
     "evalue": "equivalent width does not make sense with pixels",
     "output_type": "error",
     "traceback": [
      "\u001b[0;31m---------------------------------------------------------------------------\u001b[0m",
      "\u001b[0;31mValueError\u001b[0m                                Traceback (most recent call last)",
      "\u001b[0;32m<ipython-input-22-7081c9e3cba2>\u001b[0m in \u001b[0;36m<module>\u001b[0;34m()\u001b[0m\n\u001b[0;32m----> 1\u001b[0;31m \u001b[0;32mraise\u001b[0m \u001b[0mValueError\u001b[0m\u001b[0;34m(\u001b[0m\u001b[0;34m'equivalent width does not make sense with pixels'\u001b[0m\u001b[0;34m)\u001b[0m\u001b[0;34m\u001b[0m\u001b[0m\n\u001b[0m",
      "\u001b[0;31mValueError\u001b[0m: equivalent width does not make sense with pixels"
     ]
    }
   ],
   "source": [
    "equivalent_width(spectrum_consub, region2, u.pixel)"
   ]
  },
  {
   "cell_type": "markdown",
   "metadata": {},
   "source": [
    "## Step 2: Line Guesses"
   ]
  },
  {
   "cell_type": "markdown",
   "metadata": {},
   "source": [
    "The basic version starts from step 1 and asks for the best guess model:"
   ]
  },
  {
   "cell_type": "code",
   "execution_count": 14,
   "metadata": {},
   "outputs": [
    {
     "data": {
      "text/plain": [
       "<Gaussian1D(amplitude=28.1231, mean=6562.1231, stddev=40.23)>"
      ]
     },
     "execution_count": 14,
     "metadata": {},
     "output_type": "execute_result"
    }
   ],
   "source": [
    "guess_line(spec, wl0, Gaussian1D)"
   ]
  },
  {
   "cell_type": "markdown",
   "metadata": {},
   "source": [
    "This should also work for Lorentz profiles since it's the same idea and the parameters only differ in that its FWHM instead of sigma:"
   ]
  },
  {
   "cell_type": "code",
   "execution_count": 21,
   "metadata": {},
   "outputs": [
    {
     "data": {
      "text/plain": [
       "<Lorentz1D(amplitude=28.1234, x_0=6562.1231, fwhm=102.5865)>"
      ]
     },
     "execution_count": 21,
     "metadata": {},
     "output_type": "execute_result"
    }
   ],
   "source": [
    "guess_line(spec, wl0, Lorentz1D)"
   ]
  },
  {
   "cell_type": "markdown",
   "metadata": {},
   "source": [
    "And Voigt profiles (which can get equal halves of each amplitude - see https://doi.org/10.1016/0022-4073(77)90161-3 for derivation of some of the magic numbers  to make e.g. fwhm's match - fwhm_full = 1.6375959202100432 fwhm_each.)"
   ]
  },
  {
   "cell_type": "code",
   "execution_count": 66,
   "metadata": {},
   "outputs": [
    {
     "data": {
      "text/plain": [
       "<Voigt1D(x_0=6562.1231, amplitude_L=39.8406783, fwhm_L=62.64457473, fwhm_G=62.64457473)>"
      ]
     },
     "execution_count": 66,
     "metadata": {},
     "output_type": "execute_result"
    }
   ],
   "source": [
    "guess_line(spec, wl0, Voigt1D)"
   ]
  },
  {
   "cell_type": "markdown",
   "metadata": {},
   "source": [
    "Option: Have these return \"False\" or similar if there's not a significant enough line.  That would be the `find_mdoel_lines` from the \"Alternative\" of step 1 in a way that doesn't require a separate function."
   ]
  },
  {
   "cell_type": "markdown",
   "metadata": {},
   "source": [
    "## Step 3: Fit Lines"
   ]
  },
  {
   "cell_type": "markdown",
   "metadata": {},
   "source": [
    "At this point most of the \"real\" work has been done.  The final step is to actually do the line fitting. For line-fitting, there's actually two broad categories of approaches users are likely to want, which require somewhat different interfaces, so we will address them separately."
   ]
  },
  {
   "cell_type": "markdown",
   "metadata": {},
   "source": [
    "### Approach 1: Separately fit each line"
   ]
  },
  {
   "cell_type": "markdown",
   "metadata": {},
   "source": [
    "The more traditional approach is to fit individual lines (and the region just around them) of a continuum-subtracted image. A single convenience function can do this given that the complexity of defining the models to fit has been dealt with above:"
   ]
  },
  {
   "cell_type": "code",
   "execution_count": null,
   "metadata": {
    "collapsed": true
   },
   "outputs": [],
   "source": [
    "fitted_lines = specutils.fit_lines(spectrum_consub, guess_models)"
   ]
  },
  {
   "cell_type": "markdown",
   "metadata": {},
   "source": [
    "The default parameters should be reasonable enough that this yields a list of line models matching the `guess_models`, but fitted to the spectrum.\n",
    "\n",
    "There are several options that should be available, though:"
   ]
  },
  {
   "cell_type": "code",
   "execution_count": null,
   "metadata": {
    "collapsed": true
   },
   "outputs": [],
   "source": [
    "fitted_lines = specutils.fit_lines(spectrum_consub, guess_models,\n",
    "                                   fitter=LinearLSQFitter(),\n",
    "                                   window='3-std',\n",
    "                                   weights=None)"
   ]
  },
  {
   "cell_type": "markdown",
   "metadata": {},
   "source": [
    "The `fitter` is simply the object that is used to fit the models to the data, a standard astropy fitter.\n",
    "\n",
    "The `window` keyword specifies the region to be cut-out surrounding the lines. This can be either an array or a scalar - in the array case it has to have a length that matches the models, and is a way to give a specific cut-out for *every* line.  The scalar case is for all-the-same.  In either the array or scalar case, the window should be possible to be specified in 4 different forms.\n",
    "\n",
    "* `'X-std'`: this means use X times the `std` parameter of the initial model (it could be *any* parameter name, but only that one really makes sense for a Gaussian).  That is, use the guesses from Step 2.  Note that this is a bit non-ideal because we would want it to just be something simple like 3sigma, and *not* have to have it be customized for different models.  Solving that could be done in the next round, though."
   ]
  },
  {
   "cell_type": "code",
   "execution_count": null,
   "metadata": {
    "collapsed": true
   },
   "outputs": [],
   "source": [
    "fitted_lines = specutils.fit_lines(spectrum_consub, guess_models,\n",
    "                                   window='3-std')"
   ]
  },
  {
   "cell_type": "markdown",
   "metadata": {},
   "source": [
    "* raw number (or Quantity with units of pixel): this means use a window that many pixels wide. "
   ]
  },
  {
   "cell_type": "code",
   "execution_count": null,
   "metadata": {
    "collapsed": true
   },
   "outputs": [],
   "source": [
    "# assume that the narrow_line/wide_line are taken from the guesses above\n",
    "fitted_lines = specutils.fit_lines(spectrum_consub, [narrow_line, wide_line],\n",
    "                                   fitter=LinearLSQFitter(),\n",
    "                                   window=[10, 30])"
   ]
  },
  {
   "cell_type": "markdown",
   "metadata": {},
   "source": [
    "* Quantity with units that match the `spectral_axis`: this means use a window that covers that range of the line."
   ]
  },
  {
   "cell_type": "code",
   "execution_count": null,
   "metadata": {
    "collapsed": true
   },
   "outputs": [],
   "source": [
    "fitted_lines = specutils.fit_lines(spectrum_consub, guess_models,\n",
    "                                   window=20*u.angstrom)"
   ]
  },
  {
   "cell_type": "markdown",
   "metadata": {},
   "source": [
    "* `SpectralRegion` objects - this specifies an exact set of regions to give the user full control."
   ]
  },
  {
   "cell_type": "code",
   "execution_count": null,
   "metadata": {
    "collapsed": true
   },
   "outputs": [],
   "source": [
    "# Same as the above, but use SpectrumRegion objects to set the window\n",
    "window1 = SpectrumRegion(100*u.pixel, 200*u.pixel)\n",
    "window2 = SpectrumRegion(6400*u.angstrom, 6600*u.angstrom)\n",
    "fitted_lines = specutils.fit_lines(spectrum_consub, [narrow_line, wide_line],\n",
    "                                   fitter=LinearLSQFitter(),\n",
    "                                   window=[window1, window2])"
   ]
  },
  {
   "cell_type": "markdown",
   "metadata": {},
   "source": [
    "The `weights` keyword is a weighting term to include.  Note also that this is *multiplied by* the mask in the spectrum.  It does *not* override the mask.  This needs to be stated very clearly in the docstring.\n",
    "\n",
    "\n",
    "For the first cut it can either be an None(the examples above), meaning no weighting, or alternatively an array of weights or a special string like `'ivar'`, as per below:"
   ]
  },
  {
   "cell_type": "code",
   "execution_count": null,
   "metadata": {
    "collapsed": true
   },
   "outputs": [],
   "source": [
    "weights = np.ones(len(sspectrum_contsub))\n",
    "weights = sspectrum_contsub.flux < -10*u.adu  # say we know for some reason that extreme-negative values are bad\n",
    "\n",
    "fitted_lines = specutils.fit_lines(spectrum_consub, guess_models,\n",
    "                                   weights=weights)"
   ]
  },
  {
   "cell_type": "code",
   "execution_count": null,
   "metadata": {
    "collapsed": true
   },
   "outputs": [],
   "source": [
    "fitted_lines = specutils.fit_lines(spectrum_consub, guess_models,\n",
    "                                   weights='ivar')"
   ]
  },
  {
   "cell_type": "markdown",
   "metadata": {},
   "source": [
    "In the `ivar` case it uses the inverse-variance (or raises an error if there's no uncertainty).  In the future more uncertaintainty-related options may be included.\n",
    "\n",
    "Note that the `fit_lines` function is expected to use much of the same machinery as `fit_continuum`, since it's essentially the same operation, just inside a for loop for the many-models case.  But that's hidden from the user because of the different \"pre-steps\" required for line-fitting."
   ]
  },
  {
   "cell_type": "markdown",
   "metadata": {},
   "source": [
    "### Approach 2: combined fit of all the components"
   ]
  },
  {
   "cell_type": "markdown",
   "metadata": {},
   "source": [
    "Another approach that has gained popularity of late due to improved computation and stellar models, is the \"full spectrum fitting\" or \"forward-modeling\" approach.  In this case the model is esentially a generative model of the full spectrum, and all of that is fit simultaneously.  Although Step 0-2 are largely the same, the fitting process is implemented quite differently, so it is logical to give it a distinct function, although it looks quite similar to the above approach."
   ]
  },
  {
   "cell_type": "markdown",
   "metadata": {},
   "source": [
    "Here the user has to combine all the above models to get a single model to fit:"
   ]
  },
  {
   "cell_type": "code",
   "execution_count": null,
   "metadata": {
    "collapsed": true
   },
   "outputs": [],
   "source": [
    "combined_model0 = specutils.combine_models([continuum_model] + guess_models)"
   ]
  },
  {
   "cell_type": "markdown",
   "metadata": {},
   "source": [
    "There are many possible keywords for the above function that we might want to add later, but for a first cut, it should *only* do the above, which is to create a composite model that is the sum of all the individual models."
   ]
  },
  {
   "cell_type": "markdown",
   "metadata": {},
   "source": [
    "Then the final fit is actually quite simple, re-using the `fitter` and `weights` arguments from Approach 1. (Note that probably this should use the same *underlying* function to ensure they act the same, but that's an implementation detail)"
   ]
  },
  {
   "cell_type": "code",
   "execution_count": null,
   "metadata": {
    "collapsed": true
   },
   "outputs": [],
   "source": [
    "combined_model, fitted_cont_and_lines = specutils.fit_full_spectrum(spectrum_consub, combined_model0,\n",
    "                                   fitter=LinearLSQFitter(),\n",
    "                                   weights=None)"
   ]
  },
  {
   "cell_type": "markdown",
   "metadata": {},
   "source": [
    "One critical difference from the above though: this returns both a single combined model *and* the individual models.  This is possible with the `astropy.modeling` machinery, but can be rather confusing.  So this provides an easier interface that automatically does it."
   ]
  },
  {
   "cell_type": "markdown",
   "metadata": {},
   "source": [
    "Utilizing either approach, the user should now be able to plot up the combined fits:"
   ]
  },
  {
   "cell_type": "code",
   "execution_count": 6,
   "metadata": {},
   "outputs": [
    {
     "data": {
      "image/png": "[encoded data removed]",
      "text/plain": [
       "<matplotlib.figure.Figure at 0x114fcec88>"
      ]
     },
     "metadata": {},
     "output_type": "display_data"
    }
   ],
   "source": [
    "specviz.plot_spectrum(spectrum, combined_model)"
   ]
  },
  {
   "cell_type": "markdown",
   "metadata": {},
   "source": [
    "## Step n: Wash, Rinse, and Repeat"
   ]
  },
  {
   "cell_type": "code",
   "execution_count": null,
   "metadata": {
    "collapsed": true
   },
   "outputs": [],
   "source": []
  },
  {
   "cell_type": "markdown",
   "metadata": {},
   "source": [
    "## Unanswered Questions\n",
    "\n",
    "* As outlined above, there is no understanding of what *kind* of `spectral_axis` a continuum or line fit model should correspond to.  One option would be to use the modeling unit machinery to force it to only be a specific unit, but that *might* be a lot of work (perhaps someone should try it?).  Alternatively, the models could just get an additional attribute `spectral_axis_type` that the user has to know to look for in their own custom code, but at least the `specutils` operations can catch if something doesn't match."
   ]
  },
  {
   "cell_type": "markdown",
   "metadata": {},
   "source": [
    "# Miscellaneous stuff (not part of the interface document)"
   ]
  },
  {
   "cell_type": "markdown",
   "metadata": {},
   "source": [
    "Below here is code to \"fake\" the plots above, etc.  Not a part of the actual document."
   ]
  },
  {
   "cell_type": "code",
   "execution_count": 1,
   "metadata": {
    "collapsed": true
   },
   "outputs": [],
   "source": [
    "import numpy as np\n",
    "\n",
    "from astropy import units as u\n",
    "from astropy.modeling import models\n",
    "from astropy.modeling.blackbody import FLAM\n",
    "\n",
    "%matplotlib inline\n",
    "from matplotlib import pyplot as plt"
   ]
  },
  {
   "cell_type": "code",
   "execution_count": 2,
   "metadata": {},
   "outputs": [
    {
     "data": {
      "image/png": "[encoded data removed]",
      "text/plain": [
       "<matplotlib.figure.Figure at 0x114452438>"
      ]
     },
     "metadata": {},
     "output_type": "display_data"
    }
   ],
   "source": [
    "fake_spectrum_x = np.logspace(np.log10(3900), np.log10(9000), 512)*u.angstrom\n",
    "continuum_spectrum = 500000*models.BlackBody1D(temperature=4800*u.K)(fake_spectrum_x).to(FLAM, u.spectral_density(fake_spectrum_x)).value\n",
    "fake_spectrum_noiseless = continuum_spectrum + models.Gaussian1D(20,6563, 45)(fake_spectrum_x.value)\n",
    "fake_spectrum_noiseless += models.Gaussian1D(40,5007, 25)(fake_spectrum_x.value)\n",
    "fake_spectrum = fake_spectrum_noiseless + 5*np.random.randn(len(fake_spectrum_x))\n",
    "\n",
    "plt.step(fake_spectrum_x, fake_spectrum)\n",
    "plt.xlabel('$\\lambda \\; [\\AA]$', fontsize=18)\n",
    "plt.ylabel('$Flux \\; [ADU]$', fontsize=18);"
   ]
  },
  {
   "cell_type": "code",
   "execution_count": 3,
   "metadata": {
    "collapsed": true
   },
   "outputs": [
    {
     "data": {
      "image/png": "[encoded data removed]",
      "text/plain": [
       "<matplotlib.figure.Figure at 0x114965e80>"
      ]
     },
     "metadata": {},
     "output_type": "display_data"
    }
   ],
   "source": [
    "plt.step(fake_spectrum_x, fake_spectrum)\n",
    "plt.plot(fake_spectrum_x, continuum_spectrum)\n",
    "plt.xlabel('$\\lambda \\; [\\AA]$', fontsize=18)\n",
    "plt.ylabel('$Flux \\; [ADU]$', fontsize=18);"
   ]
  },
  {
   "cell_type": "code",
   "execution_count": 4,
   "metadata": {},
   "outputs": [
    {
     "data": {
      "image/png": "[encoded data removed]",
      "text/plain": [
       "<matplotlib.figure.Figure at 0x114b14cc0>"
      ]
     },
     "metadata": {},
     "output_type": "display_data"
    }
   ],
   "source": [
    "to_exclude = [(4900, 5100)*u.angstrom, (6400, 6600)*u.angstrom]\n",
    "\n",
    "msk = (~((4900<fake_spectrum_x.value)&(fake_spectrum_x.value<5100))&\n",
    "       ~((6400<fake_spectrum_x.value)&(fake_spectrum_x.value<6600)))\n",
    "\n",
    "plt.step(fake_spectrum_x[msk], fake_spectrum[msk])\n",
    "plt.xlabel('$\\lambda \\; [\\AA]$', fontsize=18)\n",
    "plt.ylabel('$Flux \\; [ADU]$', fontsize=18);"
   ]
  },
  {
   "cell_type": "code",
   "execution_count": 5,
   "metadata": {},
   "outputs": [
    {
     "data": {
      "image/png": "[encoded data removed]",
      "text/plain": [
       "<matplotlib.figure.Figure at 0x114c91208>"
      ]
     },
     "metadata": {},
     "output_type": "display_data"
    }
   ],
   "source": [
    "plt.step(fake_spectrum_x, fake_spectrum)\n",
    "plt.plot(fake_spectrum_x, fake_spectrum_noiseless)\n",
    "plt.xlabel('$\\lambda \\; [\\AA]$', fontsize=18)\n",
    "plt.ylabel('$Flux \\; [ADU]$', fontsize=18);"
   ]
  },
  {
   "cell_type": "code",
   "execution_count": 17,
   "metadata": {},
   "outputs": [
    {
     "data": {
      "image/png": "[encoded data removed]",
      "text/plain": [
       "<matplotlib.figure.Figure at 0x114493c88>"
      ]
     },
     "metadata": {},
     "output_type": "display_data"
    }
   ],
   "source": [
    "plt.step(fake_spectrum_x, fake_spectrum)\n",
    "plt.xlim(6000, 7000)\n",
    "plt.xlabel('$\\lambda \\; [\\AA]$', fontsize=18)\n",
    "plt.ylabel('$Flux \\; [ADU]$', fontsize=18)\n",
    "plt.twiny()\n",
    "plt.xlim(np.interp(6000, fake_spectrum_x, np.arange(len(fake_spectrum_x))), np.interp(7000, fake_spectrum_x, np.arange(len(fake_spectrum_x))))\n",
    "plt.xlabel('pixels', fontsize=18);"
   ]
  }
 ],
 "metadata": {
  "kernelspec": {
   "display_name": "Python 3",
   "language": "python",
   "name": "python3"
  },
  "language_info": {
   "codemirror_mode": {
    "name": "ipython",
    "version": 3
   },
   "file_extension": ".py",
   "mimetype": "text/x-python",
   "name": "python",
   "nbconvert_exporter": "python",
   "pygments_lexer": "ipython3",
   "version": "3.6.4"
  }
 },
 "nbformat": 4,
 "nbformat_minor": 2
}
