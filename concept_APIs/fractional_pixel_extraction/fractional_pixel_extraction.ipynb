{
 "cells": [
  {
   "cell_type": "markdown",
   "metadata": {},
   "source": [
    "# 1D Fractional Pixel Spectral Extraction from NIRSpec IFU cube"
   ]
  },
  {
   "cell_type": "markdown",
   "metadata": {},
   "source": [
    "This notebook shows how to do fractional pixel extraction from a spectral IFU cube with variable extraction aperture as a function of wavelength."
   ]
  },
  {
   "cell_type": "code",
   "execution_count": null,
   "metadata": {},
   "outputs": [],
   "source": [
    "from astropy import units as u\n",
    "from astropy import wcs\n",
    "from astropy.io import fits\n",
    "from astropy.nddata import StdDevUncertainty\n",
    "from astropy.visualization import SqrtStretch\n",
    "from astropy.visualization.mpl_normalize import ImageNormalize\n",
    "from photutils import SkyCircularAperture, aperture_photometry\n",
    "from regions import read_ds9, CircleSkyRegion\n",
    "from specutils import Spectrum1D\n",
    "import glue_jupyter as gj\n",
    "import matplotlib\n",
    "from matplotlib import pyplot as plt\n",
    "import numpy as np\n",
    "\n",
    "%matplotlib inline"
   ]
  },
  {
   "cell_type": "markdown",
   "metadata": {},
   "source": [
    "### Grab the NIRSpec IFU cube data from Box"
   ]
  },
  {
   "cell_type": "code",
   "execution_count": null,
   "metadata": {},
   "outputs": [],
   "source": [
    "from urllib import request\n",
    "import os\n",
    "import tempfile\n",
    "\n",
    "url_base = \"https://data.science.stsci.edu/redirect/JWST/jwst-data_analysis_tools/cube_fitting/Q3D_20200407/\"\n",
    "filename = \"Q3D_NRS_491_s3d.fits\"\n",
    "url = f\"{url_base}{filename}\"\n",
    "\n",
    "tmpdir = tempfile.gettempdir()\n",
    "filename = os.path.join(tmpdir, filename)\n",
    "\n",
    "request.urlretrieve(url, filename=filename)\n",
    "print(filename)"
   ]
  },
  {
   "cell_type": "markdown",
   "metadata": {},
   "source": [
    "### Load the IFU cube into glue-jupyter viewer"
   ]
  },
  {
   "cell_type": "code",
   "execution_count": null,
   "metadata": {
    "scrolled": false
   },
   "outputs": [],
   "source": [
    "app = gj.jglue()\n",
    "app.load_data(filename)\n",
    "data_sci = \"Q3D_NRS_491_s3d[SCI]\"\n",
    "image_viewer = app.imshow(data=data_sci)"
   ]
  },
  {
   "cell_type": "markdown",
   "metadata": {},
   "source": [
    "**Stop!** Now select a circular region in the viewer above for the extraction aperture.  Then continue.\n",
    "\n",
    "Convert selected area above to an astropy region in pixel coordinates"
   ]
  },
  {
   "cell_type": "code",
   "execution_count": null,
   "metadata": {},
   "outputs": [],
   "source": [
    "data = app.data_collection[data_sci]\n",
    "pix_region = data.get_selection_definition(format='astropy-regions')\n",
    "print(pix_region)"
   ]
  },
  {
   "cell_type": "markdown",
   "metadata": {},
   "source": [
    "### Create a `SkyCircularAperture`"
   ]
  },
  {
   "cell_type": "code",
   "execution_count": null,
   "metadata": {},
   "outputs": [],
   "source": [
    "# Get the sci, err and wcs from the file\n",
    "with fits.open(filename, memmap=False) as hdulist:\n",
    "    sci = hdulist[\"SCI\"].data\n",
    "    err = hdulist[\"ERR\"].data\n",
    "    w = wcs.WCS(hdulist[1].header)\n",
    "\n",
    "# Convert CirclePixelRegion to CircleSkyRegion\n",
    "pixel_scale = np.sqrt(np.abs(np.prod(w.celestial.wcs.cdelt)))\n",
    "center = w.celestial.pixel_to_world(pix_region.center.x, pix_region.center.y)\n",
    "radius = pix_region.radius * pixel_scale * 3600 * u.arcsec\n",
    "region = CircleSkyRegion(center, radius)\n",
    "aperture = SkyCircularAperture(region.center, region.radius)\n",
    "print(aperture)"
   ]
  },
  {
   "cell_type": "markdown",
   "metadata": {},
   "source": [
    "Plot up our SkyCircularAperture and verify it reflects our selected region above in glue"
   ]
  },
  {
   "cell_type": "code",
   "execution_count": null,
   "metadata": {},
   "outputs": [],
   "source": [
    "pixel_region = region.to_pixel(w.celestial)\n",
    "ax = plt.subplots()[1]\n",
    "norm = ImageNormalize(stretch=SqrtStretch())\n",
    "ax.imshow(np.mean(sci, axis=0), cmap='gray', origin='lower', norm=norm)\n",
    "pixel_region.plot(axes=ax)"
   ]
  },
  {
   "cell_type": "markdown",
   "metadata": {},
   "source": [
    "### Now for each spatial slice, compute the sum in the aperture"
   ]
  },
  {
   "cell_type": "code",
   "execution_count": null,
   "metadata": {},
   "outputs": [],
   "source": [
    "# Read cube into Spectrum1D in order to do 1D extraction\n",
    "spec1d = Spectrum1D.read(filename)\n",
    "\n",
    "flux_sum = []\n",
    "err_sum = []\n",
    "\n",
    "# We will scale the aperture size linearly by wavelength.  Define the reference wavelength.\n",
    "reference_wavelength = spec1d.spectral_axis[0]\n",
    "\n",
    "for wavelength, sci_slice, err_slice in zip(spec1d.spectral_axis, sci, err):\n",
    "    aperture_radius = aperture.r * wavelength / reference_wavelength\n",
    "    aperture_cone = SkyCircularAperture(region.center, aperture_radius)\n",
    "    phot_table = aperture_photometry(sci_slice, aperture_cone, wcs=w.celestial,\n",
    "                                     method=\"exact\", error=err_slice)\n",
    "    flux_sum.append(phot_table[\"aperture_sum\"][0])\n",
    "    err_sum.append(phot_table[\"aperture_sum_err\"][0])\n",
    "\n",
    "flux = np.array(flux_sum) * spec1d.flux.unit\n",
    "uncertainty = StdDevUncertainty(np.array(err_sum))"
   ]
  },
  {
   "cell_type": "code",
   "execution_count": null,
   "metadata": {},
   "outputs": [],
   "source": [
    "# Put the extracted flux and uncertainty into a new Spectrum1D object\n",
    "extracted_spec = Spectrum1D(flux=flux, spectral_axis=spec1d.spectral_axis,\n",
    "                            uncertainty=uncertainty)"
   ]
  },
  {
   "cell_type": "markdown",
   "metadata": {},
   "source": [
    "### Plot it up"
   ]
  },
  {
   "cell_type": "code",
   "execution_count": null,
   "metadata": {},
   "outputs": [],
   "source": [
    "ax = plt.subplots()[1]\n",
    "ax.plot(extracted_spec.spectral_axis, extracted_spec.flux)\n",
    "ax.set_xlim(0.95,1.45)\n",
    "ax.set_ylim(0,50000)\n",
    "ax.set_xlabel(f\"Dispersion ({extracted_spec.spectral_axis.unit.to_string()})\")\n",
    "ax.set_ylabel(f\"Flux ({extracted_spec.flux.unit.to_string()})\")\n",
    "plt.plot()"
   ]
  }
 ],
 "metadata": {
  "kernelspec": {
   "display_name": "Python 3",
   "language": "python",
   "name": "python3"
  },
  "language_info": {
   "codemirror_mode": {
    "name": "ipython",
    "version": 3
   },
   "file_extension": ".py",
   "mimetype": "text/x-python",
   "name": "python",
   "nbconvert_exporter": "python",
   "pygments_lexer": "ipython3",
   "version": "3.7.6"
  }
 },
 "nbformat": 4,
 "nbformat_minor": 4
}
