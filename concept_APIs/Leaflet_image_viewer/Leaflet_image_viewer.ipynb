{
 "cells": [
  {
   "cell_type": "code",
   "execution_count": null,
   "metadata": {},
   "outputs": [],
   "source": [
    "import io\n",
    "import inspect\n",
    "import logging\n",
    "import threading\n",
    "\n",
    "import numpy as np\n",
    "\n",
    "from astropy.io import fits\n",
    "from astropy import units as u\n",
    "from astropy import wcs\n",
    "from astropy import visualization\n",
    "from astropy.visualization import wcsaxes\n",
    "from astropy.nddata import CCDData\n",
    "\n",
    "import ipywidgets\n",
    "\n",
    "from astroquery import mast\n",
    "\n",
    "from IPython import display\n",
    "\n",
    "import flask\n",
    "\n",
    "%matplotlib inline\n",
    "from matplotlib import pyplot as plt"
   ]
  },
  {
   "cell_type": "code",
   "execution_count": null,
   "metadata": {},
   "outputs": [],
   "source": [
    "\n",
    "\"\"\"\n",
    "Writing PNGs\n",
    "\"\"\"\n",
    "\n",
    "#-----------------------------------------------------------------------------\n",
    "# Copyright (c) 2013, yt Development Team.\n",
    "#\n",
    "# Distributed under the terms of the Modified BSD License.\n",
    "#\n",
    "# The full license is in the file COPYING.txt, distributed with this software.\n",
    "#-----------------------------------------------------------------------------\n",
    "\n",
    "import matplotlib._png as _png\n",
    "\n",
    "from io import BytesIO as StringIO\n",
    "\n",
    "def call_png_write_png(buffer, width, height, filename, dpi):\n",
    "    _png.write_png(buffer, filename, dpi)\n",
    "\n",
    "def write_png(buffer, filename, dpi=100):\n",
    "    width = buffer.shape[1]\n",
    "    height = buffer.shape[0]\n",
    "    call_png_write_png(buffer, width, height, filename, dpi)\n",
    "\n",
    "def write_png_to_string(buffer, dpi=100, gray=0):\n",
    "    width = buffer.shape[1]\n",
    "    height = buffer.shape[0]\n",
    "    fileobj = StringIO()\n",
    "    call_png_write_png(buffer, width, height, fileobj, dpi)\n",
    "    png_str = fileobj.getvalue()\n",
    "    fileobj.close()\n",
    "    return png_str"
   ]
  },
  {
   "cell_type": "code",
   "execution_count": null,
   "metadata": {},
   "outputs": [],
   "source": [
    "obses = mast.Observations.query_region('M32', radius=30*u.arcsec)\n",
    "\n",
    "acsm32 = obses[(obses['instrument_name']=='ACS/WFC')&(obses['filters']=='F555W')&(obses['obs_collection']=='HST')]\n",
    "acsm32 = acsm32[np.argmax(acsm32['t_exptime'])]\n",
    "acsm32"
   ]
  },
  {
   "cell_type": "code",
   "execution_count": null,
   "metadata": {},
   "outputs": [],
   "source": [
    "products = mast.Observations.get_product_list(acsm32)\n",
    "products[products['productSubGroupDescription']=='DRZ']"
   ]
  },
  {
   "cell_type": "code",
   "execution_count": null,
   "metadata": {},
   "outputs": [],
   "source": [
    "downloaded = mast.Observations.download_products(products[products['productSubGroupDescription']=='DRZ'])\n",
    "f = fits.open(downloaded['Local Path'][0])\n",
    "f.info()"
   ]
  },
  {
   "cell_type": "code",
   "execution_count": null,
   "metadata": {},
   "outputs": [],
   "source": [
    "c1 = CCDData(f[1].data, unit=u.electron, wcs=wcs.WCS(f[1].header, f), header=f[1].header)"
   ]
  },
  {
   "cell_type": "markdown",
   "metadata": {},
   "source": [
    "# Server "
   ]
  },
  {
   "cell_type": "code",
   "execution_count": null,
   "metadata": {},
   "outputs": [],
   "source": [
    "visdat = None\n",
    "def re_stretch(stretch):\n",
    "    global visdat\n",
    "    visdat = np.flip(stretch(c1.data), 0)\n",
    "re_stretch(visualization.stretch.LinearStretch())"
   ]
  },
  {
   "cell_type": "code",
   "execution_count": null,
   "metadata": {},
   "outputs": [],
   "source": [
    "def ccd_to_pngstr_app(dat):\n",
    "    return write_png_to_string((dat*255).astype('uint8')[:,:,np.newaxis])"
   ]
  },
  {
   "cell_type": "code",
   "execution_count": null,
   "metadata": {},
   "outputs": [],
   "source": [
    "logstream = io.StringIO()\n",
    "logging.basicConfig(stream=logstream)"
   ]
  },
  {
   "cell_type": "code",
   "execution_count": null,
   "metadata": {},
   "outputs": [],
   "source": [
    "app = flask.Flask(__name__)\n",
    "\n",
    "@app.route('/')\n",
    "def hello_world():\n",
    "    return 'Hello, World!'\n",
    "\n",
    "\n",
    "@app.route('/fits<int:cachebuster>/<string:z>/<int:x>/<int:y>.png')\n",
    "def get_subfits(z, x, y, cachebuster):\n",
    "    z = int(z)\n",
    "    if z < 0:\n",
    "        factor = 2**-z\n",
    "        wid = 256 * factor\n",
    "        xrng = slice(x*wid, (x+1)*wid, factor)\n",
    "        yrng = slice(y*wid, (y+1)*wid, factor)\n",
    "\n",
    "        subdat = visdat[yrng, xrng]\n",
    "    else:\n",
    "        wid = 256//(2**z)\n",
    "        xrng = slice(x*wid, (x+1)*wid)\n",
    "        yrng = slice(y*wid, (y+1)*wid)\n",
    "        subdat = visdat[yrng, xrng]\n",
    "        if z > 1:\n",
    "            subdat = subdat.repeat(z, 0).repeat(z, 1)\n",
    "            wid = subdat.shape[0]\n",
    "              \n",
    "    if subdat.shape != (wid, wid):\n",
    "        if 0 in subdat.shape:\n",
    "            1/0\n",
    "        else:\n",
    "            #pad out with nans\n",
    "            temp = subdat\n",
    "            subdat = np.empty((256, 256), dtype=temp.dtype)\n",
    "            subdat.fill(np.nan)\n",
    "            subdat[:temp.shape[0], :temp.shape[1]] = temp\n",
    "    return ccd_to_pngstr_app(subdat)"
   ]
  },
  {
   "cell_type": "markdown",
   "metadata": {},
   "source": [
    "## A threading approach "
   ]
  },
  {
   "cell_type": "code",
   "execution_count": null,
   "metadata": {},
   "outputs": [],
   "source": [
    "th = threading.Thread(target=lambda:app.run(debug=False, use_reloader=False, port=5001))\n",
    "th.start()"
   ]
  },
  {
   "cell_type": "markdown",
   "metadata": {},
   "source": [
    "# Start up view, run server below once server is running "
   ]
  },
  {
   "cell_type": "code",
   "execution_count": null,
   "metadata": {},
   "outputs": [],
   "source": [
    "viewerstr= \"\"\"\n",
    "<link rel=\"stylesheet\" href=\"https://unpkg.com/leaflet@1.4.0/dist/leaflet.css\" />\n",
    "<script src=\"https://unpkg.com/leaflet@1.4.0/dist/leaflet.js\"></script>\n",
    "  <style>\n",
    "    #map{ height: <HEIGHTPX>px;}\n",
    "  </style>\n",
    "  <div id=\"map\"></div>\n",
    "\n",
    "  <script>\n",
    "\n",
    "\n",
    "var map = L.map('map', {crs: L.CRS.Simple}).setView([1, 1], 1);\n",
    "\n",
    "map.redrawint = Math.floor( Math.random() * 200000 ) + 1\n",
    "var getRedrawInteger = function() {\n",
    "    return map.redrawint;\n",
    "};\n",
    "\n",
    "var fitslayer = L.tileLayer('http://127.0.0.1:5001/fits{cachebuster}/{z}/{x}/{y}.png', {\n",
    "    attribution: 'fitsfile', minZoom: -3, maxZoom:5, cachebuster: getRedrawInteger\n",
    "}).addTo(map);\n",
    "\n",
    "  </script>\n",
    "\"\"\".replace('<HEIGHTPX>', '600')\n",
    "\n",
    "slider = ipywidgets.FloatSlider(value=99, min=90, max=100, step=.01, description='Perc:')\n",
    "o2 = ipywidgets.Output()\n",
    "\n",
    "stretches = []\n",
    "for k,v in visualization.stretch.__dict__.items():\n",
    "    if inspect.isclass(v) and issubclass(v, visualization.BaseStretch) and v is not visualization.BaseStretch:\n",
    "        stretches.append((k, v))\n",
    "        \n",
    "stretch_dropdown = ipywidgets.Dropdown(options=stretches)\n",
    "\n",
    "def update():\n",
    "    re_stretch(stretch_dropdown.value() + visualization.PercentileInterval(slider.value))\n",
    "    with o2:\n",
    "        display.display(display.Javascript('map.redrawint += 1;fitslayer.redraw();'))\n",
    "        #display.display(change)\n",
    "    o2.clear_output()\n",
    "\n",
    "vals = []\n",
    "def on_slide_change(change):\n",
    "    vals.append(change['new'])\n",
    "    update()\n",
    "def on_dropdown_change(change):\n",
    "    vals.append(change['new'])\n",
    "    update()\n",
    "    \n",
    "slider.observe(on_slide_change, names='value')\n",
    "stretch_dropdown.observe(on_dropdown_change, names='value')\n",
    "\n",
    "o_js = ipywidgets.Output()\n",
    "with o_js:\n",
    "    display.display(display.HTML(viewerstr))\n",
    "    \n",
    "update()"
   ]
  },
  {
   "cell_type": "markdown",
   "metadata": {},
   "source": [
    "## Inline: "
   ]
  },
  {
   "cell_type": "code",
   "execution_count": null,
   "metadata": {},
   "outputs": [],
   "source": [
    "ipywidgets.VBox([o_js, ipywidgets.HBox([slider, stretch_dropdown]), o2])"
   ]
  },
  {
   "cell_type": "markdown",
   "metadata": {},
   "source": [
    "## OR in a sidecar: "
   ]
  },
  {
   "cell_type": "code",
   "execution_count": null,
   "metadata": {},
   "outputs": [],
   "source": [
    "from sidecar import Sidecar\n",
    "from ipywidgets import IntSlider\n",
    "\n",
    "sc = Sidecar(title='Imageviewer')\n",
    "with sc:\n",
    "    display.display(ipywidgets.VBox([o_js, o2]))\n",
    "ipywidgets.VBox([slider, stretch_dropdown])"
   ]
  },
  {
   "cell_type": "markdown",
   "metadata": {},
   "source": [
    "# CAVEATS/PROBLEMS:\n",
    "\n",
    "* The threading approach is bad as the thread is un-killable. Might be better to use multiprocessing, or not flask\n",
    "* A separate server is providing the tiles.  That server connection then has to be managed, an error-prone task if it's not on a local machine. If we could attach to the jupyter server itself that would be better."
   ]
  },
  {
   "cell_type": "code",
   "execution_count": null,
   "metadata": {},
   "outputs": [],
   "source": []
  },
  {
   "cell_type": "code",
   "execution_count": null,
   "metadata": {},
   "outputs": [],
   "source": [
    "stretch_dropdown"
   ]
  },
  {
   "cell_type": "code",
   "execution_count": null,
   "metadata": {},
   "outputs": [],
   "source": []
  },
  {
   "cell_type": "code",
   "execution_count": null,
   "metadata": {},
   "outputs": [],
   "source": []
  },
  {
   "cell_type": "markdown",
   "metadata": {},
   "source": [
    "# Blocking version "
   ]
  },
  {
   "cell_type": "code",
   "execution_count": null,
   "metadata": {},
   "outputs": [],
   "source": [
    "# BLOCKING!\n",
    "app.run(debug=True, use_reloader=False, port=5001)  #requires ipykernel>4.9 ..."
   ]
  },
  {
   "cell_type": "markdown",
   "metadata": {},
   "source": [
    "## A multiprocessing approach "
   ]
  },
  {
   "cell_type": "code",
   "execution_count": null,
   "metadata": {},
   "outputs": [],
   "source": [
    "import multiprocessing\n",
    "\n",
    "pserv = multiprocessing.Process(target=lambda:app.run(debug=True, use_reloader=False, port=5001))\n",
    "pserv.start()"
   ]
  },
  {
   "cell_type": "markdown",
   "metadata": {},
   "source": [
    "# Initial experiments on the data"
   ]
  },
  {
   "cell_type": "code",
   "execution_count": null,
   "metadata": {},
   "outputs": [],
   "source": [
    "fig = plt.figure(figsize=(10, 10))\n",
    "ax1 = plt.subplot(2, 1, 1, projection=c1.wcs)\n",
    "ax2 = plt.subplot(2, 1, 2, projection=c4.wcs)\n",
    "\n",
    "v1 = visualization.imshow_norm(c1, ax=ax1, \n",
    "                               stretch=visualization.AsinhStretch(), \n",
    "                               interval=visualization.PercentileInterval(97))\n",
    "v4 = visualization.imshow_norm(c4, ax=ax2, \n",
    "                               stretch=visualization.AsinhStretch(), \n",
    "                               interval=visualization.PercentileInterval(97))\n",
    "\n",
    "v4 = visualization.imshow_norm(c4, stretch=visualization.AsinhStretch(), \n",
    "                          interval=visualization.PercentileInterval(97))"
   ]
  },
  {
   "cell_type": "code",
   "execution_count": null,
   "metadata": {},
   "outputs": [],
   "source": [
    "ls = visualization.stretch.LogStretch()\n",
    "pi = visualization.PercentileInterval(99)\n",
    "comb = ls + pi\n",
    "comb2 = pi + ls\n",
    "\n",
    "%timeit comb(c1)\n",
    "%timeit comb2(c1)"
   ]
  },
  {
   "cell_type": "code",
   "execution_count": null,
   "metadata": {},
   "outputs": [],
   "source": [
    "%timeit pstr = write_png_to_string((comb(c1)*255).astype('uint8')[:,:,np.newaxis])"
   ]
  },
  {
   "cell_type": "code",
   "execution_count": null,
   "metadata": {},
   "outputs": [],
   "source": [
    "def ccd_to_pngstr(ccdd, stretch):\n",
    "    return write_png_to_string((stretch(ccdd.data)*255).astype('uint8')[:,:,np.newaxis])"
   ]
  },
  {
   "cell_type": "code",
   "execution_count": null,
   "metadata": {},
   "outputs": [],
   "source": [
    "for l,w in [(2048, 4096),(2048, 2048),(1024, 1024),(512, 512)]:\n",
    "    print(l, 'x', w)\n",
    "    %timeit ccd_to_pngstr(c1[:l,:w], comb)"
   ]
  },
  {
   "cell_type": "code",
   "execution_count": null,
   "metadata": {},
   "outputs": [],
   "source": [
    "(2048*4096)/(512*512)  * 19.7"
   ]
  },
  {
   "cell_type": "code",
   "execution_count": null,
   "metadata": {},
   "outputs": [],
   "source": [
    "display.Image(data=ccd_to_pngstr(c1[:512, :512], visualization.stretch.LogStretch() + visualization.PercentileInterval(99)))"
   ]
  }
 ],
 "metadata": {
  "kernelspec": {
   "display_name": "Python 3",
   "language": "python",
   "name": "python3"
  },
  "language_info": {
   "codemirror_mode": {
    "name": "ipython",
    "version": 3
   },
   "file_extension": ".py",
   "mimetype": "text/x-python",
   "name": "python",
   "nbconvert_exporter": "python",
   "pygments_lexer": "ipython3",
   "version": "3.6.7"
  }
 },
 "nbformat": 4,
 "nbformat_minor": 2
}
