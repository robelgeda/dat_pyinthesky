{
 "cells": [
  {
   "cell_type": "markdown",
   "metadata": {},
   "source": [
    "# TweakReg Matching of F606W 47 Tuc Geometric Distortion Images with the GAIA DR2 Catalog"
   ]
  },
  {
   "cell_type": "code",
   "execution_count": null,
   "metadata": {},
   "outputs": [],
   "source": [
    "import matplotlib.pyplot as plt\n",
    "import numpy as np\n",
    "import astropy.units as u\n",
    "from astropy.io import fits\n",
    "from astropy.io import ascii\n",
    "from astropy.table import Table\n",
    "from photutils import CircularAperture, SkyCircularAperture\n",
    "from astropy.coordinates import SkyCoord\n",
    "import astropy.wcs as wcs\n",
    "\n",
    "%matplotlib inline"
   ]
  },
  {
   "cell_type": "code",
   "execution_count": null,
   "metadata": {},
   "outputs": [],
   "source": [
    "flc_file = '/grp/hst/acs9/slhoffmann/geodist/idc2019/f606w/images/post/ja9bw2a5q_flc.fits'\n",
    "\n",
    "coo1_file = '/grp/hst/acs9/slhoffmann/geodist/idc2019/f606w/tweakreg/post/general/ja9bw2a5q_flc_sci1_xy_catalog.coo'\n",
    "coo2_file = '/grp/hst/acs9/slhoffmann/geodist/idc2019/f606w/tweakreg/post/general/ja9bw2a5q_flc_sci2_xy_catalog.coo'\n",
    "\n",
    "match_file = '/grp/hst/acs9/slhoffmann/geodist/idc2019/f606w/tweakreg/post/general/ja9bw2a5q_flc_catalog_fit.match'\n",
    "\n",
    "gaia_file = '/grp/hst/acs9/slhoffmann/geodist/idc2019/47tuc_gaia.poss'"
   ]
  },
  {
   "cell_type": "code",
   "execution_count": null,
   "metadata": {},
   "outputs": [],
   "source": [
    "# read in detection catalogs\n",
    "\n",
    "coords_tab_sci1 = Table.read(coo1_file, format='ascii.no_header', names=['X','Y','Flux', 'ID'])\n",
    "coords_tab_sci2 = Table.read(coo2_file, format='ascii.no_header', names=['X','Y','Flux', 'ID'])\n",
    "\n",
    "# read in fits file\n",
    "\n",
    "hdulist = fits.open(flc_file)"
   ]
  },
  {
   "cell_type": "code",
   "execution_count": null,
   "metadata": {},
   "outputs": [],
   "source": [
    "# Make the apertures with photutils. \n",
    "# One pixel offset corrects for differences between (0,0) and (1,1) origin systems. \n",
    "apertures_sci1 = CircularAperture([coords_tab_sci1['X'] - 1, coords_tab_sci1['Y'] - 1], r=10)\n",
    "apertures_sci2 = CircularAperture([coords_tab_sci2['X'] - 1, coords_tab_sci2['Y'] - 1], r=10)"
   ]
  },
  {
   "cell_type": "code",
   "execution_count": null,
   "metadata": {},
   "outputs": [],
   "source": [
    "# plot the sources on the image\n",
    "\n",
    "# Plot a region of the image with pyplot\n",
    "plt.figure(figsize=(20, 20))\n",
    "plt.imshow(hdulist[1].data, cmap='Greys', origin='lower', vmin=0, vmax=400)\n",
    "\n",
    "# Overplot the apertures onto the image\n",
    "apertures_sci1.plot(color='blue', lw=1)"
   ]
  },
  {
   "cell_type": "code",
   "execution_count": null,
   "metadata": {},
   "outputs": [],
   "source": [
    "# plot the sources on the image\n",
    "\n",
    "# Plot a region of the image with pyplot\n",
    "plt.figure(figsize=(20, 20))\n",
    "plt.imshow(hdulist[4].data, cmap='Greys', origin='lower', vmin=0, vmax=400)\n",
    "\n",
    "# Overplot the apertures onto the image\n",
    "apertures_sci2.plot(color='blue', lw=1)"
   ]
  },
  {
   "cell_type": "code",
   "execution_count": null,
   "metadata": {},
   "outputs": [],
   "source": [
    "# now plot matched sources on image\n",
    "\n",
    "match_tab = ascii.read(match_file)\n",
    "x_coord, y_coord = match_tab['col11'], match_tab['col12']\n",
    "\n",
    "match_apertures = CircularAperture([x_coord, y_coord], r=10.)"
   ]
  },
  {
   "cell_type": "code",
   "execution_count": null,
   "metadata": {},
   "outputs": [],
   "source": [
    "# Plot a region of the image with pyplot\n",
    "plt.figure(figsize=(20, 20))\n",
    "plt.imshow(hdulist[4].data, cmap='Greys', origin='lower', vmin=0, vmax=400)\n",
    "\n",
    "# Overplot the apertures onto the image\n",
    "match_apertures.plot(color='red', lw=1)"
   ]
  },
  {
   "cell_type": "code",
   "execution_count": null,
   "metadata": {},
   "outputs": [],
   "source": [
    "# Plot a region of the image with pyplot\n",
    "plt.figure(figsize=(20, 20))\n",
    "plt.imshow(hdulist[1].data, cmap='Greys', origin='lower', vmin=0, vmax=400)\n",
    "\n",
    "# Overplot the apertures onto the image\n",
    "match_apertures.plot(color='red', lw=1)"
   ]
  },
  {
   "cell_type": "code",
   "execution_count": null,
   "metadata": {},
   "outputs": [],
   "source": [
    "# read in gaia catalog\n",
    "\n",
    "gaia_tab = Table.read(\n",
    "    gaia_file, format='ascii.no_header',\n",
    "    names=['X','Y','Mag', 'RA', 'DEC', 'ERR1', 'ERR2'])"
   ]
  },
  {
   "cell_type": "code",
   "execution_count": null,
   "metadata": {},
   "outputs": [],
   "source": [
    "gaia_tab"
   ]
  },
  {
   "cell_type": "code",
   "execution_count": null,
   "metadata": {},
   "outputs": [],
   "source": [
    "gaia_sky_apertures = SkyCircularAperture(SkyCoord(\n",
    "    gaia_tab['RA'], gaia_tab['DEC'], unit='deg'), r=0.5*u.arcsec)"
   ]
  },
  {
   "cell_type": "code",
   "execution_count": null,
   "metadata": {},
   "outputs": [],
   "source": [
    "# Get NoConvergence error\n",
    "#gaia_apertures_sci1 = gaia_sky_apertures.to_pixel(wcs.WCS(hdulist[1].header, hdulist))"
   ]
  },
  {
   "cell_type": "code",
   "execution_count": null,
   "metadata": {},
   "outputs": [],
   "source": [
    "gaia_apertures_sci2 = gaia_sky_apertures.to_pixel(wcs.WCS(hdulist[4].header, hdulist))"
   ]
  },
  {
   "cell_type": "code",
   "execution_count": null,
   "metadata": {},
   "outputs": [],
   "source": [
    "# plot\n",
    "\n",
    "# Plot a region of the image with pyplot\n",
    "plt.figure(figsize=(20, 20))\n",
    "plt.imshow(hdulist[4].data, cmap='Greys', origin='lower', vmin=0, vmax=400)\n",
    "\n",
    "# Overplot the apertures onto the image\n",
    "gaia_apertures_sci2.plot(color='purple', lw=1)"
   ]
  },
  {
   "cell_type": "code",
   "execution_count": null,
   "metadata": {},
   "outputs": [],
   "source": [
    "hdulist.close()"
   ]
  }
 ],
 "metadata": {
  "kernelspec": {
   "display_name": "Python 3",
   "language": "python",
   "name": "python3"
  },
  "language_info": {
   "codemirror_mode": {
    "name": "ipython",
    "version": 3
   },
   "file_extension": ".py",
   "mimetype": "text/x-python",
   "name": "python",
   "nbconvert_exporter": "python",
   "pygments_lexer": "ipython3",
   "version": "3.7.1"
  }
 },
 "nbformat": 4,
 "nbformat_minor": 2
}
