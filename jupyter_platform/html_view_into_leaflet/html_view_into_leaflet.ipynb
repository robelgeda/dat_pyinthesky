{
 "cells": [
  {
   "cell_type": "code",
   "execution_count": null,
   "metadata": {},
   "outputs": [],
   "source": [
    "import io\n",
    "import os\n",
    "import inspect\n",
    "import logging\n",
    "import threading\n",
    "import random\n",
    "\n",
    "import numpy as np\n",
    "\n",
    "from astropy.io import fits\n",
    "from astropy import units as u\n",
    "from astropy import wcs\n",
    "from astropy import visualization\n",
    "from astropy.visualization import wcsaxes\n",
    "from astropy.nddata import CCDData\n",
    "from astropy.utils.data import download_file\n",
    "\n",
    "import ipywidgets\n",
    "\n",
    "from astroquery import mast\n",
    "\n",
    "from IPython import display\n",
    "\n",
    "import flask\n",
    "\n",
    "%matplotlib inline\n",
    "from matplotlib import pyplot as plt"
   ]
  },
  {
   "cell_type": "code",
   "execution_count": null,
   "metadata": {},
   "outputs": [],
   "source": [
    "default_file_name = 'https://astropy.stsci.edu/data/photometry/spitzer_example_image.fits'\n",
    "\n",
    "ccdis = []"
   ]
  },
  {
   "cell_type": "code",
   "execution_count": null,
   "metadata": {},
   "outputs": [],
   "source": [
    "filename = download_file(default_file_name)\n",
    "print(filename)"
   ]
  },
  {
   "cell_type": "code",
   "execution_count": null,
   "metadata": {},
   "outputs": [],
   "source": [
    "ccdis.append(CCDData.read(filename))"
   ]
  },
  {
   "cell_type": "code",
   "execution_count": null,
   "metadata": {},
   "outputs": [],
   "source": [
    "\n",
    "\"\"\"\n",
    "Writing PNGs\n",
    "\"\"\"\n",
    "\n",
    "#-----------------------------------------------------------------------------\n",
    "# Copyright (c) 2013, yt Development Team.\n",
    "#\n",
    "# Distributed under the terms of the Modified BSD License.\n",
    "#\n",
    "# The full license is in the file COPYING.txt, distributed with this software.\n",
    "#-----------------------------------------------------------------------------\n",
    "\n",
    "import matplotlib._png as _png\n",
    "\n",
    "from io import BytesIO as StringIO\n",
    "\n",
    "def call_png_write_png(buffer, width, height, filename, dpi):\n",
    "    _png.write_png(buffer, filename, dpi)\n",
    "\n",
    "def write_png(buffer, filename, dpi=100):\n",
    "    width = buffer.shape[1]\n",
    "    height = buffer.shape[0]\n",
    "    call_png_write_png(buffer, width, height, filename, dpi)\n",
    "\n",
    "def write_png_to_string(buffer, dpi=100, gray=0):\n",
    "    width = buffer.shape[1]\n",
    "    height = buffer.shape[0]\n",
    "    fileobj = StringIO()\n",
    "    call_png_write_png(buffer, width, height, fileobj, dpi)\n",
    "    png_str = fileobj.getvalue()\n",
    "    fileobj.close()\n",
    "    return png_str"
   ]
  },
  {
   "cell_type": "code",
   "execution_count": null,
   "metadata": {},
   "outputs": [],
   "source": [
    "# SERVER:\n",
    "\n",
    "visdat = None\n",
    "_last_stretch = None\n",
    "def re_stretch(stretch):\n",
    "    global visdat, _last_stretch\n",
    "    visdat = np.flip(stretch(ccdis[0].data), 0)\n",
    "    _last_stretch = stretch\n",
    "re_stretch(visualization.LogStretch() + visualization.PercentileInterval(99))\n",
    "\n",
    "def ccd_to_pngstr_app(dat):\n",
    "    return write_png_to_string((dat*255).astype('uint8')[:,:,np.newaxis])\n",
    "\n",
    "logstream = io.StringIO()\n",
    "logging.basicConfig(stream=logstream)\n",
    "\n",
    "app = flask.Flask(__name__)\n",
    "\n",
    "@app.route('/')\n",
    "def hello_world():\n",
    "    return 'Hello, World!'\n",
    "\n",
    "\n",
    "@app.route('/fits<int:cachebuster>/<string:z>/<int:x>/<int:y>.png')\n",
    "def get_subfits(z, x, y, cachebuster):\n",
    "    z = int(z)\n",
    "    z0 = np.log2(256/visdat.shape[0])\n",
    "    z = z  - 1 + z0\n",
    "    z = int(np.ceil(z))\n",
    "    \n",
    "    if z < 0:\n",
    "        factor = 2**-z\n",
    "        wid = 256 * factor\n",
    "        xrng = slice(x*wid, (x+1)*wid, factor)\n",
    "        yrng = slice(y*wid, (y+1)*wid, factor)\n",
    "\n",
    "        subdat = visdat[yrng, xrng]\n",
    "    else:\n",
    "        wid = 256//(2**z)\n",
    "        xrng = slice(x*wid, (x+1)*wid)\n",
    "        yrng = slice(y*wid, (y+1)*wid)\n",
    "        subdat = visdat[yrng, xrng]\n",
    "        if z > 1:\n",
    "            subdat = subdat.repeat(z, 0).repeat(z, 1)\n",
    "            wid = subdat.shape[0]\n",
    "              \n",
    "    if subdat.shape != (wid, wid):\n",
    "        if 0 in subdat.shape:\n",
    "            1/0\n",
    "        else:\n",
    "            #pad out with nans\n",
    "            temp = subdat\n",
    "            subdat = np.empty((256, 256), dtype=temp.dtype)\n",
    "            subdat.fill(np.nan)\n",
    "            subdat[:temp.shape[0], :temp.shape[1]] = temp\n",
    "    return ccd_to_pngstr_app(subdat)\n",
    "\n",
    "#app.run(debug=True, use_reloader=False, port=5013)"
   ]
  },
  {
   "cell_type": "code",
   "execution_count": null,
   "metadata": {},
   "outputs": [],
   "source": [
    "th = threading.Thread(target=lambda:app.run(debug=False, use_reloader=False, port=5013))\n",
    "th.start()"
   ]
  },
  {
   "cell_type": "code",
   "execution_count": null,
   "metadata": {},
   "outputs": [],
   "source": [
    "import ipyleaflet"
   ]
  },
  {
   "cell_type": "code",
   "execution_count": null,
   "metadata": {},
   "outputs": [],
   "source": [
    "url_templ = 'http://127.0.0.1:5013/fitsNUM/{z}/{x}/{y}.png'\n",
    "\n",
    "m = ipyleaflet.Map(center=(60, 0), zoom=2, layers=[], \n",
    "                   min_zoom=1, scroll_wheel_zoom=True)\n",
    "\n",
    "\n",
    "cachebuster_int = random.randint(0, 1000000)\n",
    "local_fits_layer = ipyleaflet.basemap_to_tiles({'url': url_templ.replace('NUM', str(cachebuster_int)), \n",
    "                                                'attribution': 'fitsfile'})\n",
    "local_fits_layer.cachebuster_int = cachebuster_int\n",
    "\n",
    "m.add_layer(local_fits_layer)\n",
    "\n",
    "m"
   ]
  },
  {
   "cell_type": "markdown",
   "metadata": {},
   "source": [
    "# Interactivity: "
   ]
  },
  {
   "cell_type": "code",
   "execution_count": null,
   "metadata": {},
   "outputs": [],
   "source": [
    "def refresh():\n",
    "    local_fits_layer.cachebuster_int += 1\n",
    "    local_fits_layer.url = url_templ.replace('NUM', str(local_fits_layer.cachebuster_int))\n",
    "    \n",
    "def rere_stretch(stretch):\n",
    "    re_stretch(stretch)\n",
    "    refresh()\n",
    "    \n",
    "def load_file(fn, **kwargs):\n",
    "    ccdis[0] = CCDData.read(fn, **kwargs)\n",
    "    rere_stretch(_last_stretch)"
   ]
  },
  {
   "cell_type": "code",
   "execution_count": null,
   "metadata": {},
   "outputs": [],
   "source": [
    "rere_stretch(visualization.LogStretch() + visualization.PercentileInterval(95))"
   ]
  },
  {
   "cell_type": "code",
   "execution_count": null,
   "metadata": {},
   "outputs": [],
   "source": [
    "# note: the cell below assumes the existence of a specific example file.\n",
    "# uncomment the code below to download that file.\n",
    "\n",
    "from urllib.request import urlretrieve\n",
    "urlretrieve('https://mast.stsci.edu/api/v0.1/Download/file/?uri=mast:HST/product/jclj01tvq_flc.fits', \n",
    "            'jclj01tvq_flc.fits')"
   ]
  },
  {
   "cell_type": "code",
   "execution_count": null,
   "metadata": {},
   "outputs": [],
   "source": [
    "load_file('jclj01tvq_flc.fits', \n",
    "          unit=u.count,\n",
    "          hdu=4)"
   ]
  },
  {
   "cell_type": "code",
   "execution_count": null,
   "metadata": {},
   "outputs": [],
   "source": [
    "rere_stretch(visualization.LogStretch() + \n",
    "             visualization.AsymmetricPercentileInterval(50, 99.9))"
   ]
  }
 ],
 "metadata": {
  "kernelspec": {
   "display_name": "Python 3",
   "language": "python",
   "name": "python3"
  },
  "language_info": {
   "codemirror_mode": {
    "name": "ipython",
    "version": 3
   },
   "file_extension": ".py",
   "mimetype": "text/x-python",
   "name": "python",
   "nbconvert_exporter": "python",
   "pygments_lexer": "ipython3",
   "version": "3.7.1"
  }
 },
 "nbformat": 4,
 "nbformat_minor": 2
}
