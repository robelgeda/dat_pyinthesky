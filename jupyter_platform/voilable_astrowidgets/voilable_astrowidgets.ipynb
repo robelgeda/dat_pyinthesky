{
 "cells": [
  {
   "cell_type": "code",
   "execution_count": null,
   "metadata": {},
   "outputs": [],
   "source": [
    "import os\n",
    "import sys\n",
    "\n",
    "import astrowidgets"
   ]
  },
  {
   "cell_type": "code",
   "execution_count": null,
   "metadata": {},
   "outputs": [],
   "source": [
    "default_file_name = 'https://astropy.stsci.edu/data/photometry/spitzer_example_image.fits'\n",
    "if os.path.exists('.toload_astrowidgets'):\n",
    "    with open('.toload_astrowidgets') as f:\n",
    "        s = f.read()\n",
    "        if s.strip() != '':\n",
    "            default_file_name = s.strip()\n",
    "    os.unlink('.toload_astrowidgets')"
   ]
  },
  {
   "cell_type": "code",
   "execution_count": null,
   "metadata": {},
   "outputs": [],
   "source": [
    "import ipywidgets\n",
    "from astrowidgets import ImageWidget\n",
    "\n",
    "from astropy.nddata import CCDData\n",
    "from astropy import units as u\n",
    "\n",
    "w = ImageWidget()\n",
    "zoom_slider = ipywidgets.FloatSlider(min=.1, max=5, step=.1, value=.4)\n",
    "\n",
    "def f(data):\n",
    "    w.zoom_level = zoom_slider.value\n",
    "zoom_slider.observe(f, 'value')"
   ]
  },
  {
   "cell_type": "code",
   "execution_count": null,
   "metadata": {},
   "outputs": [],
   "source": [
    "toload_widget = ipywidgets.Text(default_file_name)\n",
    "toload_widget.layout.width='26em'\n",
    "hdunum_widget = ipywidgets.IntText(0)\n",
    "hdunum_widget.layout.width = '50px'\n",
    "load_button = ipywidgets.Button(description='Load')\n",
    "load_button.layout.width = '5em'\n",
    "\n",
    "def load_func(button):\n",
    "    ccd = CCDData.read(toload_widget.value, hdu=hdunum_widget.value, format='fits', unit=u.count)\n",
    "    w.load_nddata(ccd)\n",
    "load_button.on_click(load_func)\n",
    "\n",
    "def load_filename(fn):\n",
    "    toload_widget.value = fn\n",
    "    load_func(None)\n",
    "\n",
    "load_box = ipywidgets.HBox([toload_widget, hdunum_widget, load_button])"
   ]
  },
  {
   "cell_type": "code",
   "execution_count": null,
   "metadata": {},
   "outputs": [],
   "source": [
    "load_func(None)\n",
    "f(None)\n",
    "\n",
    "ipywidgets.VBox([load_box, w, zoom_slider])"
   ]
  },
  {
   "cell_type": "code",
   "execution_count": null,
   "metadata": {},
   "outputs": [],
   "source": [
    "print('Consider loading https://data.sdss.org/sas/dr14/eboss/photoObj/frames/301/3712/3/frame-r-003712-3-0187.fits.bz2')"
   ]
  },
  {
   "cell_type": "code",
   "execution_count": null,
   "metadata": {},
   "outputs": [],
   "source": [
    "# note: the file below is retreivable from MAST at https://mast.stsci.edu/api/v0.1/Download/file\\?uri=mast:HST/product/jclj01tvq_flc.fits\n",
    "#load_filename('jclj01tvq_flc.fits')"
   ]
  }
 ],
 "metadata": {
  "language_info": {
   "codemirror_mode": {
    "name": "ipython",
    "version": 3
   },
   "file_extension": ".py",
   "mimetype": "text/x-python",
   "name": "python",
   "nbconvert_exporter": "python",
   "pygments_lexer": "ipython3",
   "version": "3.6.7"
  }
 },
 "nbformat": 4,
 "nbformat_minor": 2
}
